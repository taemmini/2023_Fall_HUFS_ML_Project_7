{
 "cells": [
  {
   "cell_type": "markdown",
   "source": [
    "# 레이블 만들기"
   ],
   "metadata": {
    "collapsed": false
   },
   "id": "3d114fa8d996a4df"
  },
  {
   "cell_type": "code",
   "execution_count": 53,
   "id": "initial_id",
   "metadata": {
    "collapsed": true,
    "ExecuteTime": {
     "end_time": "2023-11-24T13:55:46.169092Z",
     "start_time": "2023-11-24T13:55:46.149004Z"
    }
   },
   "outputs": [
    {
     "name": "stdout",
     "output_type": "stream",
     "text": [
      "Labels successfully saved to Datasets_Captcha/Captcha_labels.csv\n"
     ]
    }
   ],
   "source": [
    "import csv\n",
    "import os\n",
    "import pandas as pd\n",
    "\n",
    "# 이미지가 저장된 디렉토리 경로 설정\n",
    "image_dir = 'Datasets_Captcha'\n",
    "csv_path = ('Datasets_Captcha/Captcha_labels.csv')\n",
    "\n",
    "# 레이블 데이터를 저장할 데이터 구조 초기화\n",
    "labels = []\n",
    "\n",
    "# 디렉토리 내의 모든 파일을 순회\n",
    "for filename in os.listdir(image_dir):\n",
    "    if filename.endswith('.jpg') or filename.endswith('.jpeg'):  # JPEG 이미지만 처리\n",
    "        # 파일 이름을 '_' 기준으로 분할\n",
    "        parts = filename.split('_')\n",
    "        if len(parts) > 1:\n",
    "            # 레이블 번호와 캡챠 문자 부분 추출\n",
    "            label_number = parts[0]\n",
    "            captcha_text = parts[1].split('.')[0]  # 파일 확장자 제거\n",
    "            # 이미지 경로와 추출된 레이블을 저장\n",
    "            labels.append((int(label_number), captcha_text))\n",
    "\n",
    "# 레이블 번호 기준으로 데이터 정렬\n",
    "labels.sort(key=lambda x: x[0])\n",
    "\n",
    "# CSV 파일에 데이터 쓰기\n",
    "with open(csv_path, mode='w', newline='', encoding='utf-8') as file:\n",
    "    writer = csv.writer(file)\n",
    "    # CSV 헤더 작성\n",
    "    writer.writerow(['CAPTCHA_label'])\n",
    "    # 데이터 작성\n",
    "    for _, captcha_text in labels:\n",
    "        writer.writerow([captcha_text])\n",
    "\n",
    "# 완료 메시지\n",
    "print(f'Labels successfully saved to {csv_path}')"
   ]
  },
  {
   "cell_type": "code",
   "execution_count": 54,
   "outputs": [
    {
     "data": {
      "text/plain": "  CAPTCHA_label\n0        vgxrub\n1        ne2bt2\n2        tdk6mf\n3        hvpvkx\n4        6dmens",
      "text/html": "<div>\n<style scoped>\n    .dataframe tbody tr th:only-of-type {\n        vertical-align: middle;\n    }\n\n    .dataframe tbody tr th {\n        vertical-align: top;\n    }\n\n    .dataframe thead th {\n        text-align: right;\n    }\n</style>\n<table border=\"1\" class=\"dataframe\">\n  <thead>\n    <tr style=\"text-align: right;\">\n      <th></th>\n      <th>CAPTCHA_label</th>\n    </tr>\n  </thead>\n  <tbody>\n    <tr>\n      <th>0</th>\n      <td>vgxrub</td>\n    </tr>\n    <tr>\n      <th>1</th>\n      <td>ne2bt2</td>\n    </tr>\n    <tr>\n      <th>2</th>\n      <td>tdk6mf</td>\n    </tr>\n    <tr>\n      <th>3</th>\n      <td>hvpvkx</td>\n    </tr>\n    <tr>\n      <th>4</th>\n      <td>6dmens</td>\n    </tr>\n  </tbody>\n</table>\n</div>"
     },
     "execution_count": 54,
     "metadata": {},
     "output_type": "execute_result"
    }
   ],
   "source": [
    "labels_df = pd.read_csv(csv_path)\n",
    "labels_df.head()"
   ],
   "metadata": {
    "collapsed": false,
    "ExecuteTime": {
     "end_time": "2023-11-24T13:55:47.280855Z",
     "start_time": "2023-11-24T13:55:47.273175Z"
    }
   },
   "id": "13985c41da6d6102"
  },
  {
   "cell_type": "markdown",
   "source": [
    "- 완성!"
   ],
   "metadata": {
    "collapsed": false
   },
   "id": "f23c67d29ae24b17"
  }
 ],
 "metadata": {
  "kernelspec": {
   "display_name": "Python 3",
   "language": "python",
   "name": "python3"
  },
  "language_info": {
   "codemirror_mode": {
    "name": "ipython",
    "version": 2
   },
   "file_extension": ".py",
   "mimetype": "text/x-python",
   "name": "python",
   "nbconvert_exporter": "python",
   "pygments_lexer": "ipython2",
   "version": "2.7.6"
  }
 },
 "nbformat": 4,
 "nbformat_minor": 5
}
