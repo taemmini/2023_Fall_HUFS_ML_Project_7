{
 "cells": [
  {
   "cell_type": "markdown",
   "source": [
    "# 캡챠 이미지 전처리하기"
   ],
   "metadata": {
    "collapsed": false
   },
   "id": "2ef07624627a7699"
  },
  {
   "cell_type": "markdown",
   "source": [
    "## 레이블 만들기"
   ],
   "metadata": {
    "collapsed": false
   },
   "id": "3d114fa8d996a4df"
  },
  {
   "cell_type": "code",
   "execution_count": 62,
   "id": "initial_id",
   "metadata": {
    "collapsed": true,
    "ExecuteTime": {
     "end_time": "2023-11-25T14:26:25.180601Z",
     "start_time": "2023-11-25T14:26:13.167363Z"
    }
   },
   "outputs": [
    {
     "name": "stdout",
     "output_type": "stream",
     "text": [
      "Labels successfully saved to Datasets_Captcha/Captcha_labels.csv\n"
     ]
    }
   ],
   "source": [
    "import csv\n",
    "import os\n",
    "\n",
    "import matplotlib.pyplot as plt\n",
    "import pandas as pd\n",
    "\n",
    "# 이미지가 저장된 디렉토리 경로 설정\n",
    "image_dir = 'Datasets_Captcha'\n",
    "csv_path = 'Datasets_Captcha/Captcha_labels.csv'\n",
    "\n",
    "# 레이블 데이터를 저장할 데이터 구조 초기화\n",
    "labels = []\n",
    "\n",
    "# 디렉토리 내의 모든 파일을 순회\n",
    "for filename in os.listdir(image_dir):\n",
    "    if filename.endswith('.jpg') or filename.endswith('.jpeg'):  # JPEG 이미지만 처리\n",
    "        # 파일 이름을 '_' 기준으로 분할\n",
    "        parts = filename.split('_')\n",
    "        if len(parts) > 1:\n",
    "            # 레이블 번호와 캡챠 문자 부분 추출\n",
    "            label_number = parts[0]\n",
    "            captcha_text = parts[1].split('.')[0]  # 파일 확장자 제거\n",
    "            # 이미지 경로와 추출된 레이블을 저장\n",
    "            labels.append((int(label_number), captcha_text))\n",
    "\n",
    "# 레이블 번호 기준으로 데이터 정렬\n",
    "labels.sort(key=lambda x: x[0])\n",
    "\n",
    "# CSV 파일에 데이터 쓰기\n",
    "with open(csv_path, mode='w', newline='', encoding='utf-8') as file:\n",
    "    writer = csv.writer(file)\n",
    "    # CSV 헤더 작성\n",
    "    writer.writerow(['CAPTCHA_label'])\n",
    "    # 데이터 작성\n",
    "    for _, captcha_text in labels:\n",
    "        writer.writerow([captcha_text])\n",
    "\n",
    "# 완료 메시지\n",
    "print(f'Labels successfully saved to {csv_path}')"
   ]
  },
  {
   "cell_type": "code",
   "execution_count": 63,
   "outputs": [
    {
     "data": {
      "text/plain": "  CAPTCHA_label\n0        vgxrub\n1        ne2bt2\n2        tdk6mf\n3        hvpvkx\n4        6dmens",
      "text/html": "<div>\n<style scoped>\n    .dataframe tbody tr th:only-of-type {\n        vertical-align: middle;\n    }\n\n    .dataframe tbody tr th {\n        vertical-align: top;\n    }\n\n    .dataframe thead th {\n        text-align: right;\n    }\n</style>\n<table border=\"1\" class=\"dataframe\">\n  <thead>\n    <tr style=\"text-align: right;\">\n      <th></th>\n      <th>CAPTCHA_label</th>\n    </tr>\n  </thead>\n  <tbody>\n    <tr>\n      <th>0</th>\n      <td>vgxrub</td>\n    </tr>\n    <tr>\n      <th>1</th>\n      <td>ne2bt2</td>\n    </tr>\n    <tr>\n      <th>2</th>\n      <td>tdk6mf</td>\n    </tr>\n    <tr>\n      <th>3</th>\n      <td>hvpvkx</td>\n    </tr>\n    <tr>\n      <th>4</th>\n      <td>6dmens</td>\n    </tr>\n  </tbody>\n</table>\n</div>"
     },
     "execution_count": 63,
     "metadata": {},
     "output_type": "execute_result"
    }
   ],
   "source": [
    "labels_df = pd.read_csv(csv_path)\n",
    "labels_df.head()"
   ],
   "metadata": {
    "collapsed": false,
    "ExecuteTime": {
     "end_time": "2023-11-25T14:26:25.189490Z",
     "start_time": "2023-11-25T14:26:25.178439Z"
    }
   },
   "id": "13985c41da6d6102"
  },
  {
   "cell_type": "markdown",
   "source": [
    "## 이미지 배열에 넣기"
   ],
   "metadata": {
    "collapsed": false
   },
   "id": "f23c67d29ae24b17"
  },
  {
   "cell_type": "code",
   "execution_count": 64,
   "outputs": [
    {
     "name": "stdout",
     "output_type": "stream",
     "text": [
      "Requirement already satisfied: Pillow in /Users/taemmini/anaconda3/envs/HUFS_ML/lib/python3.11/site-packages (10.0.1)\r\n"
     ]
    }
   ],
   "source": [
    "!pip install Pillow"
   ],
   "metadata": {
    "collapsed": false,
    "ExecuteTime": {
     "end_time": "2023-11-25T14:26:26.224390Z",
     "start_time": "2023-11-25T14:26:25.187530Z"
    }
   },
   "id": "5610382a342a50f3"
  },
  {
   "cell_type": "code",
   "execution_count": 65,
   "outputs": [],
   "source": [
    "# 라이브러리 불러오기\n",
    "import os\n",
    "import numpy as np\n",
    "from PIL import Image"
   ],
   "metadata": {
    "collapsed": false,
    "ExecuteTime": {
     "end_time": "2023-11-25T14:26:26.224545Z",
     "start_time": "2023-11-25T14:26:26.211460Z"
    }
   },
   "id": "6164417f469798ac"
  },
  {
   "cell_type": "code",
   "execution_count": 66,
   "outputs": [],
   "source": [
    "# 이미지 리스트로 저장\n",
    "image_path = 'Datasets_Captcha/'\n",
    "img_list = os.listdir(image_path)\n",
    "img_list_jpeg = [file for file in img_list if file.endswith(\".jpeg\")]"
   ],
   "metadata": {
    "collapsed": false,
    "ExecuteTime": {
     "end_time": "2023-11-25T14:26:26.224595Z",
     "start_time": "2023-11-25T14:26:26.214480Z"
    }
   },
   "id": "4917a341d0e03fc"
  },
  {
   "cell_type": "code",
   "execution_count": 67,
   "outputs": [],
   "source": [
    "# 넘파이 배열 변환\n",
    "img_np_list = []\n",
    "for img in img_list_jpeg:\n",
    "    img_np = np.array(Image.open(image_path + img))\n",
    "    img_np_list.append(img_np)"
   ],
   "metadata": {
    "collapsed": false,
    "ExecuteTime": {
     "end_time": "2023-11-25T14:26:29.069310Z",
     "start_time": "2023-11-25T14:26:26.249381Z"
    }
   },
   "id": "de6f421593e327ca"
  },
  {
   "cell_type": "code",
   "execution_count": 68,
   "outputs": [
    {
     "name": "stdout",
     "output_type": "stream",
     "text": [
      "(10001, 50, 250, 3)\n"
     ]
    }
   ],
   "source": [
    "img_np = np.array(img_np_list)\n",
    "print(img_np.shape)"
   ],
   "metadata": {
    "collapsed": false,
    "ExecuteTime": {
     "end_time": "2023-11-25T14:26:29.069510Z",
     "start_time": "2023-11-25T14:26:28.958478Z"
    }
   },
   "id": "eaee1a38b2ea837c"
  },
  {
   "cell_type": "code",
   "execution_count": 69,
   "outputs": [],
   "source": [
    "# npy 파일로 저장\n",
    "np.save('Datasets_Captcha/Captcha_images.npy', img_np)"
   ],
   "metadata": {
    "collapsed": false,
    "ExecuteTime": {
     "end_time": "2023-11-25T14:26:29.111213Z",
     "start_time": "2023-11-25T14:26:29.018878Z"
    }
   },
   "id": "f1085dc76cbb212b"
  },
  {
   "cell_type": "code",
   "execution_count": 70,
   "outputs": [
    {
     "name": "stdout",
     "output_type": "stream",
     "text": [
      "(10001, 50, 250, 3)\n"
     ]
    }
   ],
   "source": [
    "# 배열의 크기 확인\n",
    "print(img_np.shape)"
   ],
   "metadata": {
    "collapsed": false,
    "ExecuteTime": {
     "end_time": "2023-11-25T14:26:29.114779Z",
     "start_time": "2023-11-25T14:26:29.098612Z"
    }
   },
   "id": "e8b9f6dddee683f4"
  },
  {
   "cell_type": "markdown",
   "source": [
    "- (데이터셋의 이미지 수, 높이, 너비, 색상 채널(=rgb))를 의미한다.\n",
    "    - RGB값이 필요하지 않기 때문에 opencv의 RGB2GRAY를 활용해 흑백변환을 먼저 실시해보자 "
   ],
   "metadata": {
    "collapsed": false
   },
   "id": "82f949396f5e99fe"
  },
  {
   "cell_type": "code",
   "execution_count": 71,
   "outputs": [
    {
     "name": "stdout",
     "output_type": "stream",
     "text": [
      "Requirement already satisfied: opencv-python in /Users/taemmini/anaconda3/envs/HUFS_ML/lib/python3.11/site-packages (4.8.1.78)\r\n",
      "Requirement already satisfied: numpy>=1.21.2 in /Users/taemmini/anaconda3/envs/HUFS_ML/lib/python3.11/site-packages (from opencv-python) (1.26.0)\r\n"
     ]
    }
   ],
   "source": [
    "!pip install opencv-python"
   ],
   "metadata": {
    "collapsed": false,
    "ExecuteTime": {
     "end_time": "2023-11-25T14:26:29.923384Z",
     "start_time": "2023-11-25T14:26:29.100639Z"
    }
   },
   "id": "5e2ea4377ff040f"
  },
  {
   "cell_type": "code",
   "execution_count": 72,
   "outputs": [],
   "source": [
    "# 그레이스케일로 변환\n",
    "import cv2\n",
    "\n",
    "greyscaler = [cv2.cvtColor(img, cv2.COLOR_RGB2GRAY) for img in img_np]\n",
    "\n",
    "greyscale_captcha = np.array(greyscaler)"
   ],
   "metadata": {
    "collapsed": false,
    "ExecuteTime": {
     "end_time": "2023-11-25T14:26:30.003269Z",
     "start_time": "2023-11-25T14:26:29.924774Z"
    }
   },
   "id": "d64e29f1741ca19d"
  },
  {
   "cell_type": "code",
   "execution_count": 73,
   "outputs": [],
   "source": [
    "# npy 파일로 저장\n",
    "np.save('Datasets_Captcha/Captcha_greyscaled.npy', img_np)"
   ],
   "metadata": {
    "collapsed": false,
    "ExecuteTime": {
     "end_time": "2023-11-25T14:26:30.058701Z",
     "start_time": "2023-11-25T14:26:30.002153Z"
    }
   },
   "id": "1ff861b3d5ccdc16"
  },
  {
   "cell_type": "code",
   "execution_count": 74,
   "outputs": [
    {
     "name": "stdout",
     "output_type": "stream",
     "text": [
      "(10001, 50, 250)\n"
     ]
    }
   ],
   "source": [
    "# 그레이스케일된 배열의 크기 확인\n",
    "print(greyscale_captcha.shape)"
   ],
   "metadata": {
    "collapsed": false,
    "ExecuteTime": {
     "end_time": "2023-11-25T14:26:30.062339Z",
     "start_time": "2023-11-25T14:26:30.059733Z"
    }
   },
   "id": "c36e994eb3fd8726"
  },
  {
   "cell_type": "markdown",
   "source": [
    "## PCA를 활용한 차원 축소"
   ],
   "metadata": {
    "collapsed": false
   },
   "id": "641e4b47daed3ed1"
  },
  {
   "cell_type": "code",
   "execution_count": 82,
   "outputs": [],
   "source": [
    "# 일단 임의로 100개를 사용한다.\n",
    "from sklearn.decomposition import PCA\n",
    "greyscale_captcha = greyscale_captcha.reshape(10001, 50*250)\n",
    "pca = PCA(n_components=1500)\n",
    "pca.fit(greyscale_captcha)\n",
    "captcha_pca = pca.transform(greyscale_captcha)"
   ],
   "metadata": {
    "collapsed": false,
    "ExecuteTime": {
     "end_time": "2023-11-25T14:37:03.712382Z",
     "start_time": "2023-11-25T14:36:30.487184Z"
    }
   },
   "id": "7db1387f5ed5b2ea"
  },
  {
   "cell_type": "code",
   "execution_count": 85,
   "outputs": [
    {
     "name": "stdout",
     "output_type": "stream",
     "text": [
      "0.9101576385035629\n"
     ]
    }
   ],
   "source": [
    "print(np.sum(pca.explained_variance_ratio_))"
   ],
   "metadata": {
    "collapsed": false,
    "ExecuteTime": {
     "end_time": "2023-11-25T14:37:32.647109Z",
     "start_time": "2023-11-25T14:37:32.637641Z"
    }
   },
   "id": "bc7f22fbba85cf25"
  },
  {
   "cell_type": "code",
   "execution_count": 86,
   "outputs": [
    {
     "data": {
      "text/plain": "<Figure size 640x480 with 1 Axes>",
      "image/png": "[encoded data removed]"
     },
     "metadata": {},
     "output_type": "display_data"
    }
   ],
   "source": [
    "# 설명된 분산 그래프 시각화\n",
    "plt.plot(pca.explained_variance_ratio_)\n",
    "plt.xlabel('number of components')\n",
    "plt.ylabel('explained variance')\n",
    "plt.show()"
   ],
   "metadata": {
    "collapsed": false,
    "ExecuteTime": {
     "end_time": "2023-11-25T14:37:35.336764Z",
     "start_time": "2023-11-25T14:37:35.286946Z"
    }
   },
   "id": "221d183fe4d98df0"
  },
  {
   "cell_type": "markdown",
   "source": [
    "- 추가적인 전처리가 가능한가는 확인해봐야 할 것 같습니다."
   ],
   "metadata": {
    "collapsed": false
   },
   "id": "7f3a3f9ab15efd33"
  },
  {
   "cell_type": "code",
   "execution_count": 89,
   "outputs": [
    {
     "name": "stdout",
     "output_type": "stream",
     "text": [
      "(10001, 12500)\n"
     ]
    }
   ],
   "source": [
    "# PCA 역변환\n",
    "captcha_inverse = pca.inverse_transform(captcha_pca)\n",
    "print(captcha_inverse.shape)"
   ],
   "metadata": {
    "collapsed": false,
    "ExecuteTime": {
     "end_time": "2023-11-25T14:38:46.617482Z",
     "start_time": "2023-11-25T14:38:44.522642Z"
    }
   },
   "id": "cea70eb7ea8c6878"
  },
  {
   "cell_type": "code",
   "execution_count": 90,
   "outputs": [
    {
     "data": {
      "text/plain": "<matplotlib.image.AxesImage at 0x2f81f90d0>"
     },
     "execution_count": 90,
     "metadata": {},
     "output_type": "execute_result"
    },
    {
     "data": {
      "text/plain": "<Figure size 640x480 with 1 Axes>",
      "image/png": "[encoded data removed]"
     },
     "metadata": {},
     "output_type": "display_data"
    }
   ],
   "source": [
    "# 역변환된 이미지 시각화\n",
    "plt.imshow(captcha_inverse[0].reshape(50, 250), cmap='gray')"
   ],
   "metadata": {
    "collapsed": false,
    "ExecuteTime": {
     "end_time": "2023-11-25T14:39:06.153548Z",
     "start_time": "2023-11-25T14:39:06.092149Z"
    }
   },
   "id": "53f7eae83c2aa24b"
  },
  {
   "cell_type": "code",
   "execution_count": 91,
   "outputs": [],
   "source": [
    "# pca 변환 npy 파일로 저장\n",
    "np.save('Datasets_Captcha/Captcha_pca.npy', captcha_pca)"
   ],
   "metadata": {
    "collapsed": false,
    "ExecuteTime": {
     "end_time": "2023-11-25T14:40:41.904458Z",
     "start_time": "2023-11-25T14:40:41.875188Z"
    }
   },
   "id": "dc3be30bcc315129"
  },
  {
   "cell_type": "markdown",
   "source": [
    "- 이미지에 대한 전처리는 마쳤습니다"
   ],
   "metadata": {
    "collapsed": false
   },
   "id": "2c40ad97da66a57e"
  }
 ],
 "metadata": {
  "kernelspec": {
   "display_name": "Python 3",
   "language": "python",
   "name": "python3"
  },
  "language_info": {
   "codemirror_mode": {
    "name": "ipython",
    "version": 2
   },
   "file_extension": ".py",
   "mimetype": "text/x-python",
   "name": "python",
   "nbconvert_exporter": "python",
   "pygments_lexer": "ipython2",
   "version": "2.7.6"
  }
 },
 "nbformat": 4,
 "nbformat_minor": 5
}
