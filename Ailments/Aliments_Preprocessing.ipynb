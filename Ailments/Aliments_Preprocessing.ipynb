{
 "cells": [
  {
   "cell_type": "code",
   "execution_count": 42,
   "id": "initial_id",
   "metadata": {
    "collapsed": true,
    "ExecuteTime": {
     "end_time": "2023-11-16T07:59:35.744596Z",
     "start_time": "2023-11-16T07:59:35.740148Z"
    }
   },
   "outputs": [],
   "source": [
    "import pandas as pd"
   ]
  },
  {
   "cell_type": "code",
   "execution_count": 44,
   "outputs": [],
   "source": [
    "df = pd.read_csv('Ailments/Dataset_Aliments/13100196.csv')"
   ],
   "metadata": {
    "collapsed": false,
    "ExecuteTime": {
     "end_time": "2023-11-16T07:59:47.173120Z",
     "start_time": "2023-11-16T07:59:47.156747Z"
    }
   },
   "id": "f78ccf3a81317495"
  },
  {
   "cell_type": "code",
   "execution_count": 45,
   "outputs": [
    {
     "data": {
      "text/plain": "   REF_DATE      GEO  DGUID    Sex Age group      Ailments  Frequency  \\\n0      1990  Austria    NaN  Males  11 years      Headache      Often   \n1      1990  Austria    NaN  Males  11 years      Headache  Sometimes   \n2      1990  Austria    NaN  Males  11 years      Headache     Seldom   \n3      1990  Austria    NaN  Males  11 years      Headache      Never   \n4      1990  Austria    NaN  Males  11 years  Stomach ache      Often   \n\n       UOM  UOM_ID SCALAR_FACTOR  SCALAR_ID   VECTOR COORDINATE  VALUE  \\\n0  Percent     239        units           0  v664448  1.1.1.1.1      6   \n1  Percent     239        units           0  v664449  1.1.1.1.4      8   \n2  Percent     239        units           0  v664450  1.1.1.1.6     30   \n3  Percent     239        units           0  v664451  1.1.1.1.7     55   \n4  Percent     239        units           0  v665000  1.1.1.2.1      4   \n\n   STATUS  SYMBOL TERMINATED  DECIMALS  \n0     NaN     NaN          t         0  \n1     NaN     NaN          t         0  \n2     NaN     NaN          t         0  \n3     NaN     NaN          t         0  \n4     NaN     NaN          t         0  ",
      "text/html": "<div>\n<style scoped>\n    .dataframe tbody tr th:only-of-type {\n        vertical-align: middle;\n    }\n\n    .dataframe tbody tr th {\n        vertical-align: top;\n    }\n\n    .dataframe thead th {\n        text-align: right;\n    }\n</style>\n<table border=\"1\" class=\"dataframe\">\n  <thead>\n    <tr style=\"text-align: right;\">\n      <th></th>\n      <th>REF_DATE</th>\n      <th>GEO</th>\n      <th>DGUID</th>\n      <th>Sex</th>\n      <th>Age group</th>\n      <th>Ailments</th>\n      <th>Frequency</th>\n      <th>UOM</th>\n      <th>UOM_ID</th>\n      <th>SCALAR_FACTOR</th>\n      <th>SCALAR_ID</th>\n      <th>VECTOR</th>\n      <th>COORDINATE</th>\n      <th>VALUE</th>\n      <th>STATUS</th>\n      <th>SYMBOL</th>\n      <th>TERMINATED</th>\n      <th>DECIMALS</th>\n    </tr>\n  </thead>\n  <tbody>\n    <tr>\n      <th>0</th>\n      <td>1990</td>\n      <td>Austria</td>\n      <td>NaN</td>\n      <td>Males</td>\n      <td>11 years</td>\n      <td>Headache</td>\n      <td>Often</td>\n      <td>Percent</td>\n      <td>239</td>\n      <td>units</td>\n      <td>0</td>\n      <td>v664448</td>\n      <td>1.1.1.1.1</td>\n      <td>6</td>\n      <td>NaN</td>\n      <td>NaN</td>\n      <td>t</td>\n      <td>0</td>\n    </tr>\n    <tr>\n      <th>1</th>\n      <td>1990</td>\n      <td>Austria</td>\n      <td>NaN</td>\n      <td>Males</td>\n      <td>11 years</td>\n      <td>Headache</td>\n      <td>Sometimes</td>\n      <td>Percent</td>\n      <td>239</td>\n      <td>units</td>\n      <td>0</td>\n      <td>v664449</td>\n      <td>1.1.1.1.4</td>\n      <td>8</td>\n      <td>NaN</td>\n      <td>NaN</td>\n      <td>t</td>\n      <td>0</td>\n    </tr>\n    <tr>\n      <th>2</th>\n      <td>1990</td>\n      <td>Austria</td>\n      <td>NaN</td>\n      <td>Males</td>\n      <td>11 years</td>\n      <td>Headache</td>\n      <td>Seldom</td>\n      <td>Percent</td>\n      <td>239</td>\n      <td>units</td>\n      <td>0</td>\n      <td>v664450</td>\n      <td>1.1.1.1.6</td>\n      <td>30</td>\n      <td>NaN</td>\n      <td>NaN</td>\n      <td>t</td>\n      <td>0</td>\n    </tr>\n    <tr>\n      <th>3</th>\n      <td>1990</td>\n      <td>Austria</td>\n      <td>NaN</td>\n      <td>Males</td>\n      <td>11 years</td>\n      <td>Headache</td>\n      <td>Never</td>\n      <td>Percent</td>\n      <td>239</td>\n      <td>units</td>\n      <td>0</td>\n      <td>v664451</td>\n      <td>1.1.1.1.7</td>\n      <td>55</td>\n      <td>NaN</td>\n      <td>NaN</td>\n      <td>t</td>\n      <td>0</td>\n    </tr>\n    <tr>\n      <th>4</th>\n      <td>1990</td>\n      <td>Austria</td>\n      <td>NaN</td>\n      <td>Males</td>\n      <td>11 years</td>\n      <td>Stomach ache</td>\n      <td>Often</td>\n      <td>Percent</td>\n      <td>239</td>\n      <td>units</td>\n      <td>0</td>\n      <td>v665000</td>\n      <td>1.1.1.2.1</td>\n      <td>4</td>\n      <td>NaN</td>\n      <td>NaN</td>\n      <td>t</td>\n      <td>0</td>\n    </tr>\n  </tbody>\n</table>\n</div>"
     },
     "execution_count": 45,
     "metadata": {},
     "output_type": "execute_result"
    }
   ],
   "source": [
    "# 데이터 확인\n",
    "df.head()"
   ],
   "metadata": {
    "collapsed": false,
    "ExecuteTime": {
     "end_time": "2023-11-16T07:59:47.696292Z",
     "start_time": "2023-11-16T07:59:47.692432Z"
    }
   },
   "id": "8388480840cec1a8"
  },
  {
   "cell_type": "markdown",
   "source": [
    "# 데이터 전처리\n",
    "## 필요 요소\n",
    "1. 사용하지 않는 값 제거\n",
    "2. NaN값 제거\n",
    "3. 남성, 여성 구분\n",
    "4. 나이 값 숫자로 변환\n",
    "5. Frequency 정규화\n",
    "6. Ailments 표준화\n",
    "7. Terminated Boolean 변환\n",
    "8. Value값을 각각의 행으로 복제\n"
   ],
   "metadata": {
    "collapsed": false
   },
   "id": "df9972b31d3287a9"
  },
  {
   "cell_type": "code",
   "execution_count": 46,
   "outputs": [],
   "source": [
    "# 사망여부 one hot encoding\n",
    "df['TERMINATED'] = df['TERMINATED'].apply(lambda x: 'True' if x == 't' else 'False')"
   ],
   "metadata": {
    "collapsed": false,
    "ExecuteTime": {
     "end_time": "2023-11-16T07:59:48.306042Z",
     "start_time": "2023-11-16T07:59:48.300935Z"
    }
   },
   "id": "280a21f2ed4406c2"
  },
  {
   "cell_type": "code",
   "execution_count": 47,
   "outputs": [
    {
     "data": {
      "text/plain": "   REF_DATE      GEO  DGUID    Sex Age group      Ailments  Frequency  \\\n0      1990  Austria    NaN  Males  11 years      Headache      Often   \n1      1990  Austria    NaN  Males  11 years      Headache  Sometimes   \n2      1990  Austria    NaN  Males  11 years      Headache     Seldom   \n3      1990  Austria    NaN  Males  11 years      Headache      Never   \n4      1990  Austria    NaN  Males  11 years  Stomach ache      Often   \n\n       UOM  UOM_ID SCALAR_FACTOR  SCALAR_ID   VECTOR COORDINATE  VALUE  \\\n0  Percent     239        units           0  v664448  1.1.1.1.1      6   \n1  Percent     239        units           0  v664449  1.1.1.1.4      8   \n2  Percent     239        units           0  v664450  1.1.1.1.6     30   \n3  Percent     239        units           0  v664451  1.1.1.1.7     55   \n4  Percent     239        units           0  v665000  1.1.1.2.1      4   \n\n   STATUS  SYMBOL TERMINATED  DECIMALS  \n0     NaN     NaN       True         0  \n1     NaN     NaN       True         0  \n2     NaN     NaN       True         0  \n3     NaN     NaN       True         0  \n4     NaN     NaN       True         0  ",
      "text/html": "<div>\n<style scoped>\n    .dataframe tbody tr th:only-of-type {\n        vertical-align: middle;\n    }\n\n    .dataframe tbody tr th {\n        vertical-align: top;\n    }\n\n    .dataframe thead th {\n        text-align: right;\n    }\n</style>\n<table border=\"1\" class=\"dataframe\">\n  <thead>\n    <tr style=\"text-align: right;\">\n      <th></th>\n      <th>REF_DATE</th>\n      <th>GEO</th>\n      <th>DGUID</th>\n      <th>Sex</th>\n      <th>Age group</th>\n      <th>Ailments</th>\n      <th>Frequency</th>\n      <th>UOM</th>\n      <th>UOM_ID</th>\n      <th>SCALAR_FACTOR</th>\n      <th>SCALAR_ID</th>\n      <th>VECTOR</th>\n      <th>COORDINATE</th>\n      <th>VALUE</th>\n      <th>STATUS</th>\n      <th>SYMBOL</th>\n      <th>TERMINATED</th>\n      <th>DECIMALS</th>\n    </tr>\n  </thead>\n  <tbody>\n    <tr>\n      <th>0</th>\n      <td>1990</td>\n      <td>Austria</td>\n      <td>NaN</td>\n      <td>Males</td>\n      <td>11 years</td>\n      <td>Headache</td>\n      <td>Often</td>\n      <td>Percent</td>\n      <td>239</td>\n      <td>units</td>\n      <td>0</td>\n      <td>v664448</td>\n      <td>1.1.1.1.1</td>\n      <td>6</td>\n      <td>NaN</td>\n      <td>NaN</td>\n      <td>True</td>\n      <td>0</td>\n    </tr>\n    <tr>\n      <th>1</th>\n      <td>1990</td>\n      <td>Austria</td>\n      <td>NaN</td>\n      <td>Males</td>\n      <td>11 years</td>\n      <td>Headache</td>\n      <td>Sometimes</td>\n      <td>Percent</td>\n      <td>239</td>\n      <td>units</td>\n      <td>0</td>\n      <td>v664449</td>\n      <td>1.1.1.1.4</td>\n      <td>8</td>\n      <td>NaN</td>\n      <td>NaN</td>\n      <td>True</td>\n      <td>0</td>\n    </tr>\n    <tr>\n      <th>2</th>\n      <td>1990</td>\n      <td>Austria</td>\n      <td>NaN</td>\n      <td>Males</td>\n      <td>11 years</td>\n      <td>Headache</td>\n      <td>Seldom</td>\n      <td>Percent</td>\n      <td>239</td>\n      <td>units</td>\n      <td>0</td>\n      <td>v664450</td>\n      <td>1.1.1.1.6</td>\n      <td>30</td>\n      <td>NaN</td>\n      <td>NaN</td>\n      <td>True</td>\n      <td>0</td>\n    </tr>\n    <tr>\n      <th>3</th>\n      <td>1990</td>\n      <td>Austria</td>\n      <td>NaN</td>\n      <td>Males</td>\n      <td>11 years</td>\n      <td>Headache</td>\n      <td>Never</td>\n      <td>Percent</td>\n      <td>239</td>\n      <td>units</td>\n      <td>0</td>\n      <td>v664451</td>\n      <td>1.1.1.1.7</td>\n      <td>55</td>\n      <td>NaN</td>\n      <td>NaN</td>\n      <td>True</td>\n      <td>0</td>\n    </tr>\n    <tr>\n      <th>4</th>\n      <td>1990</td>\n      <td>Austria</td>\n      <td>NaN</td>\n      <td>Males</td>\n      <td>11 years</td>\n      <td>Stomach ache</td>\n      <td>Often</td>\n      <td>Percent</td>\n      <td>239</td>\n      <td>units</td>\n      <td>0</td>\n      <td>v665000</td>\n      <td>1.1.1.2.1</td>\n      <td>4</td>\n      <td>NaN</td>\n      <td>NaN</td>\n      <td>True</td>\n      <td>0</td>\n    </tr>\n  </tbody>\n</table>\n</div>"
     },
     "execution_count": 47,
     "metadata": {},
     "output_type": "execute_result"
    }
   ],
   "source": [
    "df.head()"
   ],
   "metadata": {
    "collapsed": false,
    "ExecuteTime": {
     "end_time": "2023-11-16T07:59:48.620081Z",
     "start_time": "2023-11-16T07:59:48.617018Z"
    }
   },
   "id": "6cf4e29a09c3e4f"
  },
  {
   "cell_type": "code",
   "execution_count": 48,
   "outputs": [],
   "source": [
    "# NaN값 제거\n",
    "df = df.dropna(axis=1)"
   ],
   "metadata": {
    "collapsed": false,
    "ExecuteTime": {
     "end_time": "2023-11-16T07:59:48.860112Z",
     "start_time": "2023-11-16T07:59:48.856407Z"
    }
   },
   "id": "2c69e82d5b34890d"
  },
  {
   "cell_type": "code",
   "execution_count": 49,
   "outputs": [
    {
     "data": {
      "text/plain": "   REF_DATE      GEO    Sex Age group      Ailments  Frequency      UOM  \\\n0      1990  Austria  Males  11 years      Headache      Often  Percent   \n1      1990  Austria  Males  11 years      Headache  Sometimes  Percent   \n2      1990  Austria  Males  11 years      Headache     Seldom  Percent   \n3      1990  Austria  Males  11 years      Headache      Never  Percent   \n4      1990  Austria  Males  11 years  Stomach ache      Often  Percent   \n\n   UOM_ID SCALAR_FACTOR  SCALAR_ID   VECTOR COORDINATE  VALUE TERMINATED  \\\n0     239        units           0  v664448  1.1.1.1.1      6       True   \n1     239        units           0  v664449  1.1.1.1.4      8       True   \n2     239        units           0  v664450  1.1.1.1.6     30       True   \n3     239        units           0  v664451  1.1.1.1.7     55       True   \n4     239        units           0  v665000  1.1.1.2.1      4       True   \n\n   DECIMALS  \n0         0  \n1         0  \n2         0  \n3         0  \n4         0  ",
      "text/html": "<div>\n<style scoped>\n    .dataframe tbody tr th:only-of-type {\n        vertical-align: middle;\n    }\n\n    .dataframe tbody tr th {\n        vertical-align: top;\n    }\n\n    .dataframe thead th {\n        text-align: right;\n    }\n</style>\n<table border=\"1\" class=\"dataframe\">\n  <thead>\n    <tr style=\"text-align: right;\">\n      <th></th>\n      <th>REF_DATE</th>\n      <th>GEO</th>\n      <th>Sex</th>\n      <th>Age group</th>\n      <th>Ailments</th>\n      <th>Frequency</th>\n      <th>UOM</th>\n      <th>UOM_ID</th>\n      <th>SCALAR_FACTOR</th>\n      <th>SCALAR_ID</th>\n      <th>VECTOR</th>\n      <th>COORDINATE</th>\n      <th>VALUE</th>\n      <th>TERMINATED</th>\n      <th>DECIMALS</th>\n    </tr>\n  </thead>\n  <tbody>\n    <tr>\n      <th>0</th>\n      <td>1990</td>\n      <td>Austria</td>\n      <td>Males</td>\n      <td>11 years</td>\n      <td>Headache</td>\n      <td>Often</td>\n      <td>Percent</td>\n      <td>239</td>\n      <td>units</td>\n      <td>0</td>\n      <td>v664448</td>\n      <td>1.1.1.1.1</td>\n      <td>6</td>\n      <td>True</td>\n      <td>0</td>\n    </tr>\n    <tr>\n      <th>1</th>\n      <td>1990</td>\n      <td>Austria</td>\n      <td>Males</td>\n      <td>11 years</td>\n      <td>Headache</td>\n      <td>Sometimes</td>\n      <td>Percent</td>\n      <td>239</td>\n      <td>units</td>\n      <td>0</td>\n      <td>v664449</td>\n      <td>1.1.1.1.4</td>\n      <td>8</td>\n      <td>True</td>\n      <td>0</td>\n    </tr>\n    <tr>\n      <th>2</th>\n      <td>1990</td>\n      <td>Austria</td>\n      <td>Males</td>\n      <td>11 years</td>\n      <td>Headache</td>\n      <td>Seldom</td>\n      <td>Percent</td>\n      <td>239</td>\n      <td>units</td>\n      <td>0</td>\n      <td>v664450</td>\n      <td>1.1.1.1.6</td>\n      <td>30</td>\n      <td>True</td>\n      <td>0</td>\n    </tr>\n    <tr>\n      <th>3</th>\n      <td>1990</td>\n      <td>Austria</td>\n      <td>Males</td>\n      <td>11 years</td>\n      <td>Headache</td>\n      <td>Never</td>\n      <td>Percent</td>\n      <td>239</td>\n      <td>units</td>\n      <td>0</td>\n      <td>v664451</td>\n      <td>1.1.1.1.7</td>\n      <td>55</td>\n      <td>True</td>\n      <td>0</td>\n    </tr>\n    <tr>\n      <th>4</th>\n      <td>1990</td>\n      <td>Austria</td>\n      <td>Males</td>\n      <td>11 years</td>\n      <td>Stomach ache</td>\n      <td>Often</td>\n      <td>Percent</td>\n      <td>239</td>\n      <td>units</td>\n      <td>0</td>\n      <td>v665000</td>\n      <td>1.1.1.2.1</td>\n      <td>4</td>\n      <td>True</td>\n      <td>0</td>\n    </tr>\n  </tbody>\n</table>\n</div>"
     },
     "execution_count": 49,
     "metadata": {},
     "output_type": "execute_result"
    }
   ],
   "source": [
    "df.head()"
   ],
   "metadata": {
    "collapsed": false,
    "ExecuteTime": {
     "end_time": "2023-11-16T07:59:49.126135Z",
     "start_time": "2023-11-16T07:59:49.122912Z"
    }
   },
   "id": "56e8138a5bfb29d"
  },
  {
   "cell_type": "code",
   "execution_count": 50,
   "outputs": [],
   "source": [
    "# decimals, UOM, UOM_ID, SCALA_FACTOR, SCALAR_ID, VECTOR, COORDINATE, 제거\n",
    "df_preprocess = df.drop(['DECIMALS', 'UOM', 'UOM_ID', 'SCALAR_FACTOR', 'SCALAR_ID', 'VECTOR', 'COORDINATE'], axis=1)"
   ],
   "metadata": {
    "collapsed": false,
    "ExecuteTime": {
     "end_time": "2023-11-16T07:59:49.344955Z",
     "start_time": "2023-11-16T07:59:49.339Z"
    }
   },
   "id": "80d19c085b887c89"
  },
  {
   "cell_type": "code",
   "execution_count": 51,
   "outputs": [
    {
     "data": {
      "text/plain": "   REF_DATE      GEO    Sex Age group      Ailments  Frequency  VALUE  \\\n0      1990  Austria  Males  11 years      Headache      Often      6   \n1      1990  Austria  Males  11 years      Headache  Sometimes      8   \n2      1990  Austria  Males  11 years      Headache     Seldom     30   \n3      1990  Austria  Males  11 years      Headache      Never     55   \n4      1990  Austria  Males  11 years  Stomach ache      Often      4   \n\n  TERMINATED  \n0       True  \n1       True  \n2       True  \n3       True  \n4       True  ",
      "text/html": "<div>\n<style scoped>\n    .dataframe tbody tr th:only-of-type {\n        vertical-align: middle;\n    }\n\n    .dataframe tbody tr th {\n        vertical-align: top;\n    }\n\n    .dataframe thead th {\n        text-align: right;\n    }\n</style>\n<table border=\"1\" class=\"dataframe\">\n  <thead>\n    <tr style=\"text-align: right;\">\n      <th></th>\n      <th>REF_DATE</th>\n      <th>GEO</th>\n      <th>Sex</th>\n      <th>Age group</th>\n      <th>Ailments</th>\n      <th>Frequency</th>\n      <th>VALUE</th>\n      <th>TERMINATED</th>\n    </tr>\n  </thead>\n  <tbody>\n    <tr>\n      <th>0</th>\n      <td>1990</td>\n      <td>Austria</td>\n      <td>Males</td>\n      <td>11 years</td>\n      <td>Headache</td>\n      <td>Often</td>\n      <td>6</td>\n      <td>True</td>\n    </tr>\n    <tr>\n      <th>1</th>\n      <td>1990</td>\n      <td>Austria</td>\n      <td>Males</td>\n      <td>11 years</td>\n      <td>Headache</td>\n      <td>Sometimes</td>\n      <td>8</td>\n      <td>True</td>\n    </tr>\n    <tr>\n      <th>2</th>\n      <td>1990</td>\n      <td>Austria</td>\n      <td>Males</td>\n      <td>11 years</td>\n      <td>Headache</td>\n      <td>Seldom</td>\n      <td>30</td>\n      <td>True</td>\n    </tr>\n    <tr>\n      <th>3</th>\n      <td>1990</td>\n      <td>Austria</td>\n      <td>Males</td>\n      <td>11 years</td>\n      <td>Headache</td>\n      <td>Never</td>\n      <td>55</td>\n      <td>True</td>\n    </tr>\n    <tr>\n      <th>4</th>\n      <td>1990</td>\n      <td>Austria</td>\n      <td>Males</td>\n      <td>11 years</td>\n      <td>Stomach ache</td>\n      <td>Often</td>\n      <td>4</td>\n      <td>True</td>\n    </tr>\n  </tbody>\n</table>\n</div>"
     },
     "execution_count": 51,
     "metadata": {},
     "output_type": "execute_result"
    }
   ],
   "source": [
    "df_preprocess.head()"
   ],
   "metadata": {
    "collapsed": false,
    "ExecuteTime": {
     "end_time": "2023-11-16T07:59:49.547231Z",
     "start_time": "2023-11-16T07:59:49.542307Z"
    }
   },
   "id": "6e46b430ad57b128"
  },
  {
   "cell_type": "code",
   "execution_count": 52,
   "outputs": [],
   "source": [
    "# 남성이면 1, 여성이면 0\n",
    "df_preprocess['Sex'] = df_preprocess['Sex'].apply(lambda  x: 1 if x == 'Males' else 0)"
   ],
   "metadata": {
    "collapsed": false,
    "ExecuteTime": {
     "end_time": "2023-11-16T07:59:49.698908Z",
     "start_time": "2023-11-16T07:59:49.695338Z"
    }
   },
   "id": "1cf643dd71ef9681"
  },
  {
   "cell_type": "code",
   "execution_count": 53,
   "outputs": [
    {
     "data": {
      "text/plain": "   REF_DATE      GEO  Sex Age group      Ailments  Frequency  VALUE TERMINATED\n0      1990  Austria    1  11 years      Headache      Often      6       True\n1      1990  Austria    1  11 years      Headache  Sometimes      8       True\n2      1990  Austria    1  11 years      Headache     Seldom     30       True\n3      1990  Austria    1  11 years      Headache      Never     55       True\n4      1990  Austria    1  11 years  Stomach ache      Often      4       True",
      "text/html": "<div>\n<style scoped>\n    .dataframe tbody tr th:only-of-type {\n        vertical-align: middle;\n    }\n\n    .dataframe tbody tr th {\n        vertical-align: top;\n    }\n\n    .dataframe thead th {\n        text-align: right;\n    }\n</style>\n<table border=\"1\" class=\"dataframe\">\n  <thead>\n    <tr style=\"text-align: right;\">\n      <th></th>\n      <th>REF_DATE</th>\n      <th>GEO</th>\n      <th>Sex</th>\n      <th>Age group</th>\n      <th>Ailments</th>\n      <th>Frequency</th>\n      <th>VALUE</th>\n      <th>TERMINATED</th>\n    </tr>\n  </thead>\n  <tbody>\n    <tr>\n      <th>0</th>\n      <td>1990</td>\n      <td>Austria</td>\n      <td>1</td>\n      <td>11 years</td>\n      <td>Headache</td>\n      <td>Often</td>\n      <td>6</td>\n      <td>True</td>\n    </tr>\n    <tr>\n      <th>1</th>\n      <td>1990</td>\n      <td>Austria</td>\n      <td>1</td>\n      <td>11 years</td>\n      <td>Headache</td>\n      <td>Sometimes</td>\n      <td>8</td>\n      <td>True</td>\n    </tr>\n    <tr>\n      <th>2</th>\n      <td>1990</td>\n      <td>Austria</td>\n      <td>1</td>\n      <td>11 years</td>\n      <td>Headache</td>\n      <td>Seldom</td>\n      <td>30</td>\n      <td>True</td>\n    </tr>\n    <tr>\n      <th>3</th>\n      <td>1990</td>\n      <td>Austria</td>\n      <td>1</td>\n      <td>11 years</td>\n      <td>Headache</td>\n      <td>Never</td>\n      <td>55</td>\n      <td>True</td>\n    </tr>\n    <tr>\n      <th>4</th>\n      <td>1990</td>\n      <td>Austria</td>\n      <td>1</td>\n      <td>11 years</td>\n      <td>Stomach ache</td>\n      <td>Often</td>\n      <td>4</td>\n      <td>True</td>\n    </tr>\n  </tbody>\n</table>\n</div>"
     },
     "execution_count": 53,
     "metadata": {},
     "output_type": "execute_result"
    }
   ],
   "source": [
    "df_preprocess.head()"
   ],
   "metadata": {
    "collapsed": false,
    "ExecuteTime": {
     "end_time": "2023-11-16T07:59:49.870882Z",
     "start_time": "2023-11-16T07:59:49.867523Z"
    }
   },
   "id": "ff43fae884bc5489"
  },
  {
   "cell_type": "code",
   "execution_count": 54,
   "outputs": [],
   "source": [
    "# 'VALUE' 열의 값만큼 데이터를 복제하는 함수를\n",
    "def duplicate_rows(df, row_count_column):\n",
    "    return df.loc[df.index.repeat(df[row_count_column])].drop(columns=row_count_column).reset_index(drop=True)\n",
    "\n",
    "# 'VALUE' 열을 사용하여 데이터를 복제\n",
    "expanded_df = duplicate_rows(df_preprocess, 'VALUE')"
   ],
   "metadata": {
    "collapsed": false,
    "ExecuteTime": {
     "end_time": "2023-11-16T07:59:50.049072Z",
     "start_time": "2023-11-16T07:59:50.013131Z"
    }
   },
   "id": "3313f358a0bdc954"
  },
  {
   "cell_type": "code",
   "execution_count": 55,
   "outputs": [
    {
     "data": {
      "text/plain": "   REF_DATE      GEO  Sex Age group  Ailments Frequency TERMINATED\n0      1990  Austria    1  11 years  Headache     Often       True\n1      1990  Austria    1  11 years  Headache     Often       True\n2      1990  Austria    1  11 years  Headache     Often       True\n3      1990  Austria    1  11 years  Headache     Often       True\n4      1990  Austria    1  11 years  Headache     Often       True",
      "text/html": "<div>\n<style scoped>\n    .dataframe tbody tr th:only-of-type {\n        vertical-align: middle;\n    }\n\n    .dataframe tbody tr th {\n        vertical-align: top;\n    }\n\n    .dataframe thead th {\n        text-align: right;\n    }\n</style>\n<table border=\"1\" class=\"dataframe\">\n  <thead>\n    <tr style=\"text-align: right;\">\n      <th></th>\n      <th>REF_DATE</th>\n      <th>GEO</th>\n      <th>Sex</th>\n      <th>Age group</th>\n      <th>Ailments</th>\n      <th>Frequency</th>\n      <th>TERMINATED</th>\n    </tr>\n  </thead>\n  <tbody>\n    <tr>\n      <th>0</th>\n      <td>1990</td>\n      <td>Austria</td>\n      <td>1</td>\n      <td>11 years</td>\n      <td>Headache</td>\n      <td>Often</td>\n      <td>True</td>\n    </tr>\n    <tr>\n      <th>1</th>\n      <td>1990</td>\n      <td>Austria</td>\n      <td>1</td>\n      <td>11 years</td>\n      <td>Headache</td>\n      <td>Often</td>\n      <td>True</td>\n    </tr>\n    <tr>\n      <th>2</th>\n      <td>1990</td>\n      <td>Austria</td>\n      <td>1</td>\n      <td>11 years</td>\n      <td>Headache</td>\n      <td>Often</td>\n      <td>True</td>\n    </tr>\n    <tr>\n      <th>3</th>\n      <td>1990</td>\n      <td>Austria</td>\n      <td>1</td>\n      <td>11 years</td>\n      <td>Headache</td>\n      <td>Often</td>\n      <td>True</td>\n    </tr>\n    <tr>\n      <th>4</th>\n      <td>1990</td>\n      <td>Austria</td>\n      <td>1</td>\n      <td>11 years</td>\n      <td>Headache</td>\n      <td>Often</td>\n      <td>True</td>\n    </tr>\n  </tbody>\n</table>\n</div>"
     },
     "execution_count": 55,
     "metadata": {},
     "output_type": "execute_result"
    }
   ],
   "source": [
    "expanded_df.head()"
   ],
   "metadata": {
    "collapsed": false,
    "ExecuteTime": {
     "end_time": "2023-11-16T07:59:50.165739Z",
     "start_time": "2023-11-16T07:59:50.162198Z"
    }
   },
   "id": "fb6dbaf5523614c2"
  },
  {
   "cell_type": "code",
   "execution_count": 56,
   "outputs": [],
   "source": [
    "# ~~ years 제거하고 숫자만 남기기\n",
    "expanded_df['Age group'] = expanded_df['Age group'].apply(lambda x: x.split(' ')[0])"
   ],
   "metadata": {
    "collapsed": false,
    "ExecuteTime": {
     "end_time": "2023-11-16T07:59:50.323592Z",
     "start_time": "2023-11-16T07:59:50.319823Z"
    }
   },
   "id": "d414ef31239e9c71"
  },
  {
   "cell_type": "code",
   "execution_count": 57,
   "outputs": [
    {
     "data": {
      "text/plain": "   REF_DATE      GEO  Sex Age group  Ailments Frequency TERMINATED\n0      1990  Austria    1        11  Headache     Often       True\n1      1990  Austria    1        11  Headache     Often       True\n2      1990  Austria    1        11  Headache     Often       True\n3      1990  Austria    1        11  Headache     Often       True\n4      1990  Austria    1        11  Headache     Often       True",
      "text/html": "<div>\n<style scoped>\n    .dataframe tbody tr th:only-of-type {\n        vertical-align: middle;\n    }\n\n    .dataframe tbody tr th {\n        vertical-align: top;\n    }\n\n    .dataframe thead th {\n        text-align: right;\n    }\n</style>\n<table border=\"1\" class=\"dataframe\">\n  <thead>\n    <tr style=\"text-align: right;\">\n      <th></th>\n      <th>REF_DATE</th>\n      <th>GEO</th>\n      <th>Sex</th>\n      <th>Age group</th>\n      <th>Ailments</th>\n      <th>Frequency</th>\n      <th>TERMINATED</th>\n    </tr>\n  </thead>\n  <tbody>\n    <tr>\n      <th>0</th>\n      <td>1990</td>\n      <td>Austria</td>\n      <td>1</td>\n      <td>11</td>\n      <td>Headache</td>\n      <td>Often</td>\n      <td>True</td>\n    </tr>\n    <tr>\n      <th>1</th>\n      <td>1990</td>\n      <td>Austria</td>\n      <td>1</td>\n      <td>11</td>\n      <td>Headache</td>\n      <td>Often</td>\n      <td>True</td>\n    </tr>\n    <tr>\n      <th>2</th>\n      <td>1990</td>\n      <td>Austria</td>\n      <td>1</td>\n      <td>11</td>\n      <td>Headache</td>\n      <td>Often</td>\n      <td>True</td>\n    </tr>\n    <tr>\n      <th>3</th>\n      <td>1990</td>\n      <td>Austria</td>\n      <td>1</td>\n      <td>11</td>\n      <td>Headache</td>\n      <td>Often</td>\n      <td>True</td>\n    </tr>\n    <tr>\n      <th>4</th>\n      <td>1990</td>\n      <td>Austria</td>\n      <td>1</td>\n      <td>11</td>\n      <td>Headache</td>\n      <td>Often</td>\n      <td>True</td>\n    </tr>\n  </tbody>\n</table>\n</div>"
     },
     "execution_count": 57,
     "metadata": {},
     "output_type": "execute_result"
    }
   ],
   "source": [
    "expanded_df.head()"
   ],
   "metadata": {
    "collapsed": false,
    "ExecuteTime": {
     "end_time": "2023-11-16T07:59:50.458669Z",
     "start_time": "2023-11-16T07:59:50.455382Z"
    }
   },
   "id": "144d7b41868d3161"
  },
  {
   "cell_type": "code",
   "execution_count": 58,
   "outputs": [
    {
     "data": {
      "text/plain": "array(['Headache', 'Stomach ache', 'Backache', 'Feeling low (depressed)',\n       'Bad temper (irritability)', 'Feeling nervous',\n       'Difficulty getting to sleep', 'Feeling dizzy',\n       'Feeling tired in the morning'], dtype=object)"
     },
     "execution_count": 58,
     "metadata": {},
     "output_type": "execute_result"
    }
   ],
   "source": [
    "# Ailments 데이터 종류 확인    \n",
    "expanded_df['Ailments'].unique()"
   ],
   "metadata": {
    "collapsed": false,
    "ExecuteTime": {
     "end_time": "2023-11-16T07:59:50.609014Z",
     "start_time": "2023-11-16T07:59:50.601614Z"
    }
   },
   "id": "32aa5929db53cc3f"
  },
  {
   "cell_type": "code",
   "execution_count": 59,
   "outputs": [],
   "source": [
    "# 증상 표준화\n",
    "expanded_df['Ailments'] = expanded_df['Ailments'].apply(lambda x: 'Depressed' if x == 'Feeling low (depressed)' else x)\n",
    "expanded_df['Ailments'] = expanded_df['Ailments'].apply(lambda x: 'Irritability' if x == 'Bad temper (irritability)' else x)\n",
    "expanded_df['Ailments'] = expanded_df['Ailments'].apply(lambda x: 'Insomnia' if x == 'Difficulty getting to sleep' else x)\n",
    "expanded_df['Ailments'] = expanded_df['Ailments'].apply(lambda x: 'Stomachache' if x == 'Stomach ache' else x)\n",
    "expanded_df['Ailments'] = expanded_df['Ailments'].apply(lambda x: 'Anxiety' if x == 'Feeling nervous' else x)\n",
    "expanded_df['Ailments'] = expanded_df['Ailments'].apply(lambda x: 'Tiredness' if x == 'Feeling tired in the morning' else x)\n",
    "expanded_df['Ailments'] = expanded_df['Ailments'].apply(lambda x: 'Dizziness' if x == 'Feeling dizzy' else x)"
   ],
   "metadata": {
    "collapsed": false,
    "ExecuteTime": {
     "end_time": "2023-11-16T07:59:50.820613Z",
     "start_time": "2023-11-16T07:59:50.740218Z"
    }
   },
   "id": "2c302b57d3326164"
  },
  {
   "cell_type": "code",
   "execution_count": 60,
   "outputs": [
    {
     "data": {
      "text/plain": "array(['Headache', 'Stomachache', 'Backache', 'Depressed', 'Irritability',\n       'Anxiety', 'Insomnia', 'Dizziness', 'Tiredness'], dtype=object)"
     },
     "execution_count": 60,
     "metadata": {},
     "output_type": "execute_result"
    }
   ],
   "source": [
    "expanded_df['Ailments'].unique()"
   ],
   "metadata": {
    "collapsed": false,
    "ExecuteTime": {
     "end_time": "2023-11-16T07:59:50.884128Z",
     "start_time": "2023-11-16T07:59:50.879129Z"
    }
   },
   "id": "a4f23d30191f141c"
  },
  {
   "cell_type": "code",
   "execution_count": 61,
   "outputs": [],
   "source": [
    "# ailment 데이터를 one-hot encoding\n",
    "expanded_df = pd.get_dummies(expanded_df, columns=['Ailments'])"
   ],
   "metadata": {
    "collapsed": false,
    "ExecuteTime": {
     "end_time": "2023-11-16T07:59:51.051861Z",
     "start_time": "2023-11-16T07:59:51.017170Z"
    }
   },
   "id": "5add9756426d9901"
  },
  {
   "cell_type": "code",
   "execution_count": 62,
   "outputs": [
    {
     "data": {
      "text/plain": "   REF_DATE      GEO  Sex Age group Frequency TERMINATED  Ailments_Anxiety  \\\n0      1990  Austria    1        11     Often       True             False   \n1      1990  Austria    1        11     Often       True             False   \n2      1990  Austria    1        11     Often       True             False   \n3      1990  Austria    1        11     Often       True             False   \n4      1990  Austria    1        11     Often       True             False   \n\n   Ailments_Backache  Ailments_Depressed  Ailments_Dizziness  \\\n0              False               False               False   \n1              False               False               False   \n2              False               False               False   \n3              False               False               False   \n4              False               False               False   \n\n   Ailments_Headache  Ailments_Insomnia  Ailments_Irritability  \\\n0               True              False                  False   \n1               True              False                  False   \n2               True              False                  False   \n3               True              False                  False   \n4               True              False                  False   \n\n   Ailments_Stomachache  Ailments_Tiredness  \n0                 False               False  \n1                 False               False  \n2                 False               False  \n3                 False               False  \n4                 False               False  ",
      "text/html": "<div>\n<style scoped>\n    .dataframe tbody tr th:only-of-type {\n        vertical-align: middle;\n    }\n\n    .dataframe tbody tr th {\n        vertical-align: top;\n    }\n\n    .dataframe thead th {\n        text-align: right;\n    }\n</style>\n<table border=\"1\" class=\"dataframe\">\n  <thead>\n    <tr style=\"text-align: right;\">\n      <th></th>\n      <th>REF_DATE</th>\n      <th>GEO</th>\n      <th>Sex</th>\n      <th>Age group</th>\n      <th>Frequency</th>\n      <th>TERMINATED</th>\n      <th>Ailments_Anxiety</th>\n      <th>Ailments_Backache</th>\n      <th>Ailments_Depressed</th>\n      <th>Ailments_Dizziness</th>\n      <th>Ailments_Headache</th>\n      <th>Ailments_Insomnia</th>\n      <th>Ailments_Irritability</th>\n      <th>Ailments_Stomachache</th>\n      <th>Ailments_Tiredness</th>\n    </tr>\n  </thead>\n  <tbody>\n    <tr>\n      <th>0</th>\n      <td>1990</td>\n      <td>Austria</td>\n      <td>1</td>\n      <td>11</td>\n      <td>Often</td>\n      <td>True</td>\n      <td>False</td>\n      <td>False</td>\n      <td>False</td>\n      <td>False</td>\n      <td>True</td>\n      <td>False</td>\n      <td>False</td>\n      <td>False</td>\n      <td>False</td>\n    </tr>\n    <tr>\n      <th>1</th>\n      <td>1990</td>\n      <td>Austria</td>\n      <td>1</td>\n      <td>11</td>\n      <td>Often</td>\n      <td>True</td>\n      <td>False</td>\n      <td>False</td>\n      <td>False</td>\n      <td>False</td>\n      <td>True</td>\n      <td>False</td>\n      <td>False</td>\n      <td>False</td>\n      <td>False</td>\n    </tr>\n    <tr>\n      <th>2</th>\n      <td>1990</td>\n      <td>Austria</td>\n      <td>1</td>\n      <td>11</td>\n      <td>Often</td>\n      <td>True</td>\n      <td>False</td>\n      <td>False</td>\n      <td>False</td>\n      <td>False</td>\n      <td>True</td>\n      <td>False</td>\n      <td>False</td>\n      <td>False</td>\n      <td>False</td>\n    </tr>\n    <tr>\n      <th>3</th>\n      <td>1990</td>\n      <td>Austria</td>\n      <td>1</td>\n      <td>11</td>\n      <td>Often</td>\n      <td>True</td>\n      <td>False</td>\n      <td>False</td>\n      <td>False</td>\n      <td>False</td>\n      <td>True</td>\n      <td>False</td>\n      <td>False</td>\n      <td>False</td>\n      <td>False</td>\n    </tr>\n    <tr>\n      <th>4</th>\n      <td>1990</td>\n      <td>Austria</td>\n      <td>1</td>\n      <td>11</td>\n      <td>Often</td>\n      <td>True</td>\n      <td>False</td>\n      <td>False</td>\n      <td>False</td>\n      <td>False</td>\n      <td>True</td>\n      <td>False</td>\n      <td>False</td>\n      <td>False</td>\n      <td>False</td>\n    </tr>\n  </tbody>\n</table>\n</div>"
     },
     "execution_count": 62,
     "metadata": {},
     "output_type": "execute_result"
    }
   ],
   "source": [
    "expanded_df.head()"
   ],
   "metadata": {
    "collapsed": false,
    "ExecuteTime": {
     "end_time": "2023-11-16T07:59:51.169560Z",
     "start_time": "2023-11-16T07:59:51.165882Z"
    }
   },
   "id": "d3c9fdbbec942141"
  },
  {
   "cell_type": "code",
   "execution_count": 63,
   "outputs": [
    {
     "data": {
      "text/plain": "array(['Often', 'Sometimes', 'Seldom', 'Never', '4 or more times a week',\n       '1 to 3 times a week', 'Once in a while', 'Seldom/never'],\n      dtype=object)"
     },
     "execution_count": 63,
     "metadata": {},
     "output_type": "execute_result"
    }
   ],
   "source": [
    "# frequencty data 종류 확인\n",
    "expanded_df['Frequency'].unique()"
   ],
   "metadata": {
    "collapsed": false,
    "ExecuteTime": {
     "end_time": "2023-11-16T07:59:51.324976Z",
     "start_time": "2023-11-16T07:59:51.318553Z"
    }
   },
   "id": "2a8074dcc6cb11c9"
  },
  {
   "cell_type": "code",
   "execution_count": 64,
   "outputs": [],
   "source": [
    "# Never - 0, Seldom - 1, Seldom/never - 1, Once in a while - 2, Sometimes - 3, Often - 4, 1 to 3 times a week - 2, 4 or more times a week - 5로 변환\n",
    "expanded_df['Frequency'] = expanded_df['Frequency'].apply(lambda x: 0 if x == 'Never' else x)\n",
    "expanded_df['Frequency'] = expanded_df['Frequency'].apply(lambda x: 1 if x == 'Seldom' else x)\n",
    "expanded_df['Frequency'] = expanded_df['Frequency'].apply(lambda x: 1 if x == 'Seldom/never' else x)\n",
    "expanded_df['Frequency'] = expanded_df['Frequency'].apply(lambda x: 2 if x == 'Once in a while' else x)\n",
    "expanded_df['Frequency'] = expanded_df['Frequency'].apply(lambda x: 3 if x == 'Sometimes' else x)\n",
    "expanded_df['Frequency'] = expanded_df['Frequency'].apply(lambda x: 4 if x == 'Often' else x)\n",
    "expanded_df['Frequency'] = expanded_df['Frequency'].apply(lambda x: 2 if x == '1 to 3 times a week' else x)\n",
    "expanded_df['Frequency'] = expanded_df['Frequency'].apply(lambda x: 5 if x == '4 or more times a week' else x)"
   ],
   "metadata": {
    "collapsed": false,
    "ExecuteTime": {
     "end_time": "2023-11-16T07:59:51.563032Z",
     "start_time": "2023-11-16T07:59:51.466741Z"
    }
   },
   "id": "a7ef869692ae02e1"
  },
  {
   "cell_type": "code",
   "execution_count": 65,
   "outputs": [
    {
     "data": {
      "text/plain": "array([4, 3, 1, 0, 5, 2])"
     },
     "execution_count": 65,
     "metadata": {},
     "output_type": "execute_result"
    }
   ],
   "source": [
    "expanded_df['Frequency'].unique()"
   ],
   "metadata": {
    "collapsed": false,
    "ExecuteTime": {
     "end_time": "2023-11-16T07:59:51.620109Z",
     "start_time": "2023-11-16T07:59:51.613937Z"
    }
   },
   "id": "fdb91c1e9509f9bf"
  },
  {
   "cell_type": "code",
   "execution_count": 66,
   "outputs": [
    {
     "data": {
      "text/plain": "   REF_DATE      GEO  Sex Age group  Frequency TERMINATED  Ailments_Anxiety  \\\n0      1990  Austria    1        11          4       True             False   \n1      1990  Austria    1        11          4       True             False   \n2      1990  Austria    1        11          4       True             False   \n3      1990  Austria    1        11          4       True             False   \n4      1990  Austria    1        11          4       True             False   \n\n   Ailments_Backache  Ailments_Depressed  Ailments_Dizziness  \\\n0              False               False               False   \n1              False               False               False   \n2              False               False               False   \n3              False               False               False   \n4              False               False               False   \n\n   Ailments_Headache  Ailments_Insomnia  Ailments_Irritability  \\\n0               True              False                  False   \n1               True              False                  False   \n2               True              False                  False   \n3               True              False                  False   \n4               True              False                  False   \n\n   Ailments_Stomachache  Ailments_Tiredness  \n0                 False               False  \n1                 False               False  \n2                 False               False  \n3                 False               False  \n4                 False               False  ",
      "text/html": "<div>\n<style scoped>\n    .dataframe tbody tr th:only-of-type {\n        vertical-align: middle;\n    }\n\n    .dataframe tbody tr th {\n        vertical-align: top;\n    }\n\n    .dataframe thead th {\n        text-align: right;\n    }\n</style>\n<table border=\"1\" class=\"dataframe\">\n  <thead>\n    <tr style=\"text-align: right;\">\n      <th></th>\n      <th>REF_DATE</th>\n      <th>GEO</th>\n      <th>Sex</th>\n      <th>Age group</th>\n      <th>Frequency</th>\n      <th>TERMINATED</th>\n      <th>Ailments_Anxiety</th>\n      <th>Ailments_Backache</th>\n      <th>Ailments_Depressed</th>\n      <th>Ailments_Dizziness</th>\n      <th>Ailments_Headache</th>\n      <th>Ailments_Insomnia</th>\n      <th>Ailments_Irritability</th>\n      <th>Ailments_Stomachache</th>\n      <th>Ailments_Tiredness</th>\n    </tr>\n  </thead>\n  <tbody>\n    <tr>\n      <th>0</th>\n      <td>1990</td>\n      <td>Austria</td>\n      <td>1</td>\n      <td>11</td>\n      <td>4</td>\n      <td>True</td>\n      <td>False</td>\n      <td>False</td>\n      <td>False</td>\n      <td>False</td>\n      <td>True</td>\n      <td>False</td>\n      <td>False</td>\n      <td>False</td>\n      <td>False</td>\n    </tr>\n    <tr>\n      <th>1</th>\n      <td>1990</td>\n      <td>Austria</td>\n      <td>1</td>\n      <td>11</td>\n      <td>4</td>\n      <td>True</td>\n      <td>False</td>\n      <td>False</td>\n      <td>False</td>\n      <td>False</td>\n      <td>True</td>\n      <td>False</td>\n      <td>False</td>\n      <td>False</td>\n      <td>False</td>\n    </tr>\n    <tr>\n      <th>2</th>\n      <td>1990</td>\n      <td>Austria</td>\n      <td>1</td>\n      <td>11</td>\n      <td>4</td>\n      <td>True</td>\n      <td>False</td>\n      <td>False</td>\n      <td>False</td>\n      <td>False</td>\n      <td>True</td>\n      <td>False</td>\n      <td>False</td>\n      <td>False</td>\n      <td>False</td>\n    </tr>\n    <tr>\n      <th>3</th>\n      <td>1990</td>\n      <td>Austria</td>\n      <td>1</td>\n      <td>11</td>\n      <td>4</td>\n      <td>True</td>\n      <td>False</td>\n      <td>False</td>\n      <td>False</td>\n      <td>False</td>\n      <td>True</td>\n      <td>False</td>\n      <td>False</td>\n      <td>False</td>\n      <td>False</td>\n    </tr>\n    <tr>\n      <th>4</th>\n      <td>1990</td>\n      <td>Austria</td>\n      <td>1</td>\n      <td>11</td>\n      <td>4</td>\n      <td>True</td>\n      <td>False</td>\n      <td>False</td>\n      <td>False</td>\n      <td>False</td>\n      <td>True</td>\n      <td>False</td>\n      <td>False</td>\n      <td>False</td>\n      <td>False</td>\n    </tr>\n  </tbody>\n</table>\n</div>"
     },
     "execution_count": 66,
     "metadata": {},
     "output_type": "execute_result"
    }
   ],
   "source": [
    "expanded_df.head()"
   ],
   "metadata": {
    "collapsed": false,
    "ExecuteTime": {
     "end_time": "2023-11-16T07:59:51.817275Z",
     "start_time": "2023-11-16T07:59:51.764257Z"
    }
   },
   "id": "a5324b4cedd2d727"
  },
  {
   "cell_type": "code",
   "execution_count": 67,
   "outputs": [
    {
     "name": "stderr",
     "output_type": "stream",
     "text": [
      "/Users/taemmini/anaconda3/envs/Depression Analysis/lib/python3.11/site-packages/sklearn/utils/validation.py:767: FutureWarning: is_sparse is deprecated and will be removed in a future version. Check `isinstance(dtype, pd.SparseDtype)` instead.\n",
      "  if not hasattr(array, \"sparse\") and array.dtypes.apply(is_sparse).any():\n",
      "/Users/taemmini/anaconda3/envs/Depression Analysis/lib/python3.11/site-packages/sklearn/utils/validation.py:605: FutureWarning: is_sparse is deprecated and will be removed in a future version. Check `isinstance(dtype, pd.SparseDtype)` instead.\n",
      "  if is_sparse(pd_dtype):\n",
      "/Users/taemmini/anaconda3/envs/Depression Analysis/lib/python3.11/site-packages/sklearn/utils/validation.py:614: FutureWarning: is_sparse is deprecated and will be removed in a future version. Check `isinstance(dtype, pd.SparseDtype)` instead.\n",
      "  if is_sparse(pd_dtype) or not is_extension_array_dtype(pd_dtype):\n",
      "/Users/taemmini/anaconda3/envs/Depression Analysis/lib/python3.11/site-packages/sklearn/utils/validation.py:767: FutureWarning: is_sparse is deprecated and will be removed in a future version. Check `isinstance(dtype, pd.SparseDtype)` instead.\n",
      "  if not hasattr(array, \"sparse\") and array.dtypes.apply(is_sparse).any():\n",
      "/Users/taemmini/anaconda3/envs/Depression Analysis/lib/python3.11/site-packages/sklearn/utils/validation.py:605: FutureWarning: is_sparse is deprecated and will be removed in a future version. Check `isinstance(dtype, pd.SparseDtype)` instead.\n",
      "  if is_sparse(pd_dtype):\n",
      "/Users/taemmini/anaconda3/envs/Depression Analysis/lib/python3.11/site-packages/sklearn/utils/validation.py:614: FutureWarning: is_sparse is deprecated and will be removed in a future version. Check `isinstance(dtype, pd.SparseDtype)` instead.\n",
      "  if is_sparse(pd_dtype) or not is_extension_array_dtype(pd_dtype):\n"
     ]
    }
   ],
   "source": [
    "# Frequency 데이터 정규화\n",
    "from sklearn.preprocessing import MinMaxScaler\n",
    "scaler = MinMaxScaler()\n",
    "expanded_df['Frequency'] = scaler.fit_transform(expanded_df[['Frequency']])"
   ],
   "metadata": {
    "collapsed": false,
    "ExecuteTime": {
     "end_time": "2023-11-16T07:59:51.930103Z",
     "start_time": "2023-11-16T07:59:51.926763Z"
    }
   },
   "id": "8c2da5112b05a83d"
  },
  {
   "cell_type": "code",
   "execution_count": 68,
   "outputs": [
    {
     "data": {
      "text/plain": "REF_DATE                   int64\nGEO                       object\nSex                        int64\nAge group                 object\nFrequency                float64\nTERMINATED                object\nAilments_Anxiety            bool\nAilments_Backache           bool\nAilments_Depressed          bool\nAilments_Dizziness          bool\nAilments_Headache           bool\nAilments_Insomnia           bool\nAilments_Irritability       bool\nAilments_Stomachache        bool\nAilments_Tiredness          bool\ndtype: object"
     },
     "execution_count": 68,
     "metadata": {},
     "output_type": "execute_result"
    }
   ],
   "source": [
    "# 칼럼별 데이터타입 확인\n",
    "expanded_df.dtypes"
   ],
   "metadata": {
    "collapsed": false,
    "ExecuteTime": {
     "end_time": "2023-11-16T07:59:52.089636Z",
     "start_time": "2023-11-16T07:59:52.086585Z"
    }
   },
   "id": "7941488f89fa5973"
  },
  {
   "cell_type": "code",
   "execution_count": 69,
   "outputs": [],
   "source": [
    "# Terminated Boolean 변환\n",
    "expanded_df['TERMINATED'] = expanded_df['TERMINATED'].apply(lambda x: True if x == 'True' else False)\n",
    "\n",
    "# Age group int 변환\n",
    "expanded_df['Age group'] = expanded_df['Age group'].astype(int)"
   ],
   "metadata": {
    "collapsed": false,
    "ExecuteTime": {
     "end_time": "2023-11-16T07:59:52.269080Z",
     "start_time": "2023-11-16T07:59:52.267443Z"
    }
   },
   "id": "bbc2e26477986f90"
  },
  {
   "cell_type": "code",
   "execution_count": 70,
   "outputs": [
    {
     "data": {
      "text/plain": "REF_DATE                   int64\nGEO                       object\nSex                        int64\nAge group                  int64\nFrequency                float64\nTERMINATED                  bool\nAilments_Anxiety            bool\nAilments_Backache           bool\nAilments_Depressed          bool\nAilments_Dizziness          bool\nAilments_Headache           bool\nAilments_Insomnia           bool\nAilments_Irritability       bool\nAilments_Stomachache        bool\nAilments_Tiredness          bool\ndtype: object"
     },
     "execution_count": 70,
     "metadata": {},
     "output_type": "execute_result"
    }
   ],
   "source": [
    "# 칼럼별 데이터타입 확인\n",
    "expanded_df.dtypes"
   ],
   "metadata": {
    "collapsed": false,
    "ExecuteTime": {
     "end_time": "2023-11-16T07:59:52.970218Z",
     "start_time": "2023-11-16T07:59:52.966074Z"
    }
   },
   "id": "2dcbd4e7112b07ab"
  },
  {
   "cell_type": "code",
   "execution_count": 72,
   "outputs": [],
   "source": [
    "expanded_df.to_csv('Ailments/Dataset_Aliments/13100196_preprocessed.csv', index=False)"
   ],
   "metadata": {
    "collapsed": false,
    "ExecuteTime": {
     "end_time": "2023-11-16T08:00:04.455227Z",
     "start_time": "2023-11-16T08:00:04.174787Z"
    }
   },
   "id": "6d9c14ba5139a19a"
  }
 ],
 "metadata": {
  "kernelspec": {
   "display_name": "Python 3",
   "language": "python",
   "name": "python3"
  },
  "language_info": {
   "codemirror_mode": {
    "name": "ipython",
    "version": 2
   },
   "file_extension": ".py",
   "mimetype": "text/x-python",
   "name": "python",
   "nbconvert_exporter": "python",
   "pygments_lexer": "ipython2",
   "version": "2.7.6"
  }
 },
 "nbformat": 4,
 "nbformat_minor": 5
}
