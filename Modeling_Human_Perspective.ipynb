{
 "cells": [
  {
   "cell_type": "markdown",
   "source": [
    "# 인공 신경망을 사용해보기"
   ],
   "metadata": {
    "collapsed": false
   },
   "id": "2495fbd9849c4b69"
  },
  {
   "cell_type": "code",
   "execution_count": 1,
   "id": "initial_id",
   "metadata": {
    "collapsed": true,
    "ExecuteTime": {
     "end_time": "2023-11-25T16:34:01.768436Z",
     "start_time": "2023-11-25T16:34:00.011455Z"
    }
   },
   "outputs": [],
   "source": [
    "import tensorflow as tf\n",
    "import numpy as np\n",
    "import pandas as pd"
   ]
  },
  {
   "cell_type": "code",
   "execution_count": 2,
   "outputs": [],
   "source": [
    "# pca 데이터셋 불러오기\n",
    "dataset_path = 'Datasets_Captcha/Captcha_pca.npy'\n",
    "label_path = 'Datasets_Captcha/Captcha_labels.csv'\n",
    "captcha = np.load(dataset_path)\n",
    "label = pd.read_csv(label_path)"
   ],
   "metadata": {
    "collapsed": false,
    "ExecuteTime": {
     "end_time": "2023-11-25T16:34:03.859739Z",
     "start_time": "2023-11-25T16:34:03.829983Z"
    }
   },
   "id": "b7c1d7ce3140d8cf"
  },
  {
   "cell_type": "code",
   "execution_count": 9,
   "outputs": [
    {
     "name": "stderr",
     "output_type": "stream",
     "text": [
      "/Users/taemmini/anaconda3/envs/HUFS_ML/lib/python3.11/site-packages/sklearn/utils/validation.py:605: FutureWarning: is_sparse is deprecated and will be removed in a future version. Check `isinstance(dtype, pd.SparseDtype)` instead.\n",
      "  if is_sparse(pd_dtype):\n",
      "/Users/taemmini/anaconda3/envs/HUFS_ML/lib/python3.11/site-packages/sklearn/utils/validation.py:614: FutureWarning: is_sparse is deprecated and will be removed in a future version. Check `isinstance(dtype, pd.SparseDtype)` instead.\n",
      "  if is_sparse(pd_dtype) or not is_extension_array_dtype(pd_dtype):\n"
     ]
    }
   ],
   "source": [
    "from sklearn.preprocessing import LabelEncoder\n",
    "\n",
    "# 레이블 인코더 생성\n",
    "label_encoder = LabelEncoder()\n",
    "\n",
    "# 레이블 인코딩\n",
    "encoded_labels = label_encoder.fit_transform(label['CAPTCHA_label'])\n",
    "unique_labels = len(np.unique(encoded_labels))"
   ],
   "metadata": {
    "collapsed": false,
    "ExecuteTime": {
     "end_time": "2023-11-25T16:37:02.532823Z",
     "start_time": "2023-11-25T16:37:02.526030Z"
    }
   },
   "id": "52e59f7578ce279f"
  },
  {
   "cell_type": "code",
   "execution_count": 12,
   "outputs": [],
   "source": [
    "# 데이터 분할\n",
    "from sklearn.model_selection import train_test_split\n",
    "\n",
    "train_pca, valid_pca, train_y, valid_y = train_test_split(captcha, encoded_labels, test_size=0.2, random_state=42)"
   ],
   "metadata": {
    "collapsed": false,
    "ExecuteTime": {
     "end_time": "2023-11-25T16:37:21.188617Z",
     "start_time": "2023-11-25T16:37:21.124539Z"
    }
   },
   "id": "967a888b547fb61b"
  },
  {
   "cell_type": "code",
   "execution_count": 21,
   "outputs": [],
   "source": [
    "# 인공 신경망 라이브러리 불러오기\n",
    "from tensorflow import keras"
   ],
   "metadata": {
    "collapsed": false,
    "ExecuteTime": {
     "end_time": "2023-11-25T16:40:05.065587Z",
     "start_time": "2023-11-25T16:40:05.060419Z"
    }
   },
   "id": "df7986ea6d003212"
  },
  {
   "cell_type": "code",
   "execution_count": 32,
   "outputs": [],
   "source": [
    "# 완전 연결층\n",
    "dense = keras.layers.Dense(unique_labels, activation='softmax', input_shape=(train_pca.shape[1],))"
   ],
   "metadata": {
    "collapsed": false,
    "ExecuteTime": {
     "end_time": "2023-11-25T16:52:27.706155Z",
     "start_time": "2023-11-25T16:52:27.702297Z"
    }
   },
   "id": "878eda10a7d9db94"
  },
  {
   "cell_type": "code",
   "execution_count": 33,
   "outputs": [],
   "source": [
    "# 모델 생성\n",
    "model_full_layer = keras.Sequential(dense)"
   ],
   "metadata": {
    "collapsed": false,
    "ExecuteTime": {
     "end_time": "2023-11-25T16:52:29.283873Z",
     "start_time": "2023-11-25T16:52:29.260030Z"
    }
   },
   "id": "106d6018370672c3"
  },
  {
   "cell_type": "code",
   "execution_count": 34,
   "outputs": [],
   "source": [
    "# 모델 컴파일\n",
    "model_full_layer.compile(optimizer='adam', loss='sparse_categorical_crossentropy', metrics=['accuracy'])"
   ],
   "metadata": {
    "collapsed": false,
    "ExecuteTime": {
     "end_time": "2023-11-25T16:52:30.516121Z",
     "start_time": "2023-11-25T16:52:30.512397Z"
    }
   },
   "id": "362d233085fe6359"
  },
  {
   "cell_type": "code",
   "execution_count": 35,
   "outputs": [
    {
     "name": "stdout",
     "output_type": "stream",
     "text": [
      "Epoch 1/100\n",
      "250/250 [==============================] - 3s 13ms/step - loss: 406.8508 - accuracy: 0.1256 - val_loss: 441.2615 - val_accuracy: 0.2239\n",
      "Epoch 2/100\n",
      "250/250 [==============================] - 3s 12ms/step - loss: 19.0366 - accuracy: 0.9901 - val_loss: 456.1812 - val_accuracy: 0.2234\n",
      "Epoch 3/100\n",
      "250/250 [==============================] - 3s 13ms/step - loss: 19.2980 - accuracy: 0.9906 - val_loss: 454.8150 - val_accuracy: 0.2244\n",
      "Epoch 4/100\n",
      "250/250 [==============================] - 3s 13ms/step - loss: 19.7272 - accuracy: 0.9910 - val_loss: 456.6445 - val_accuracy: 0.2239\n",
      "Epoch 5/100\n",
      "250/250 [==============================] - 3s 13ms/step - loss: 20.3885 - accuracy: 0.9904 - val_loss: 455.9673 - val_accuracy: 0.2249\n",
      "Epoch 6/100\n",
      "250/250 [==============================] - 3s 12ms/step - loss: 21.3061 - accuracy: 0.9908 - val_loss: 455.5244 - val_accuracy: 0.2244\n",
      "Epoch 7/100\n",
      "250/250 [==============================] - 3s 12ms/step - loss: 20.6890 - accuracy: 0.9908 - val_loss: 457.0061 - val_accuracy: 0.2239\n",
      "Epoch 8/100\n",
      "250/250 [==============================] - 3s 12ms/step - loss: 19.0372 - accuracy: 0.9911 - val_loss: 456.8189 - val_accuracy: 0.2244\n",
      "Epoch 9/100\n",
      "250/250 [==============================] - 3s 12ms/step - loss: 21.1344 - accuracy: 0.9906 - val_loss: 457.2547 - val_accuracy: 0.2234\n",
      "Epoch 10/100\n",
      "250/250 [==============================] - 3s 12ms/step - loss: 20.5673 - accuracy: 0.9911 - val_loss: 454.2459 - val_accuracy: 0.2249\n",
      "Epoch 11/100\n",
      "250/250 [==============================] - 3s 13ms/step - loss: 20.6565 - accuracy: 0.9905 - val_loss: 455.7383 - val_accuracy: 0.2244\n",
      "Epoch 12/100\n",
      "250/250 [==============================] - 3s 12ms/step - loss: 21.8792 - accuracy: 0.9904 - val_loss: 455.7822 - val_accuracy: 0.2244\n",
      "Epoch 13/100\n",
      "250/250 [==============================] - 3s 13ms/step - loss: 21.5777 - accuracy: 0.9905 - val_loss: 460.1907 - val_accuracy: 0.2234\n",
      "Epoch 14/100\n",
      "250/250 [==============================] - 3s 12ms/step - loss: 23.6949 - accuracy: 0.9898 - val_loss: 457.1108 - val_accuracy: 0.2239\n",
      "Epoch 15/100\n",
      "250/250 [==============================] - 3s 12ms/step - loss: 23.1553 - accuracy: 0.9895 - val_loss: 458.3828 - val_accuracy: 0.2239\n",
      "Epoch 16/100\n",
      "250/250 [==============================] - 3s 11ms/step - loss: 20.6795 - accuracy: 0.9899 - val_loss: 460.5605 - val_accuracy: 0.2234\n",
      "Epoch 17/100\n",
      "250/250 [==============================] - 3s 12ms/step - loss: 21.7087 - accuracy: 0.9904 - val_loss: 458.6240 - val_accuracy: 0.2239\n",
      "Epoch 18/100\n",
      "250/250 [==============================] - 3s 12ms/step - loss: 20.8259 - accuracy: 0.9904 - val_loss: 457.5743 - val_accuracy: 0.2244\n",
      "Epoch 19/100\n",
      "250/250 [==============================] - 3s 12ms/step - loss: 21.0405 - accuracy: 0.9906 - val_loss: 458.7274 - val_accuracy: 0.2239\n",
      "Epoch 20/100\n",
      "250/250 [==============================] - 3s 12ms/step - loss: 22.2854 - accuracy: 0.9904 - val_loss: 459.9695 - val_accuracy: 0.2234\n",
      "Epoch 21/100\n",
      "250/250 [==============================] - 3s 12ms/step - loss: 21.6865 - accuracy: 0.9909 - val_loss: 456.6474 - val_accuracy: 0.2249\n",
      "Epoch 22/100\n",
      "250/250 [==============================] - 3s 12ms/step - loss: 22.0590 - accuracy: 0.9899 - val_loss: 458.2753 - val_accuracy: 0.2239\n",
      "Epoch 23/100\n",
      "250/250 [==============================] - 3s 11ms/step - loss: 18.7472 - accuracy: 0.9914 - val_loss: 458.8164 - val_accuracy: 0.2239\n",
      "Epoch 24/100\n",
      "250/250 [==============================] - 3s 12ms/step - loss: 22.7121 - accuracy: 0.9901 - val_loss: 458.8654 - val_accuracy: 0.2244\n",
      "Epoch 25/100\n",
      "250/250 [==============================] - 3s 12ms/step - loss: 21.1143 - accuracy: 0.9908 - val_loss: 459.3008 - val_accuracy: 0.2239\n",
      "Epoch 26/100\n",
      "250/250 [==============================] - 3s 12ms/step - loss: 21.1231 - accuracy: 0.9906 - val_loss: 459.6942 - val_accuracy: 0.2239\n",
      "Epoch 27/100\n",
      "250/250 [==============================] - 3s 11ms/step - loss: 22.7322 - accuracy: 0.9902 - val_loss: 457.5974 - val_accuracy: 0.2249\n",
      "Epoch 28/100\n",
      "250/250 [==============================] - 3s 11ms/step - loss: 21.9845 - accuracy: 0.9901 - val_loss: 460.9444 - val_accuracy: 0.2239\n",
      "Epoch 29/100\n",
      "250/250 [==============================] - 3s 12ms/step - loss: 20.4064 - accuracy: 0.9904 - val_loss: 457.8749 - val_accuracy: 0.2244\n",
      "Epoch 30/100\n",
      "250/250 [==============================] - 3s 11ms/step - loss: 20.9499 - accuracy: 0.9908 - val_loss: 457.4176 - val_accuracy: 0.2244\n",
      "Epoch 31/100\n",
      "250/250 [==============================] - 3s 12ms/step - loss: 23.5769 - accuracy: 0.9906 - val_loss: 456.3825 - val_accuracy: 0.2249\n",
      "Epoch 32/100\n",
      "250/250 [==============================] - 3s 12ms/step - loss: 19.3571 - accuracy: 0.9911 - val_loss: 459.8938 - val_accuracy: 0.2234\n",
      "Epoch 33/100\n",
      "250/250 [==============================] - 3s 12ms/step - loss: 19.5018 - accuracy: 0.9914 - val_loss: 459.5830 - val_accuracy: 0.2239\n",
      "Epoch 34/100\n",
      "250/250 [==============================] - 3s 12ms/step - loss: 21.1570 - accuracy: 0.9914 - val_loss: 459.4066 - val_accuracy: 0.2239\n",
      "Epoch 35/100\n",
      "250/250 [==============================] - 3s 12ms/step - loss: 20.0667 - accuracy: 0.9906 - val_loss: 461.3966 - val_accuracy: 0.2234\n",
      "Epoch 36/100\n",
      "250/250 [==============================] - 3s 12ms/step - loss: 22.5757 - accuracy: 0.9904 - val_loss: 460.2428 - val_accuracy: 0.2239\n",
      "Epoch 37/100\n",
      "250/250 [==============================] - 3s 13ms/step - loss: 20.5400 - accuracy: 0.9906 - val_loss: 458.4328 - val_accuracy: 0.2244\n",
      "Epoch 38/100\n",
      "250/250 [==============================] - 3s 12ms/step - loss: 21.8491 - accuracy: 0.9908 - val_loss: 460.3083 - val_accuracy: 0.2239\n",
      "Epoch 39/100\n",
      "250/250 [==============================] - 3s 12ms/step - loss: 19.4413 - accuracy: 0.9909 - val_loss: 460.4744 - val_accuracy: 0.2234\n",
      "Epoch 40/100\n",
      "250/250 [==============================] - 3s 12ms/step - loss: 22.3161 - accuracy: 0.9902 - val_loss: 459.9284 - val_accuracy: 0.2239\n",
      "Epoch 41/100\n",
      "250/250 [==============================] - 3s 12ms/step - loss: 21.0992 - accuracy: 0.9906 - val_loss: 457.9562 - val_accuracy: 0.2249\n",
      "Epoch 42/100\n",
      "250/250 [==============================] - 3s 12ms/step - loss: 20.3920 - accuracy: 0.9909 - val_loss: 458.7233 - val_accuracy: 0.2234\n",
      "Epoch 43/100\n",
      "250/250 [==============================] - 3s 13ms/step - loss: 22.3340 - accuracy: 0.9902 - val_loss: 459.6700 - val_accuracy: 0.2244\n",
      "Epoch 44/100\n",
      "250/250 [==============================] - 3s 14ms/step - loss: 21.1960 - accuracy: 0.9906 - val_loss: 458.3954 - val_accuracy: 0.2244\n",
      "Epoch 45/100\n",
      "250/250 [==============================] - 3s 13ms/step - loss: 20.2393 - accuracy: 0.9909 - val_loss: 460.6316 - val_accuracy: 0.2239\n",
      "Epoch 46/100\n",
      "250/250 [==============================] - 3s 13ms/step - loss: 21.1634 - accuracy: 0.9905 - val_loss: 461.8199 - val_accuracy: 0.2239\n",
      "Epoch 47/100\n",
      "250/250 [==============================] - 3s 13ms/step - loss: 22.0666 - accuracy: 0.9908 - val_loss: 459.7905 - val_accuracy: 0.2244\n",
      "Epoch 48/100\n",
      "250/250 [==============================] - 3s 13ms/step - loss: 20.9794 - accuracy: 0.9908 - val_loss: 460.7035 - val_accuracy: 0.2239\n",
      "Epoch 49/100\n",
      "250/250 [==============================] - 3s 12ms/step - loss: 21.8639 - accuracy: 0.9904 - val_loss: 463.9590 - val_accuracy: 0.2234\n",
      "Epoch 50/100\n",
      "250/250 [==============================] - 3s 12ms/step - loss: 21.7464 - accuracy: 0.9910 - val_loss: 458.5490 - val_accuracy: 0.2249\n",
      "Epoch 51/100\n",
      "250/250 [==============================] - 3s 12ms/step - loss: 18.9010 - accuracy: 0.9912 - val_loss: 461.1524 - val_accuracy: 0.2239\n",
      "Epoch 52/100\n",
      "250/250 [==============================] - 3s 13ms/step - loss: 22.1401 - accuracy: 0.9904 - val_loss: 460.5158 - val_accuracy: 0.2239\n",
      "Epoch 53/100\n",
      "250/250 [==============================] - 3s 12ms/step - loss: 22.8363 - accuracy: 0.9895 - val_loss: 462.9625 - val_accuracy: 0.2234\n",
      "Epoch 54/100\n",
      "250/250 [==============================] - 3s 12ms/step - loss: 21.2224 - accuracy: 0.9904 - val_loss: 458.5126 - val_accuracy: 0.2249\n",
      "Epoch 55/100\n",
      "250/250 [==============================] - 3s 12ms/step - loss: 21.7717 - accuracy: 0.9909 - val_loss: 463.3784 - val_accuracy: 0.2234\n",
      "Epoch 56/100\n",
      "250/250 [==============================] - 3s 12ms/step - loss: 21.8552 - accuracy: 0.9901 - val_loss: 459.9286 - val_accuracy: 0.2249\n",
      "Epoch 57/100\n",
      "250/250 [==============================] - 3s 12ms/step - loss: 19.0837 - accuracy: 0.9909 - val_loss: 460.5316 - val_accuracy: 0.2244\n",
      "Epoch 58/100\n",
      "250/250 [==============================] - 3s 13ms/step - loss: 22.2838 - accuracy: 0.9900 - val_loss: 461.4880 - val_accuracy: 0.2239\n",
      "Epoch 59/100\n",
      "250/250 [==============================] - 3s 13ms/step - loss: 20.7560 - accuracy: 0.9912 - val_loss: 461.1634 - val_accuracy: 0.2244\n",
      "Epoch 60/100\n",
      "250/250 [==============================] - 3s 13ms/step - loss: 23.8869 - accuracy: 0.9902 - val_loss: 461.0274 - val_accuracy: 0.2239\n",
      "Epoch 61/100\n",
      "250/250 [==============================] - 3s 12ms/step - loss: 23.1878 - accuracy: 0.9890 - val_loss: 459.5886 - val_accuracy: 0.2244\n",
      "Epoch 62/100\n",
      "250/250 [==============================] - 3s 12ms/step - loss: 19.8022 - accuracy: 0.9904 - val_loss: 461.3818 - val_accuracy: 0.2239\n",
      "Epoch 63/100\n",
      "250/250 [==============================] - 3s 12ms/step - loss: 22.3605 - accuracy: 0.9900 - val_loss: 462.5461 - val_accuracy: 0.2234\n",
      "Epoch 64/100\n",
      "250/250 [==============================] - 3s 13ms/step - loss: 20.9547 - accuracy: 0.9910 - val_loss: 459.8428 - val_accuracy: 0.2249\n",
      "Epoch 65/100\n",
      "250/250 [==============================] - 3s 12ms/step - loss: 22.7188 - accuracy: 0.9899 - val_loss: 459.3956 - val_accuracy: 0.2249\n",
      "Epoch 66/100\n",
      "250/250 [==============================] - 3s 12ms/step - loss: 22.4052 - accuracy: 0.9905 - val_loss: 460.5518 - val_accuracy: 0.2244\n",
      "Epoch 67/100\n",
      "250/250 [==============================] - 3s 12ms/step - loss: 21.0716 - accuracy: 0.9899 - val_loss: 461.9535 - val_accuracy: 0.2234\n",
      "Epoch 68/100\n",
      "250/250 [==============================] - 3s 12ms/step - loss: 21.3967 - accuracy: 0.9899 - val_loss: 459.2564 - val_accuracy: 0.2249\n",
      "Epoch 69/100\n",
      "250/250 [==============================] - 3s 12ms/step - loss: 23.0471 - accuracy: 0.9896 - val_loss: 461.0274 - val_accuracy: 0.2249\n",
      "Epoch 70/100\n",
      "250/250 [==============================] - 3s 12ms/step - loss: 22.5288 - accuracy: 0.9909 - val_loss: 460.5919 - val_accuracy: 0.2239\n",
      "Epoch 71/100\n",
      "250/250 [==============================] - 3s 12ms/step - loss: 19.7180 - accuracy: 0.9908 - val_loss: 461.0115 - val_accuracy: 0.2239\n",
      "Epoch 72/100\n",
      "250/250 [==============================] - 3s 12ms/step - loss: 20.3533 - accuracy: 0.9901 - val_loss: 480.0008 - val_accuracy: 0.2239\n",
      "Epoch 73/100\n",
      "250/250 [==============================] - 3s 12ms/step - loss: 19.4314 - accuracy: 0.9885 - val_loss: 555.6562 - val_accuracy: 0.2224\n",
      "Epoch 74/100\n",
      "250/250 [==============================] - 3s 11ms/step - loss: 23.6527 - accuracy: 0.9737 - val_loss: 684.9476 - val_accuracy: 0.2194\n",
      "Epoch 75/100\n",
      "250/250 [==============================] - 3s 11ms/step - loss: 25.8468 - accuracy: 0.9526 - val_loss: 796.4861 - val_accuracy: 0.2189\n",
      "Epoch 76/100\n",
      "250/250 [==============================] - 3s 11ms/step - loss: 27.2080 - accuracy: 0.9559 - val_loss: 843.0754 - val_accuracy: 0.2209\n",
      "Epoch 77/100\n",
      "250/250 [==============================] - 3s 11ms/step - loss: 23.0291 - accuracy: 0.9761 - val_loss: 854.7869 - val_accuracy: 0.2244\n",
      "Epoch 78/100\n",
      "250/250 [==============================] - 3s 11ms/step - loss: 21.3230 - accuracy: 0.9845 - val_loss: 861.7076 - val_accuracy: 0.2239\n",
      "Epoch 79/100\n",
      "250/250 [==============================] - 3s 11ms/step - loss: 21.6415 - accuracy: 0.9885 - val_loss: 861.6523 - val_accuracy: 0.2239\n",
      "Epoch 80/100\n",
      "250/250 [==============================] - 3s 11ms/step - loss: 22.1781 - accuracy: 0.9896 - val_loss: 863.7794 - val_accuracy: 0.2244\n",
      "Epoch 81/100\n",
      "250/250 [==============================] - 3s 11ms/step - loss: 22.0449 - accuracy: 0.9900 - val_loss: 864.3092 - val_accuracy: 0.2239\n",
      "Epoch 82/100\n",
      "250/250 [==============================] - 3s 11ms/step - loss: 22.4858 - accuracy: 0.9900 - val_loss: 863.1108 - val_accuracy: 0.2249\n",
      "Epoch 83/100\n",
      "250/250 [==============================] - 3s 11ms/step - loss: 20.8670 - accuracy: 0.9904 - val_loss: 861.8073 - val_accuracy: 0.2249\n",
      "Epoch 84/100\n",
      "250/250 [==============================] - 3s 11ms/step - loss: 21.7827 - accuracy: 0.9905 - val_loss: 863.3787 - val_accuracy: 0.2244\n",
      "Epoch 85/100\n",
      "250/250 [==============================] - 3s 11ms/step - loss: 20.1946 - accuracy: 0.9911 - val_loss: 862.2587 - val_accuracy: 0.2249\n",
      "Epoch 86/100\n",
      "250/250 [==============================] - 3s 11ms/step - loss: 20.0407 - accuracy: 0.9904 - val_loss: 862.2825 - val_accuracy: 0.2249\n",
      "Epoch 87/100\n",
      "250/250 [==============================] - 3s 11ms/step - loss: 22.4631 - accuracy: 0.9896 - val_loss: 864.2872 - val_accuracy: 0.2244\n",
      "Epoch 88/100\n",
      "250/250 [==============================] - 3s 11ms/step - loss: 20.3785 - accuracy: 0.9904 - val_loss: 864.5888 - val_accuracy: 0.2239\n",
      "Epoch 89/100\n",
      "250/250 [==============================] - 3s 11ms/step - loss: 23.8425 - accuracy: 0.9895 - val_loss: 864.8203 - val_accuracy: 0.2239\n",
      "Epoch 90/100\n",
      "250/250 [==============================] - 3s 11ms/step - loss: 22.3804 - accuracy: 0.9895 - val_loss: 865.7155 - val_accuracy: 0.2239\n",
      "Epoch 91/100\n",
      "250/250 [==============================] - 3s 11ms/step - loss: 20.1235 - accuracy: 0.9910 - val_loss: 862.6412 - val_accuracy: 0.2254\n",
      "Epoch 92/100\n",
      "250/250 [==============================] - 3s 11ms/step - loss: 22.5711 - accuracy: 0.9900 - val_loss: 866.4608 - val_accuracy: 0.2239\n",
      "Epoch 93/100\n",
      "250/250 [==============================] - 3s 11ms/step - loss: 20.2989 - accuracy: 0.9902 - val_loss: 864.6420 - val_accuracy: 0.2244\n",
      "Epoch 94/100\n",
      "250/250 [==============================] - 3s 11ms/step - loss: 21.0108 - accuracy: 0.9904 - val_loss: 863.4399 - val_accuracy: 0.2249\n",
      "Epoch 95/100\n",
      "250/250 [==============================] - 3s 12ms/step - loss: 19.7150 - accuracy: 0.9908 - val_loss: 864.9423 - val_accuracy: 0.2244\n",
      "Epoch 96/100\n",
      "250/250 [==============================] - 3s 12ms/step - loss: 23.7017 - accuracy: 0.9902 - val_loss: 863.1858 - val_accuracy: 0.2254\n",
      "Epoch 97/100\n",
      "250/250 [==============================] - 3s 12ms/step - loss: 19.2786 - accuracy: 0.9908 - val_loss: 867.4292 - val_accuracy: 0.2239\n",
      "Epoch 98/100\n",
      "250/250 [==============================] - 3s 12ms/step - loss: 19.5894 - accuracy: 0.9918 - val_loss: 866.3638 - val_accuracy: 0.2244\n",
      "Epoch 99/100\n",
      "250/250 [==============================] - 3s 12ms/step - loss: 19.4936 - accuracy: 0.9909 - val_loss: 867.2937 - val_accuracy: 0.2239\n",
      "Epoch 100/100\n",
      "250/250 [==============================] - 3s 12ms/step - loss: 22.7555 - accuracy: 0.9901 - val_loss: 864.1406 - val_accuracy: 0.2244\n"
     ]
    },
    {
     "data": {
      "text/plain": "<keras.callbacks.History at 0x2b6db5490>"
     },
     "execution_count": 35,
     "metadata": {},
     "output_type": "execute_result"
    }
   ],
   "source": [
    "# 모델 훈련\n",
    "model_full_layer.fit(train_pca, train_y, epochs=100, batch_size=32, validation_data=(valid_pca, valid_y))"
   ],
   "metadata": {
    "collapsed": false,
    "ExecuteTime": {
     "end_time": "2023-11-25T16:57:29.429868Z",
     "start_time": "2023-11-25T16:52:31.090280Z"
    }
   },
   "id": "238afdaf93081b8c"
  },
  {
   "cell_type": "code",
   "execution_count": 36,
   "outputs": [
    {
     "name": "stdout",
     "output_type": "stream",
     "text": [
      "63/63 [==============================] - 0s 5ms/step - loss: 864.1406 - accuracy: 0.2244\n"
     ]
    },
    {
     "data": {
      "text/plain": "[864.1405639648438, 0.22438780963420868]"
     },
     "execution_count": 36,
     "metadata": {},
     "output_type": "execute_result"
    }
   ],
   "source": [
    "# 모델 평가\n",
    "model_full_layer.evaluate(valid_pca, valid_y)"
   ],
   "metadata": {
    "collapsed": false,
    "ExecuteTime": {
     "end_time": "2023-11-25T16:57:32.023622Z",
     "start_time": "2023-11-25T16:57:31.694340Z"
    }
   },
   "id": "3c0a05a0f2c3453"
  },
  {
   "cell_type": "code",
   "execution_count": 41,
   "outputs": [],
   "source": [
    "# DNN 모델 구축\n",
    "model_DNN = keras.Sequential([\n",
    "    keras.layers.Dense(1024, activation='relu', input_shape=(1500,)),\n",
    "    keras.layers.Dropout(0.5),\n",
    "    keras.layers.Dense(unique_labels, activation='softmax')  # 출력 층의 뉴런 수를 unique_labels로 설정\n",
    "])"
   ],
   "metadata": {
    "collapsed": false,
    "ExecuteTime": {
     "end_time": "2023-11-25T17:00:42.670906Z",
     "start_time": "2023-11-25T17:00:42.644329Z"
    }
   },
   "id": "a0c8926fdf84b083"
  },
  {
   "cell_type": "code",
   "execution_count": 42,
   "outputs": [],
   "source": [
    "# 모델 컴파일\n",
    "model_DNN.compile(optimizer='adam',\n",
    "                  loss='sparse_categorical_crossentropy',\n",
    "                  metrics=['accuracy'])"
   ],
   "metadata": {
    "collapsed": false,
    "ExecuteTime": {
     "end_time": "2023-11-25T17:00:42.965867Z",
     "start_time": "2023-11-25T17:00:42.961855Z"
    }
   },
   "id": "7ec7a83129e13a83"
  },
  {
   "cell_type": "code",
   "execution_count": 43,
   "outputs": [
    {
     "name": "stdout",
     "output_type": "stream",
     "text": [
      "Epoch 1/100\n",
      "250/250 [==============================] - 4s 16ms/step - loss: 389.8621 - accuracy: 0.0436 - val_loss: 315.3060 - val_accuracy: 0.1174\n",
      "Epoch 2/100\n",
      "250/250 [==============================] - 4s 15ms/step - loss: 145.7497 - accuracy: 0.2985 - val_loss: 351.9648 - val_accuracy: 0.2089\n",
      "Epoch 3/100\n",
      "250/250 [==============================] - 4s 15ms/step - loss: 38.1360 - accuracy: 0.7830 - val_loss: 381.0667 - val_accuracy: 0.2214\n",
      "Epoch 4/100\n",
      "250/250 [==============================] - 4s 15ms/step - loss: 20.4163 - accuracy: 0.8874 - val_loss: 439.0928 - val_accuracy: 0.2204\n",
      "Epoch 5/100\n",
      "250/250 [==============================] - 4s 15ms/step - loss: 25.9779 - accuracy: 0.8698 - val_loss: 477.0738 - val_accuracy: 0.2224\n",
      "Epoch 6/100\n",
      "250/250 [==============================] - 4s 15ms/step - loss: 38.5731 - accuracy: 0.8173 - val_loss: 559.9003 - val_accuracy: 0.2224\n",
      "Epoch 7/100\n",
      "250/250 [==============================] - 4s 15ms/step - loss: 48.0865 - accuracy: 0.8004 - val_loss: 665.1344 - val_accuracy: 0.2209\n",
      "Epoch 8/100\n",
      "250/250 [==============================] - 4s 15ms/step - loss: 44.4422 - accuracy: 0.8404 - val_loss: 758.6065 - val_accuracy: 0.2219\n",
      "Epoch 9/100\n",
      "250/250 [==============================] - 4s 15ms/step - loss: 34.8255 - accuracy: 0.8999 - val_loss: 760.1815 - val_accuracy: 0.2239\n",
      "Epoch 10/100\n",
      "250/250 [==============================] - 4s 15ms/step - loss: 29.5009 - accuracy: 0.9286 - val_loss: 774.6179 - val_accuracy: 0.2244\n",
      "Epoch 11/100\n",
      "250/250 [==============================] - 4s 15ms/step - loss: 29.5510 - accuracy: 0.9489 - val_loss: 802.6072 - val_accuracy: 0.2244\n",
      "Epoch 12/100\n",
      "250/250 [==============================] - 4s 15ms/step - loss: 33.1944 - accuracy: 0.9459 - val_loss: 871.4232 - val_accuracy: 0.2244\n",
      "Epoch 13/100\n",
      "250/250 [==============================] - 4s 15ms/step - loss: 33.2837 - accuracy: 0.9399 - val_loss: 940.8620 - val_accuracy: 0.2229\n",
      "Epoch 14/100\n",
      "250/250 [==============================] - 4s 15ms/step - loss: 30.1132 - accuracy: 0.9408 - val_loss: 1008.0232 - val_accuracy: 0.2239\n",
      "Epoch 15/100\n",
      "250/250 [==============================] - 4s 15ms/step - loss: 41.5868 - accuracy: 0.9300 - val_loss: 1033.4520 - val_accuracy: 0.2239\n",
      "Epoch 16/100\n",
      "250/250 [==============================] - 4s 15ms/step - loss: 42.7327 - accuracy: 0.9233 - val_loss: 1090.1611 - val_accuracy: 0.2229\n",
      "Epoch 17/100\n",
      "250/250 [==============================] - 4s 15ms/step - loss: 44.5856 - accuracy: 0.9237 - val_loss: 1177.8407 - val_accuracy: 0.2244\n",
      "Epoch 18/100\n",
      "250/250 [==============================] - 4s 15ms/step - loss: 46.4278 - accuracy: 0.9186 - val_loss: 1248.6631 - val_accuracy: 0.2234\n",
      "Epoch 19/100\n",
      "250/250 [==============================] - 4s 16ms/step - loss: 42.9069 - accuracy: 0.9290 - val_loss: 1296.9175 - val_accuracy: 0.2244\n",
      "Epoch 20/100\n",
      "250/250 [==============================] - 4s 16ms/step - loss: 39.9970 - accuracy: 0.9420 - val_loss: 1423.7327 - val_accuracy: 0.2224\n",
      "Epoch 21/100\n",
      "250/250 [==============================] - 4s 15ms/step - loss: 39.6695 - accuracy: 0.9473 - val_loss: 1413.2196 - val_accuracy: 0.2229\n",
      "Epoch 22/100\n",
      "250/250 [==============================] - 4s 15ms/step - loss: 40.3743 - accuracy: 0.9550 - val_loss: 1471.1672 - val_accuracy: 0.2244\n",
      "Epoch 23/100\n",
      "250/250 [==============================] - 4s 16ms/step - loss: 44.3942 - accuracy: 0.9600 - val_loss: 1367.8801 - val_accuracy: 0.2244\n",
      "Epoch 24/100\n",
      "250/250 [==============================] - 4s 16ms/step - loss: 42.6469 - accuracy: 0.9619 - val_loss: 1539.4326 - val_accuracy: 0.2244\n",
      "Epoch 25/100\n",
      "250/250 [==============================] - 4s 15ms/step - loss: 41.3352 - accuracy: 0.9626 - val_loss: 1485.0312 - val_accuracy: 0.2244\n",
      "Epoch 26/100\n",
      "250/250 [==============================] - 4s 16ms/step - loss: 38.9544 - accuracy: 0.9679 - val_loss: 1571.5109 - val_accuracy: 0.2239\n",
      "Epoch 27/100\n",
      "250/250 [==============================] - 4s 15ms/step - loss: 44.8557 - accuracy: 0.9639 - val_loss: 1740.1210 - val_accuracy: 0.2234\n",
      "Epoch 28/100\n",
      "250/250 [==============================] - 4s 16ms/step - loss: 50.2928 - accuracy: 0.9657 - val_loss: 1677.7502 - val_accuracy: 0.2229\n",
      "Epoch 29/100\n",
      "250/250 [==============================] - 4s 16ms/step - loss: 39.6844 - accuracy: 0.9659 - val_loss: 1613.0831 - val_accuracy: 0.2239\n",
      "Epoch 30/100\n",
      "250/250 [==============================] - 4s 16ms/step - loss: 35.5839 - accuracy: 0.9764 - val_loss: 1606.3678 - val_accuracy: 0.2239\n",
      "Epoch 31/100\n",
      "250/250 [==============================] - 4s 16ms/step - loss: 34.6779 - accuracy: 0.9759 - val_loss: 1682.4965 - val_accuracy: 0.2239\n",
      "Epoch 32/100\n",
      "250/250 [==============================] - 4s 16ms/step - loss: 42.6423 - accuracy: 0.9744 - val_loss: 1697.0472 - val_accuracy: 0.2234\n",
      "Epoch 33/100\n",
      "250/250 [==============================] - 4s 15ms/step - loss: 39.4661 - accuracy: 0.9715 - val_loss: 1729.6749 - val_accuracy: 0.2239\n",
      "Epoch 34/100\n",
      "250/250 [==============================] - 4s 16ms/step - loss: 48.7668 - accuracy: 0.9716 - val_loss: 1781.3607 - val_accuracy: 0.2249\n",
      "Epoch 35/100\n",
      "250/250 [==============================] - 4s 16ms/step - loss: 42.4458 - accuracy: 0.9730 - val_loss: 1798.6260 - val_accuracy: 0.2244\n",
      "Epoch 36/100\n",
      "250/250 [==============================] - 4s 15ms/step - loss: 41.3831 - accuracy: 0.9722 - val_loss: 1901.4540 - val_accuracy: 0.2244\n",
      "Epoch 37/100\n",
      "250/250 [==============================] - 4s 15ms/step - loss: 43.1388 - accuracy: 0.9707 - val_loss: 1994.5487 - val_accuracy: 0.2244\n",
      "Epoch 38/100\n",
      "250/250 [==============================] - 4s 15ms/step - loss: 43.5130 - accuracy: 0.9700 - val_loss: 1951.1230 - val_accuracy: 0.2239\n",
      "Epoch 39/100\n",
      "250/250 [==============================] - 4s 16ms/step - loss: 48.7097 - accuracy: 0.9668 - val_loss: 2060.9524 - val_accuracy: 0.2239\n",
      "Epoch 40/100\n",
      "250/250 [==============================] - 4s 16ms/step - loss: 50.2054 - accuracy: 0.9719 - val_loss: 1958.5969 - val_accuracy: 0.2239\n",
      "Epoch 41/100\n",
      "250/250 [==============================] - 4s 15ms/step - loss: 44.5533 - accuracy: 0.9725 - val_loss: 2049.4143 - val_accuracy: 0.2229\n",
      "Epoch 42/100\n",
      "250/250 [==============================] - 4s 16ms/step - loss: 36.8759 - accuracy: 0.9771 - val_loss: 2071.8123 - val_accuracy: 0.2234\n",
      "Epoch 43/100\n",
      "250/250 [==============================] - 4s 16ms/step - loss: 47.5232 - accuracy: 0.9774 - val_loss: 2142.4150 - val_accuracy: 0.2239\n",
      "Epoch 44/100\n",
      "250/250 [==============================] - 4s 15ms/step - loss: 40.2769 - accuracy: 0.9726 - val_loss: 2224.7278 - val_accuracy: 0.2244\n",
      "Epoch 45/100\n",
      "250/250 [==============================] - 4s 16ms/step - loss: 32.6566 - accuracy: 0.9730 - val_loss: 2191.9675 - val_accuracy: 0.2244\n",
      "Epoch 46/100\n",
      "250/250 [==============================] - 4s 16ms/step - loss: 44.6672 - accuracy: 0.9714 - val_loss: 2275.1125 - val_accuracy: 0.2249\n",
      "Epoch 47/100\n",
      "250/250 [==============================] - 4s 15ms/step - loss: 53.5125 - accuracy: 0.9721 - val_loss: 2292.0771 - val_accuracy: 0.2244\n",
      "Epoch 48/100\n",
      "250/250 [==============================] - 4s 16ms/step - loss: 43.5854 - accuracy: 0.9762 - val_loss: 2278.4648 - val_accuracy: 0.2244\n",
      "Epoch 49/100\n",
      "250/250 [==============================] - 4s 16ms/step - loss: 49.8344 - accuracy: 0.9732 - val_loss: 2420.8481 - val_accuracy: 0.2244\n",
      "Epoch 50/100\n",
      "250/250 [==============================] - 4s 15ms/step - loss: 50.2977 - accuracy: 0.9745 - val_loss: 2401.0347 - val_accuracy: 0.2239\n",
      "Epoch 51/100\n",
      "250/250 [==============================] - 4s 16ms/step - loss: 44.1951 - accuracy: 0.9785 - val_loss: 2336.8604 - val_accuracy: 0.2239\n",
      "Epoch 52/100\n",
      "250/250 [==============================] - 4s 16ms/step - loss: 35.4184 - accuracy: 0.9824 - val_loss: 2328.1709 - val_accuracy: 0.2254\n",
      "Epoch 53/100\n",
      "250/250 [==============================] - 4s 15ms/step - loss: 44.6181 - accuracy: 0.9746 - val_loss: 2403.1858 - val_accuracy: 0.2239\n",
      "Epoch 54/100\n",
      "250/250 [==============================] - 4s 16ms/step - loss: 41.1119 - accuracy: 0.9783 - val_loss: 2514.8655 - val_accuracy: 0.2239\n",
      "Epoch 55/100\n",
      "250/250 [==============================] - 4s 16ms/step - loss: 40.2898 - accuracy: 0.9793 - val_loss: 2517.6926 - val_accuracy: 0.2249\n",
      "Epoch 56/100\n",
      "250/250 [==============================] - 4s 16ms/step - loss: 41.3811 - accuracy: 0.9795 - val_loss: 2551.9578 - val_accuracy: 0.2239\n",
      "Epoch 57/100\n",
      "250/250 [==============================] - 4s 16ms/step - loss: 45.2988 - accuracy: 0.9756 - val_loss: 2573.9980 - val_accuracy: 0.2244\n",
      "Epoch 58/100\n",
      "250/250 [==============================] - 4s 15ms/step - loss: 47.0790 - accuracy: 0.9794 - val_loss: 2614.2681 - val_accuracy: 0.2239\n",
      "Epoch 59/100\n",
      "250/250 [==============================] - 4s 16ms/step - loss: 51.0890 - accuracy: 0.9789 - val_loss: 2604.3691 - val_accuracy: 0.2249\n",
      "Epoch 60/100\n",
      "250/250 [==============================] - 4s 15ms/step - loss: 38.3483 - accuracy: 0.9799 - val_loss: 2607.9478 - val_accuracy: 0.2244\n",
      "Epoch 61/100\n",
      "250/250 [==============================] - 4s 16ms/step - loss: 43.7996 - accuracy: 0.9800 - val_loss: 2648.7722 - val_accuracy: 0.2234\n",
      "Epoch 62/100\n",
      "250/250 [==============================] - 4s 16ms/step - loss: 51.3599 - accuracy: 0.9784 - val_loss: 2691.0750 - val_accuracy: 0.2229\n",
      "Epoch 63/100\n",
      "250/250 [==============================] - 4s 16ms/step - loss: 38.3181 - accuracy: 0.9791 - val_loss: 2691.6848 - val_accuracy: 0.2239\n",
      "Epoch 64/100\n",
      "250/250 [==============================] - 4s 16ms/step - loss: 48.2819 - accuracy: 0.9784 - val_loss: 2765.6685 - val_accuracy: 0.2254\n",
      "Epoch 65/100\n",
      "250/250 [==============================] - 4s 16ms/step - loss: 50.0074 - accuracy: 0.9786 - val_loss: 2873.9893 - val_accuracy: 0.2249\n",
      "Epoch 66/100\n",
      "250/250 [==============================] - 4s 16ms/step - loss: 37.1891 - accuracy: 0.9820 - val_loss: 2796.3394 - val_accuracy: 0.2244\n",
      "Epoch 67/100\n",
      "250/250 [==============================] - 4s 16ms/step - loss: 50.1809 - accuracy: 0.9789 - val_loss: 2861.6541 - val_accuracy: 0.2239\n",
      "Epoch 68/100\n",
      "250/250 [==============================] - 4s 16ms/step - loss: 37.4885 - accuracy: 0.9806 - val_loss: 2818.8452 - val_accuracy: 0.2239\n",
      "Epoch 69/100\n",
      "250/250 [==============================] - 4s 16ms/step - loss: 40.8778 - accuracy: 0.9826 - val_loss: 2776.2534 - val_accuracy: 0.2239\n",
      "Epoch 70/100\n",
      "250/250 [==============================] - 4s 16ms/step - loss: 46.1709 - accuracy: 0.9829 - val_loss: 2888.3899 - val_accuracy: 0.2239\n",
      "Epoch 71/100\n",
      "250/250 [==============================] - 4s 16ms/step - loss: 38.1354 - accuracy: 0.9800 - val_loss: 2933.1353 - val_accuracy: 0.2244\n",
      "Epoch 72/100\n",
      "250/250 [==============================] - 4s 16ms/step - loss: 40.8865 - accuracy: 0.9799 - val_loss: 3022.1521 - val_accuracy: 0.2234\n",
      "Epoch 73/100\n",
      "250/250 [==============================] - 4s 16ms/step - loss: 38.7013 - accuracy: 0.9809 - val_loss: 2995.7783 - val_accuracy: 0.2234\n",
      "Epoch 74/100\n",
      "250/250 [==============================] - 4s 16ms/step - loss: 42.8860 - accuracy: 0.9809 - val_loss: 2947.9988 - val_accuracy: 0.2244\n",
      "Epoch 75/100\n",
      "250/250 [==============================] - 4s 16ms/step - loss: 38.5533 - accuracy: 0.9830 - val_loss: 3039.3462 - val_accuracy: 0.2244\n",
      "Epoch 76/100\n",
      "250/250 [==============================] - 4s 16ms/step - loss: 41.8690 - accuracy: 0.9827 - val_loss: 3168.7910 - val_accuracy: 0.2244\n",
      "Epoch 77/100\n",
      "250/250 [==============================] - 4s 16ms/step - loss: 32.6347 - accuracy: 0.9836 - val_loss: 3037.1887 - val_accuracy: 0.2244\n",
      "Epoch 78/100\n",
      "250/250 [==============================] - 4s 16ms/step - loss: 38.6144 - accuracy: 0.9820 - val_loss: 3168.8745 - val_accuracy: 0.2244\n",
      "Epoch 79/100\n",
      "250/250 [==============================] - 4s 16ms/step - loss: 31.3045 - accuracy: 0.9860 - val_loss: 3087.1902 - val_accuracy: 0.2249\n",
      "Epoch 80/100\n",
      "250/250 [==============================] - 4s 16ms/step - loss: 35.9095 - accuracy: 0.9836 - val_loss: 3200.6809 - val_accuracy: 0.2244\n",
      "Epoch 81/100\n",
      "250/250 [==============================] - 4s 16ms/step - loss: 37.2990 - accuracy: 0.9836 - val_loss: 3081.5171 - val_accuracy: 0.2249\n",
      "Epoch 82/100\n",
      "250/250 [==============================] - 4s 16ms/step - loss: 41.1860 - accuracy: 0.9836 - val_loss: 3160.5669 - val_accuracy: 0.2244\n",
      "Epoch 83/100\n",
      "250/250 [==============================] - 4s 16ms/step - loss: 34.1274 - accuracy: 0.9865 - val_loss: 3122.1248 - val_accuracy: 0.2239\n",
      "Epoch 84/100\n",
      "250/250 [==============================] - 4s 16ms/step - loss: 38.8162 - accuracy: 0.9839 - val_loss: 3152.2874 - val_accuracy: 0.2244\n",
      "Epoch 85/100\n",
      "250/250 [==============================] - 4s 16ms/step - loss: 37.2085 - accuracy: 0.9870 - val_loss: 3208.8586 - val_accuracy: 0.2244\n",
      "Epoch 86/100\n",
      "250/250 [==============================] - 4s 16ms/step - loss: 34.8936 - accuracy: 0.9824 - val_loss: 3308.8489 - val_accuracy: 0.2244\n",
      "Epoch 87/100\n",
      "250/250 [==============================] - 4s 16ms/step - loss: 38.5357 - accuracy: 0.9839 - val_loss: 3240.1646 - val_accuracy: 0.2234\n",
      "Epoch 88/100\n",
      "250/250 [==============================] - 4s 17ms/step - loss: 35.9460 - accuracy: 0.9868 - val_loss: 3280.2676 - val_accuracy: 0.2244\n",
      "Epoch 89/100\n",
      "250/250 [==============================] - 4s 16ms/step - loss: 35.6273 - accuracy: 0.9841 - val_loss: 3228.7988 - val_accuracy: 0.2244\n",
      "Epoch 90/100\n",
      "250/250 [==============================] - 4s 16ms/step - loss: 35.7406 - accuracy: 0.9852 - val_loss: 3225.2502 - val_accuracy: 0.2244\n",
      "Epoch 91/100\n",
      "250/250 [==============================] - 4s 16ms/step - loss: 31.6899 - accuracy: 0.9865 - val_loss: 3269.7283 - val_accuracy: 0.2249\n",
      "Epoch 92/100\n",
      "250/250 [==============================] - 4s 16ms/step - loss: 35.3386 - accuracy: 0.9862 - val_loss: 3316.3386 - val_accuracy: 0.2244\n",
      "Epoch 93/100\n",
      "250/250 [==============================] - 4s 16ms/step - loss: 43.0214 - accuracy: 0.9810 - val_loss: 3451.0327 - val_accuracy: 0.2239\n",
      "Epoch 94/100\n",
      "250/250 [==============================] - 4s 16ms/step - loss: 34.7116 - accuracy: 0.9843 - val_loss: 3423.8994 - val_accuracy: 0.2239\n",
      "Epoch 95/100\n",
      "250/250 [==============================] - 4s 17ms/step - loss: 43.7023 - accuracy: 0.9844 - val_loss: 3321.3538 - val_accuracy: 0.2234\n",
      "Epoch 96/100\n",
      "250/250 [==============================] - 4s 16ms/step - loss: 35.0171 - accuracy: 0.9851 - val_loss: 3500.3774 - val_accuracy: 0.2234\n",
      "Epoch 97/100\n",
      "250/250 [==============================] - 4s 16ms/step - loss: 41.0521 - accuracy: 0.9846 - val_loss: 3453.9241 - val_accuracy: 0.2239\n",
      "Epoch 98/100\n",
      "250/250 [==============================] - 4s 16ms/step - loss: 39.9459 - accuracy: 0.9843 - val_loss: 3489.6899 - val_accuracy: 0.2244\n",
      "Epoch 99/100\n",
      "250/250 [==============================] - 4s 16ms/step - loss: 39.3711 - accuracy: 0.9849 - val_loss: 3488.5657 - val_accuracy: 0.2239\n",
      "Epoch 100/100\n",
      "250/250 [==============================] - 4s 16ms/step - loss: 28.3800 - accuracy: 0.9869 - val_loss: 3609.9614 - val_accuracy: 0.2234\n"
     ]
    },
    {
     "data": {
      "text/plain": "<keras.callbacks.History at 0x2e59cd490>"
     },
     "execution_count": 43,
     "metadata": {},
     "output_type": "execute_result"
    }
   ],
   "source": [
    "# 모델 학습\n",
    "model_DNN.fit(train_pca, train_y, epochs=100, batch_size=32, validation_data=(valid_pca, valid_y))"
   ],
   "metadata": {
    "collapsed": false,
    "ExecuteTime": {
     "end_time": "2023-11-25T17:07:16.087385Z",
     "start_time": "2023-11-25T17:00:43.579481Z"
    }
   },
   "id": "55f5df8dc53738ea"
  },
  {
   "cell_type": "code",
   "execution_count": 44,
   "outputs": [
    {
     "name": "stdout",
     "output_type": "stream",
     "text": [
      "63/63 [==============================] - 0s 5ms/step - loss: 3609.9614 - accuracy: 0.2234\n"
     ]
    },
    {
     "data": {
      "text/plain": "[3609.96142578125, 0.22338829934597015]"
     },
     "execution_count": 44,
     "metadata": {},
     "output_type": "execute_result"
    }
   ],
   "source": [
    "# 모델 평가\n",
    "model_DNN.evaluate(valid_pca, valid_y)"
   ],
   "metadata": {
    "collapsed": false,
    "ExecuteTime": {
     "end_time": "2023-11-25T17:07:20.808158Z",
     "start_time": "2023-11-25T17:07:20.450120Z"
    }
   },
   "id": "fcedf44f569a8d20"
  },
  {
   "cell_type": "code",
   "execution_count": null,
   "outputs": [],
   "source": [],
   "metadata": {
    "collapsed": false
   },
   "id": "e19b50dd94056777"
  }
 ],
 "metadata": {
  "kernelspec": {
   "display_name": "Python 3",
   "language": "python",
   "name": "python3"
  },
  "language_info": {
   "codemirror_mode": {
    "name": "ipython",
    "version": 2
   },
   "file_extension": ".py",
   "mimetype": "text/x-python",
   "name": "python",
   "nbconvert_exporter": "python",
   "pygments_lexer": "ipython2",
   "version": "2.7.6"
  }
 },
 "nbformat": 4,
 "nbformat_minor": 5
}
