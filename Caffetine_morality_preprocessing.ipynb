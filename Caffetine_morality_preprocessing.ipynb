{
 "cells": [
  {
   "cell_type": "code",
   "execution_count": 1,
   "id": "initial_id",
   "metadata": {
    "collapsed": true,
    "ExecuteTime": {
     "end_time": "2023-11-14T15:03:12.549654Z",
     "start_time": "2023-11-14T15:03:12.250986Z"
    }
   },
   "outputs": [],
   "source": [
    "import pandas as pd"
   ]
  },
  {
   "cell_type": "code",
   "execution_count": 3,
   "outputs": [],
   "source": [
    "age = pd.read_csv('Dataset_Caffeine_Morality/age.csv')\n",
    "all_cause = pd.read_csv('Dataset_Caffeine_Morality/all-cause.csv')\n",
    "cancer = pd.read_csv('Dataset_Caffeine_Morality/Malignant_neoplasms.csv')\n",
    "cardio = pd.read_csv('Dataset_Caffeine_Morality/Heart_diseases.csv')\n",
    "alzheimer = pd.read_csv('Dataset_Caffeine_Morality/Alzheimer_disease.csv')\n",
    "diabetes = pd.read_csv('Dataset_Caffeine_Morality/Diabetes_mellitus.csv')\n",
    "bmi = pd.read_csv('Dataset_Caffeine_Morality/BMI.csv')\n",
    "cvd = pd.read_csv('Dataset_Caffeine_Morality/CVD.csv')\n",
    "kidney = pd.read_csv('Dataset_Caffeine_Morality/Kidney_diseases.csv')"
   ],
   "metadata": {
    "collapsed": false,
    "ExecuteTime": {
     "end_time": "2023-11-14T15:07:09.634377Z",
     "start_time": "2023-11-14T15:07:09.526304Z"
    }
   },
   "id": "9c04b542ac0598aa"
  },
  {
   "cell_type": "code",
   "execution_count": 4,
   "outputs": [
    {
     "data": {
      "text/plain": "   SEQN  Caffeine  Mortstat  Gender  Age  Race    BMI  Income  Marrage  Smoke  \\\n0     5         0         0       1   49     3  29.10       0        1      1   \n1     7         2         0       2   59     4  29.39       0        1      1   \n2    12         3         0       1   37     3  30.62       0        2      2   \n3    13         1         1       1   70     1  25.57       0        1      1   \n4    25         4         1       2   42     3  37.60       0        1      1   \n\n   ...  Diabetes  Asthma  Congestive  heart failure  Coronary heart disease  \\\n0  ...         2       2                          2                       2   \n1  ...         2       2                          2                       2   \n2  ...         2       2                          2                       2   \n3  ...         1       2                          2                       2   \n4  ...         2       1                          2                       2   \n\n   Stroke  Emphysema  Chronic bronchitis  Cancer  Time  ucod_leading  \n0       2          2                   2       2   244             0  \n1       2          2                   2       2   237             0  \n2       2          2                   1       2   236             0  \n3       2          2                   2       2    16             1  \n4       2          2                   2       2   142            10  \n\n[5 rows x 32 columns]",
      "text/html": "<div>\n<style scoped>\n    .dataframe tbody tr th:only-of-type {\n        vertical-align: middle;\n    }\n\n    .dataframe tbody tr th {\n        vertical-align: top;\n    }\n\n    .dataframe thead th {\n        text-align: right;\n    }\n</style>\n<table border=\"1\" class=\"dataframe\">\n  <thead>\n    <tr style=\"text-align: right;\">\n      <th></th>\n      <th>SEQN</th>\n      <th>Caffeine</th>\n      <th>Mortstat</th>\n      <th>Gender</th>\n      <th>Age</th>\n      <th>Race</th>\n      <th>BMI</th>\n      <th>Income</th>\n      <th>Marrage</th>\n      <th>Smoke</th>\n      <th>...</th>\n      <th>Diabetes</th>\n      <th>Asthma</th>\n      <th>Congestive  heart failure</th>\n      <th>Coronary heart disease</th>\n      <th>Stroke</th>\n      <th>Emphysema</th>\n      <th>Chronic bronchitis</th>\n      <th>Cancer</th>\n      <th>Time</th>\n      <th>ucod_leading</th>\n    </tr>\n  </thead>\n  <tbody>\n    <tr>\n      <th>0</th>\n      <td>5</td>\n      <td>0</td>\n      <td>0</td>\n      <td>1</td>\n      <td>49</td>\n      <td>3</td>\n      <td>29.10</td>\n      <td>0</td>\n      <td>1</td>\n      <td>1</td>\n      <td>...</td>\n      <td>2</td>\n      <td>2</td>\n      <td>2</td>\n      <td>2</td>\n      <td>2</td>\n      <td>2</td>\n      <td>2</td>\n      <td>2</td>\n      <td>244</td>\n      <td>0</td>\n    </tr>\n    <tr>\n      <th>1</th>\n      <td>7</td>\n      <td>2</td>\n      <td>0</td>\n      <td>2</td>\n      <td>59</td>\n      <td>4</td>\n      <td>29.39</td>\n      <td>0</td>\n      <td>1</td>\n      <td>1</td>\n      <td>...</td>\n      <td>2</td>\n      <td>2</td>\n      <td>2</td>\n      <td>2</td>\n      <td>2</td>\n      <td>2</td>\n      <td>2</td>\n      <td>2</td>\n      <td>237</td>\n      <td>0</td>\n    </tr>\n    <tr>\n      <th>2</th>\n      <td>12</td>\n      <td>3</td>\n      <td>0</td>\n      <td>1</td>\n      <td>37</td>\n      <td>3</td>\n      <td>30.62</td>\n      <td>0</td>\n      <td>2</td>\n      <td>2</td>\n      <td>...</td>\n      <td>2</td>\n      <td>2</td>\n      <td>2</td>\n      <td>2</td>\n      <td>2</td>\n      <td>2</td>\n      <td>1</td>\n      <td>2</td>\n      <td>236</td>\n      <td>0</td>\n    </tr>\n    <tr>\n      <th>3</th>\n      <td>13</td>\n      <td>1</td>\n      <td>1</td>\n      <td>1</td>\n      <td>70</td>\n      <td>1</td>\n      <td>25.57</td>\n      <td>0</td>\n      <td>1</td>\n      <td>1</td>\n      <td>...</td>\n      <td>1</td>\n      <td>2</td>\n      <td>2</td>\n      <td>2</td>\n      <td>2</td>\n      <td>2</td>\n      <td>2</td>\n      <td>2</td>\n      <td>16</td>\n      <td>1</td>\n    </tr>\n    <tr>\n      <th>4</th>\n      <td>25</td>\n      <td>4</td>\n      <td>1</td>\n      <td>2</td>\n      <td>42</td>\n      <td>3</td>\n      <td>37.60</td>\n      <td>0</td>\n      <td>1</td>\n      <td>1</td>\n      <td>...</td>\n      <td>2</td>\n      <td>1</td>\n      <td>2</td>\n      <td>2</td>\n      <td>2</td>\n      <td>2</td>\n      <td>2</td>\n      <td>2</td>\n      <td>142</td>\n      <td>10</td>\n    </tr>\n  </tbody>\n</table>\n<p>5 rows × 32 columns</p>\n</div>"
     },
     "execution_count": 4,
     "metadata": {},
     "output_type": "execute_result"
    }
   ],
   "source": [
    "all_cause.head()"
   ],
   "metadata": {
    "collapsed": false,
    "ExecuteTime": {
     "end_time": "2023-11-14T15:07:18.875965Z",
     "start_time": "2023-11-14T15:07:18.870939Z"
    }
   },
   "id": "9cc12dc678d74ade"
  },
  {
   "cell_type": "code",
   "execution_count": 15,
   "outputs": [
    {
     "data": {
      "text/plain": "Index(['SEQN', 'Caffeine', 'Mortstat', 'Gender', 'Age', 'Race', 'BMI',\n       'Income', 'Marrage', 'Smoke', 'Alcohol', 'Cotinine', 'Pb', 'Cd',\n       'Fiber', 'Fat', 'Energy', 'Protein', 'Carbohydrate',\n       'Saturated fatty acids', 'Cholesterol', 'Drug for hypertension',\n       'Diabetes', 'Asthma', 'Congestive  heart failure',\n       'Coronary heart disease', 'Stroke', 'Emphysema', 'Chronic bronchitis',\n       'Cancer', 'Time', 'ucod_leading'],\n      dtype='object')"
     },
     "execution_count": 15,
     "metadata": {},
     "output_type": "execute_result"
    }
   ],
   "source": [
    "all_cause.columns"
   ],
   "metadata": {
    "collapsed": false,
    "ExecuteTime": {
     "end_time": "2023-11-14T15:13:26.011456Z",
     "start_time": "2023-11-14T15:13:26.009278Z"
    }
   },
   "id": "e31d650013ae1709"
  },
  {
   "cell_type": "code",
   "execution_count": 5,
   "outputs": [
    {
     "data": {
      "text/plain": "   SEQN  Caffeine  Mortstat  Gender  Age  Race    BMI  Income  Marrage  Smoke  \\\n0     5         0         0       1    2     3  29.10       0        1      1   \n1     7         2         0       2    2     4  29.39       0        1      1   \n2    12         3         0       1    1     3  30.62       0        2      2   \n3    13         1         1       1    3     1  25.57       0        1      1   \n4    25         4         1       2    2     3  37.60       0        1      1   \n\n   ...  Diabetes  Asthma  Congestive  heart failure  Coronary heart disease  \\\n0  ...         2       2                          2                       2   \n1  ...         2       2                          2                       2   \n2  ...         2       2                          2                       2   \n3  ...         1       2                          2                       2   \n4  ...         2       1                          2                       2   \n\n   Stroke  Emphysema  Chronic bronchitis  Cancer  Time  ucod_leading  \n0       2          2                   2       2   244             0  \n1       2          2                   2       2   237             0  \n2       2          2                   1       2   236             0  \n3       2          2                   2       2    16             1  \n4       2          2                   2       2   142            10  \n\n[5 rows x 32 columns]",
      "text/html": "<div>\n<style scoped>\n    .dataframe tbody tr th:only-of-type {\n        vertical-align: middle;\n    }\n\n    .dataframe tbody tr th {\n        vertical-align: top;\n    }\n\n    .dataframe thead th {\n        text-align: right;\n    }\n</style>\n<table border=\"1\" class=\"dataframe\">\n  <thead>\n    <tr style=\"text-align: right;\">\n      <th></th>\n      <th>SEQN</th>\n      <th>Caffeine</th>\n      <th>Mortstat</th>\n      <th>Gender</th>\n      <th>Age</th>\n      <th>Race</th>\n      <th>BMI</th>\n      <th>Income</th>\n      <th>Marrage</th>\n      <th>Smoke</th>\n      <th>...</th>\n      <th>Diabetes</th>\n      <th>Asthma</th>\n      <th>Congestive  heart failure</th>\n      <th>Coronary heart disease</th>\n      <th>Stroke</th>\n      <th>Emphysema</th>\n      <th>Chronic bronchitis</th>\n      <th>Cancer</th>\n      <th>Time</th>\n      <th>ucod_leading</th>\n    </tr>\n  </thead>\n  <tbody>\n    <tr>\n      <th>0</th>\n      <td>5</td>\n      <td>0</td>\n      <td>0</td>\n      <td>1</td>\n      <td>2</td>\n      <td>3</td>\n      <td>29.10</td>\n      <td>0</td>\n      <td>1</td>\n      <td>1</td>\n      <td>...</td>\n      <td>2</td>\n      <td>2</td>\n      <td>2</td>\n      <td>2</td>\n      <td>2</td>\n      <td>2</td>\n      <td>2</td>\n      <td>2</td>\n      <td>244</td>\n      <td>0</td>\n    </tr>\n    <tr>\n      <th>1</th>\n      <td>7</td>\n      <td>2</td>\n      <td>0</td>\n      <td>2</td>\n      <td>2</td>\n      <td>4</td>\n      <td>29.39</td>\n      <td>0</td>\n      <td>1</td>\n      <td>1</td>\n      <td>...</td>\n      <td>2</td>\n      <td>2</td>\n      <td>2</td>\n      <td>2</td>\n      <td>2</td>\n      <td>2</td>\n      <td>2</td>\n      <td>2</td>\n      <td>237</td>\n      <td>0</td>\n    </tr>\n    <tr>\n      <th>2</th>\n      <td>12</td>\n      <td>3</td>\n      <td>0</td>\n      <td>1</td>\n      <td>1</td>\n      <td>3</td>\n      <td>30.62</td>\n      <td>0</td>\n      <td>2</td>\n      <td>2</td>\n      <td>...</td>\n      <td>2</td>\n      <td>2</td>\n      <td>2</td>\n      <td>2</td>\n      <td>2</td>\n      <td>2</td>\n      <td>1</td>\n      <td>2</td>\n      <td>236</td>\n      <td>0</td>\n    </tr>\n    <tr>\n      <th>3</th>\n      <td>13</td>\n      <td>1</td>\n      <td>1</td>\n      <td>1</td>\n      <td>3</td>\n      <td>1</td>\n      <td>25.57</td>\n      <td>0</td>\n      <td>1</td>\n      <td>1</td>\n      <td>...</td>\n      <td>1</td>\n      <td>2</td>\n      <td>2</td>\n      <td>2</td>\n      <td>2</td>\n      <td>2</td>\n      <td>2</td>\n      <td>2</td>\n      <td>16</td>\n      <td>1</td>\n    </tr>\n    <tr>\n      <th>4</th>\n      <td>25</td>\n      <td>4</td>\n      <td>1</td>\n      <td>2</td>\n      <td>2</td>\n      <td>3</td>\n      <td>37.60</td>\n      <td>0</td>\n      <td>1</td>\n      <td>1</td>\n      <td>...</td>\n      <td>2</td>\n      <td>1</td>\n      <td>2</td>\n      <td>2</td>\n      <td>2</td>\n      <td>2</td>\n      <td>2</td>\n      <td>2</td>\n      <td>142</td>\n      <td>10</td>\n    </tr>\n  </tbody>\n</table>\n<p>5 rows × 32 columns</p>\n</div>"
     },
     "execution_count": 5,
     "metadata": {},
     "output_type": "execute_result"
    }
   ],
   "source": [
    "age.head()"
   ],
   "metadata": {
    "collapsed": false,
    "ExecuteTime": {
     "end_time": "2023-11-14T15:07:35.743790Z",
     "start_time": "2023-11-14T15:07:35.740703Z"
    }
   },
   "id": "8c03b737b0b97eab"
  },
  {
   "cell_type": "code",
   "execution_count": 6,
   "outputs": [
    {
     "data": {
      "text/plain": "   SEQN  Caffeine  Mortstat  Gender  Age  Race    BMI  Income  Marrage  Smoke  \\\n0     5         0         0       1   49     3  29.10       0        1      1   \n1     7         2         0       2   59     4  29.39       0        1      1   \n2    12         3         0       1   37     3  30.62       0        2      2   \n3    57         2         0       1   39     3  29.74       0        1      2   \n4    80         1         1       2   75     4  36.81       0        2      1   \n\n   ...  Diabetes  Asthma  Congestive  heart failure  Coronary heart disease  \\\n0  ...         2       2                          2                       2   \n1  ...         2       2                          2                       2   \n2  ...         2       2                          2                       2   \n3  ...         2       2                          2                       2   \n4  ...         2       2                          2                       2   \n\n   Stroke  Emphysema  Chronic bronchitis  Cancer  Time  ucod_leading  \n0       2          2                   2       2   244             0  \n1       2          2                   2       2   237             0  \n2       2          2                   1       2   236             0  \n3       2          2                   2       2   242             0  \n4       2          2                   2       1   172             1  \n\n[5 rows x 32 columns]",
      "text/html": "<div>\n<style scoped>\n    .dataframe tbody tr th:only-of-type {\n        vertical-align: middle;\n    }\n\n    .dataframe tbody tr th {\n        vertical-align: top;\n    }\n\n    .dataframe thead th {\n        text-align: right;\n    }\n</style>\n<table border=\"1\" class=\"dataframe\">\n  <thead>\n    <tr style=\"text-align: right;\">\n      <th></th>\n      <th>SEQN</th>\n      <th>Caffeine</th>\n      <th>Mortstat</th>\n      <th>Gender</th>\n      <th>Age</th>\n      <th>Race</th>\n      <th>BMI</th>\n      <th>Income</th>\n      <th>Marrage</th>\n      <th>Smoke</th>\n      <th>...</th>\n      <th>Diabetes</th>\n      <th>Asthma</th>\n      <th>Congestive  heart failure</th>\n      <th>Coronary heart disease</th>\n      <th>Stroke</th>\n      <th>Emphysema</th>\n      <th>Chronic bronchitis</th>\n      <th>Cancer</th>\n      <th>Time</th>\n      <th>ucod_leading</th>\n    </tr>\n  </thead>\n  <tbody>\n    <tr>\n      <th>0</th>\n      <td>5</td>\n      <td>0</td>\n      <td>0</td>\n      <td>1</td>\n      <td>49</td>\n      <td>3</td>\n      <td>29.10</td>\n      <td>0</td>\n      <td>1</td>\n      <td>1</td>\n      <td>...</td>\n      <td>2</td>\n      <td>2</td>\n      <td>2</td>\n      <td>2</td>\n      <td>2</td>\n      <td>2</td>\n      <td>2</td>\n      <td>2</td>\n      <td>244</td>\n      <td>0</td>\n    </tr>\n    <tr>\n      <th>1</th>\n      <td>7</td>\n      <td>2</td>\n      <td>0</td>\n      <td>2</td>\n      <td>59</td>\n      <td>4</td>\n      <td>29.39</td>\n      <td>0</td>\n      <td>1</td>\n      <td>1</td>\n      <td>...</td>\n      <td>2</td>\n      <td>2</td>\n      <td>2</td>\n      <td>2</td>\n      <td>2</td>\n      <td>2</td>\n      <td>2</td>\n      <td>2</td>\n      <td>237</td>\n      <td>0</td>\n    </tr>\n    <tr>\n      <th>2</th>\n      <td>12</td>\n      <td>3</td>\n      <td>0</td>\n      <td>1</td>\n      <td>37</td>\n      <td>3</td>\n      <td>30.62</td>\n      <td>0</td>\n      <td>2</td>\n      <td>2</td>\n      <td>...</td>\n      <td>2</td>\n      <td>2</td>\n      <td>2</td>\n      <td>2</td>\n      <td>2</td>\n      <td>2</td>\n      <td>1</td>\n      <td>2</td>\n      <td>236</td>\n      <td>0</td>\n    </tr>\n    <tr>\n      <th>3</th>\n      <td>57</td>\n      <td>2</td>\n      <td>0</td>\n      <td>1</td>\n      <td>39</td>\n      <td>3</td>\n      <td>29.74</td>\n      <td>0</td>\n      <td>1</td>\n      <td>2</td>\n      <td>...</td>\n      <td>2</td>\n      <td>2</td>\n      <td>2</td>\n      <td>2</td>\n      <td>2</td>\n      <td>2</td>\n      <td>2</td>\n      <td>2</td>\n      <td>242</td>\n      <td>0</td>\n    </tr>\n    <tr>\n      <th>4</th>\n      <td>80</td>\n      <td>1</td>\n      <td>1</td>\n      <td>2</td>\n      <td>75</td>\n      <td>4</td>\n      <td>36.81</td>\n      <td>0</td>\n      <td>2</td>\n      <td>1</td>\n      <td>...</td>\n      <td>2</td>\n      <td>2</td>\n      <td>2</td>\n      <td>2</td>\n      <td>2</td>\n      <td>2</td>\n      <td>2</td>\n      <td>1</td>\n      <td>172</td>\n      <td>1</td>\n    </tr>\n  </tbody>\n</table>\n<p>5 rows × 32 columns</p>\n</div>"
     },
     "execution_count": 6,
     "metadata": {},
     "output_type": "execute_result"
    }
   ],
   "source": [
    "cancer.head()"
   ],
   "metadata": {
    "collapsed": false,
    "ExecuteTime": {
     "end_time": "2023-11-14T15:07:47.354610Z",
     "start_time": "2023-11-14T15:07:47.350963Z"
    }
   },
   "id": "9ee17819b459e60f"
  },
  {
   "cell_type": "code",
   "execution_count": 7,
   "outputs": [
    {
     "data": {
      "text/plain": "   SEQN  Caffeine  Mortstat  Gender  Age  Race    BMI  Income  Marrage  Smoke  \\\n0     5         0         0       1   49     3  29.10       0        1      1   \n1     7         2         0       2   59     4  29.39       0        1      1   \n2    12         3         0       1   37     3  30.62       0        2      2   \n3    13         1         1       1   70     1  25.57       0        1      1   \n4    40         0         1       2   68     1  30.23       0        2      2   \n\n   ...  Diabetes  Asthma  Congestive  heart failure  Coronary heart disease  \\\n0  ...         2       2                          2                       2   \n1  ...         2       2                          2                       2   \n2  ...         2       2                          2                       2   \n3  ...         1       2                          2                       2   \n4  ...         1       2                          2                       2   \n\n   Stroke  Emphysema  Chronic bronchitis  Cancer  Time  ucod_leading  \n0       2          2                   2       2   244             0  \n1       2          2                   2       2   237             0  \n2       2          2                   1       2   236             0  \n3       2          2                   2       2    16             1  \n4       2          2                   2       2   118             1  \n\n[5 rows x 32 columns]",
      "text/html": "<div>\n<style scoped>\n    .dataframe tbody tr th:only-of-type {\n        vertical-align: middle;\n    }\n\n    .dataframe tbody tr th {\n        vertical-align: top;\n    }\n\n    .dataframe thead th {\n        text-align: right;\n    }\n</style>\n<table border=\"1\" class=\"dataframe\">\n  <thead>\n    <tr style=\"text-align: right;\">\n      <th></th>\n      <th>SEQN</th>\n      <th>Caffeine</th>\n      <th>Mortstat</th>\n      <th>Gender</th>\n      <th>Age</th>\n      <th>Race</th>\n      <th>BMI</th>\n      <th>Income</th>\n      <th>Marrage</th>\n      <th>Smoke</th>\n      <th>...</th>\n      <th>Diabetes</th>\n      <th>Asthma</th>\n      <th>Congestive  heart failure</th>\n      <th>Coronary heart disease</th>\n      <th>Stroke</th>\n      <th>Emphysema</th>\n      <th>Chronic bronchitis</th>\n      <th>Cancer</th>\n      <th>Time</th>\n      <th>ucod_leading</th>\n    </tr>\n  </thead>\n  <tbody>\n    <tr>\n      <th>0</th>\n      <td>5</td>\n      <td>0</td>\n      <td>0</td>\n      <td>1</td>\n      <td>49</td>\n      <td>3</td>\n      <td>29.10</td>\n      <td>0</td>\n      <td>1</td>\n      <td>1</td>\n      <td>...</td>\n      <td>2</td>\n      <td>2</td>\n      <td>2</td>\n      <td>2</td>\n      <td>2</td>\n      <td>2</td>\n      <td>2</td>\n      <td>2</td>\n      <td>244</td>\n      <td>0</td>\n    </tr>\n    <tr>\n      <th>1</th>\n      <td>7</td>\n      <td>2</td>\n      <td>0</td>\n      <td>2</td>\n      <td>59</td>\n      <td>4</td>\n      <td>29.39</td>\n      <td>0</td>\n      <td>1</td>\n      <td>1</td>\n      <td>...</td>\n      <td>2</td>\n      <td>2</td>\n      <td>2</td>\n      <td>2</td>\n      <td>2</td>\n      <td>2</td>\n      <td>2</td>\n      <td>2</td>\n      <td>237</td>\n      <td>0</td>\n    </tr>\n    <tr>\n      <th>2</th>\n      <td>12</td>\n      <td>3</td>\n      <td>0</td>\n      <td>1</td>\n      <td>37</td>\n      <td>3</td>\n      <td>30.62</td>\n      <td>0</td>\n      <td>2</td>\n      <td>2</td>\n      <td>...</td>\n      <td>2</td>\n      <td>2</td>\n      <td>2</td>\n      <td>2</td>\n      <td>2</td>\n      <td>2</td>\n      <td>1</td>\n      <td>2</td>\n      <td>236</td>\n      <td>0</td>\n    </tr>\n    <tr>\n      <th>3</th>\n      <td>13</td>\n      <td>1</td>\n      <td>1</td>\n      <td>1</td>\n      <td>70</td>\n      <td>1</td>\n      <td>25.57</td>\n      <td>0</td>\n      <td>1</td>\n      <td>1</td>\n      <td>...</td>\n      <td>1</td>\n      <td>2</td>\n      <td>2</td>\n      <td>2</td>\n      <td>2</td>\n      <td>2</td>\n      <td>2</td>\n      <td>2</td>\n      <td>16</td>\n      <td>1</td>\n    </tr>\n    <tr>\n      <th>4</th>\n      <td>40</td>\n      <td>0</td>\n      <td>1</td>\n      <td>2</td>\n      <td>68</td>\n      <td>1</td>\n      <td>30.23</td>\n      <td>0</td>\n      <td>2</td>\n      <td>2</td>\n      <td>...</td>\n      <td>1</td>\n      <td>2</td>\n      <td>2</td>\n      <td>2</td>\n      <td>2</td>\n      <td>2</td>\n      <td>2</td>\n      <td>2</td>\n      <td>118</td>\n      <td>1</td>\n    </tr>\n  </tbody>\n</table>\n<p>5 rows × 32 columns</p>\n</div>"
     },
     "execution_count": 7,
     "metadata": {},
     "output_type": "execute_result"
    }
   ],
   "source": [
    "cardio.head()"
   ],
   "metadata": {
    "collapsed": false,
    "ExecuteTime": {
     "end_time": "2023-11-14T15:07:49.464330Z",
     "start_time": "2023-11-14T15:07:49.461903Z"
    }
   },
   "id": "a35cad3050de52"
  },
  {
   "cell_type": "code",
   "execution_count": 8,
   "outputs": [
    {
     "data": {
      "text/plain": "   SEQN  Caffeine  Mortstat  Gender  Age  Race    BMI  Income  Marrage  Smoke  \\\n0     5         0         0       1   49     3  29.10       0        1      1   \n1     7         2         0       2   59     4  29.39       0        1      1   \n2    12         3         0       1   37     3  30.62       0        2      2   \n3    57         2         0       1   39     3  29.74       0        1      2   \n4    93         1         0       2   63     5  22.85       0        1      2   \n\n   ...  Diabetes  Asthma  Congestive  heart failure  Coronary heart disease  \\\n0  ...         2       2                          2                       2   \n1  ...         2       2                          2                       2   \n2  ...         2       2                          2                       2   \n3  ...         2       2                          2                       2   \n4  ...         2       2                          2                       2   \n\n   Stroke  Emphysema  Chronic bronchitis  Cancer  Time  ucod_leading  \n0       2          2                   2       2   244             0  \n1       2          2                   2       2   237             0  \n2       2          2                   1       2   236             0  \n3       2          2                   2       2   242             0  \n4       2          2                   2       2   243             0  \n\n[5 rows x 32 columns]",
      "text/html": "<div>\n<style scoped>\n    .dataframe tbody tr th:only-of-type {\n        vertical-align: middle;\n    }\n\n    .dataframe tbody tr th {\n        vertical-align: top;\n    }\n\n    .dataframe thead th {\n        text-align: right;\n    }\n</style>\n<table border=\"1\" class=\"dataframe\">\n  <thead>\n    <tr style=\"text-align: right;\">\n      <th></th>\n      <th>SEQN</th>\n      <th>Caffeine</th>\n      <th>Mortstat</th>\n      <th>Gender</th>\n      <th>Age</th>\n      <th>Race</th>\n      <th>BMI</th>\n      <th>Income</th>\n      <th>Marrage</th>\n      <th>Smoke</th>\n      <th>...</th>\n      <th>Diabetes</th>\n      <th>Asthma</th>\n      <th>Congestive  heart failure</th>\n      <th>Coronary heart disease</th>\n      <th>Stroke</th>\n      <th>Emphysema</th>\n      <th>Chronic bronchitis</th>\n      <th>Cancer</th>\n      <th>Time</th>\n      <th>ucod_leading</th>\n    </tr>\n  </thead>\n  <tbody>\n    <tr>\n      <th>0</th>\n      <td>5</td>\n      <td>0</td>\n      <td>0</td>\n      <td>1</td>\n      <td>49</td>\n      <td>3</td>\n      <td>29.10</td>\n      <td>0</td>\n      <td>1</td>\n      <td>1</td>\n      <td>...</td>\n      <td>2</td>\n      <td>2</td>\n      <td>2</td>\n      <td>2</td>\n      <td>2</td>\n      <td>2</td>\n      <td>2</td>\n      <td>2</td>\n      <td>244</td>\n      <td>0</td>\n    </tr>\n    <tr>\n      <th>1</th>\n      <td>7</td>\n      <td>2</td>\n      <td>0</td>\n      <td>2</td>\n      <td>59</td>\n      <td>4</td>\n      <td>29.39</td>\n      <td>0</td>\n      <td>1</td>\n      <td>1</td>\n      <td>...</td>\n      <td>2</td>\n      <td>2</td>\n      <td>2</td>\n      <td>2</td>\n      <td>2</td>\n      <td>2</td>\n      <td>2</td>\n      <td>2</td>\n      <td>237</td>\n      <td>0</td>\n    </tr>\n    <tr>\n      <th>2</th>\n      <td>12</td>\n      <td>3</td>\n      <td>0</td>\n      <td>1</td>\n      <td>37</td>\n      <td>3</td>\n      <td>30.62</td>\n      <td>0</td>\n      <td>2</td>\n      <td>2</td>\n      <td>...</td>\n      <td>2</td>\n      <td>2</td>\n      <td>2</td>\n      <td>2</td>\n      <td>2</td>\n      <td>2</td>\n      <td>1</td>\n      <td>2</td>\n      <td>236</td>\n      <td>0</td>\n    </tr>\n    <tr>\n      <th>3</th>\n      <td>57</td>\n      <td>2</td>\n      <td>0</td>\n      <td>1</td>\n      <td>39</td>\n      <td>3</td>\n      <td>29.74</td>\n      <td>0</td>\n      <td>1</td>\n      <td>2</td>\n      <td>...</td>\n      <td>2</td>\n      <td>2</td>\n      <td>2</td>\n      <td>2</td>\n      <td>2</td>\n      <td>2</td>\n      <td>2</td>\n      <td>2</td>\n      <td>242</td>\n      <td>0</td>\n    </tr>\n    <tr>\n      <th>4</th>\n      <td>93</td>\n      <td>1</td>\n      <td>0</td>\n      <td>2</td>\n      <td>63</td>\n      <td>5</td>\n      <td>22.85</td>\n      <td>0</td>\n      <td>1</td>\n      <td>2</td>\n      <td>...</td>\n      <td>2</td>\n      <td>2</td>\n      <td>2</td>\n      <td>2</td>\n      <td>2</td>\n      <td>2</td>\n      <td>2</td>\n      <td>2</td>\n      <td>243</td>\n      <td>0</td>\n    </tr>\n  </tbody>\n</table>\n<p>5 rows × 32 columns</p>\n</div>"
     },
     "execution_count": 8,
     "metadata": {},
     "output_type": "execute_result"
    }
   ],
   "source": [
    "alzheimer.head()"
   ],
   "metadata": {
    "collapsed": false,
    "ExecuteTime": {
     "end_time": "2023-11-14T15:07:50.981935Z",
     "start_time": "2023-11-14T15:07:50.978985Z"
    }
   },
   "id": "dfb21b43d3449219"
  },
  {
   "cell_type": "code",
   "execution_count": 9,
   "outputs": [
    {
     "data": {
      "text/plain": "   SEQN  Caffeine  Mortstat  Gender  Age  Race    BMI  Income  Marrage  Smoke  \\\n0     5         0         0       1   49     3  29.10       0        1      1   \n1     7         2         0       2   59     4  29.39       0        1      1   \n2    12         3         0       1   37     3  30.62       0        2      2   \n3    57         2         0       1   39     3  29.74       0        1      2   \n4    93         1         0       2   63     5  22.85       0        1      2   \n\n   ...  Diabetes  Asthma  Congestive  heart failure  Coronary heart disease  \\\n0  ...         2       2                          2                       2   \n1  ...         2       2                          2                       2   \n2  ...         2       2                          2                       2   \n3  ...         2       2                          2                       2   \n4  ...         2       2                          2                       2   \n\n   Stroke  Emphysema  Chronic bronchitis  Cancer  Time  ucod_leading  \n0       2          2                   2       2   244             0  \n1       2          2                   2       2   237             0  \n2       2          2                   1       2   236             0  \n3       2          2                   2       2   242             0  \n4       2          2                   2       2   243             0  \n\n[5 rows x 32 columns]",
      "text/html": "<div>\n<style scoped>\n    .dataframe tbody tr th:only-of-type {\n        vertical-align: middle;\n    }\n\n    .dataframe tbody tr th {\n        vertical-align: top;\n    }\n\n    .dataframe thead th {\n        text-align: right;\n    }\n</style>\n<table border=\"1\" class=\"dataframe\">\n  <thead>\n    <tr style=\"text-align: right;\">\n      <th></th>\n      <th>SEQN</th>\n      <th>Caffeine</th>\n      <th>Mortstat</th>\n      <th>Gender</th>\n      <th>Age</th>\n      <th>Race</th>\n      <th>BMI</th>\n      <th>Income</th>\n      <th>Marrage</th>\n      <th>Smoke</th>\n      <th>...</th>\n      <th>Diabetes</th>\n      <th>Asthma</th>\n      <th>Congestive  heart failure</th>\n      <th>Coronary heart disease</th>\n      <th>Stroke</th>\n      <th>Emphysema</th>\n      <th>Chronic bronchitis</th>\n      <th>Cancer</th>\n      <th>Time</th>\n      <th>ucod_leading</th>\n    </tr>\n  </thead>\n  <tbody>\n    <tr>\n      <th>0</th>\n      <td>5</td>\n      <td>0</td>\n      <td>0</td>\n      <td>1</td>\n      <td>49</td>\n      <td>3</td>\n      <td>29.10</td>\n      <td>0</td>\n      <td>1</td>\n      <td>1</td>\n      <td>...</td>\n      <td>2</td>\n      <td>2</td>\n      <td>2</td>\n      <td>2</td>\n      <td>2</td>\n      <td>2</td>\n      <td>2</td>\n      <td>2</td>\n      <td>244</td>\n      <td>0</td>\n    </tr>\n    <tr>\n      <th>1</th>\n      <td>7</td>\n      <td>2</td>\n      <td>0</td>\n      <td>2</td>\n      <td>59</td>\n      <td>4</td>\n      <td>29.39</td>\n      <td>0</td>\n      <td>1</td>\n      <td>1</td>\n      <td>...</td>\n      <td>2</td>\n      <td>2</td>\n      <td>2</td>\n      <td>2</td>\n      <td>2</td>\n      <td>2</td>\n      <td>2</td>\n      <td>2</td>\n      <td>237</td>\n      <td>0</td>\n    </tr>\n    <tr>\n      <th>2</th>\n      <td>12</td>\n      <td>3</td>\n      <td>0</td>\n      <td>1</td>\n      <td>37</td>\n      <td>3</td>\n      <td>30.62</td>\n      <td>0</td>\n      <td>2</td>\n      <td>2</td>\n      <td>...</td>\n      <td>2</td>\n      <td>2</td>\n      <td>2</td>\n      <td>2</td>\n      <td>2</td>\n      <td>2</td>\n      <td>1</td>\n      <td>2</td>\n      <td>236</td>\n      <td>0</td>\n    </tr>\n    <tr>\n      <th>3</th>\n      <td>57</td>\n      <td>2</td>\n      <td>0</td>\n      <td>1</td>\n      <td>39</td>\n      <td>3</td>\n      <td>29.74</td>\n      <td>0</td>\n      <td>1</td>\n      <td>2</td>\n      <td>...</td>\n      <td>2</td>\n      <td>2</td>\n      <td>2</td>\n      <td>2</td>\n      <td>2</td>\n      <td>2</td>\n      <td>2</td>\n      <td>2</td>\n      <td>242</td>\n      <td>0</td>\n    </tr>\n    <tr>\n      <th>4</th>\n      <td>93</td>\n      <td>1</td>\n      <td>0</td>\n      <td>2</td>\n      <td>63</td>\n      <td>5</td>\n      <td>22.85</td>\n      <td>0</td>\n      <td>1</td>\n      <td>2</td>\n      <td>...</td>\n      <td>2</td>\n      <td>2</td>\n      <td>2</td>\n      <td>2</td>\n      <td>2</td>\n      <td>2</td>\n      <td>2</td>\n      <td>2</td>\n      <td>243</td>\n      <td>0</td>\n    </tr>\n  </tbody>\n</table>\n<p>5 rows × 32 columns</p>\n</div>"
     },
     "execution_count": 9,
     "metadata": {},
     "output_type": "execute_result"
    }
   ],
   "source": [
    "diabetes.head()"
   ],
   "metadata": {
    "collapsed": false,
    "ExecuteTime": {
     "end_time": "2023-11-14T15:07:54.063200Z",
     "start_time": "2023-11-14T15:07:54.060132Z"
    }
   },
   "id": "27d3b87394b81d05"
  },
  {
   "cell_type": "code",
   "execution_count": 10,
   "outputs": [
    {
     "data": {
      "text/plain": "   SEQN  Caffeine  Mortstat  Gender  Age  Race  BMI  Income  Marrage  Smoke  \\\n0     5         0         0       1   49     3    3       0        1      1   \n1     7         2         0       2   59     4    3       0        1      1   \n2    12         3         0       1   37     3    4       0        2      2   \n3    13         1         1       1   70     1    3       0        1      1   \n4    25         4         1       2   42     3    4       0        1      1   \n\n   ...  Diabetes  Asthma  Congestive  heart failure  Coronary heart disease  \\\n0  ...         2       2                          2                       2   \n1  ...         2       2                          2                       2   \n2  ...         2       2                          2                       2   \n3  ...         1       2                          2                       2   \n4  ...         2       1                          2                       2   \n\n   Stroke  Emphysema  Chronic bronchitis  Cancer  Time  ucod_leading  \n0       2          2                   2       2   244             0  \n1       2          2                   2       2   237             0  \n2       2          2                   1       2   236             0  \n3       2          2                   2       2    16             1  \n4       2          2                   2       2   142            10  \n\n[5 rows x 32 columns]",
      "text/html": "<div>\n<style scoped>\n    .dataframe tbody tr th:only-of-type {\n        vertical-align: middle;\n    }\n\n    .dataframe tbody tr th {\n        vertical-align: top;\n    }\n\n    .dataframe thead th {\n        text-align: right;\n    }\n</style>\n<table border=\"1\" class=\"dataframe\">\n  <thead>\n    <tr style=\"text-align: right;\">\n      <th></th>\n      <th>SEQN</th>\n      <th>Caffeine</th>\n      <th>Mortstat</th>\n      <th>Gender</th>\n      <th>Age</th>\n      <th>Race</th>\n      <th>BMI</th>\n      <th>Income</th>\n      <th>Marrage</th>\n      <th>Smoke</th>\n      <th>...</th>\n      <th>Diabetes</th>\n      <th>Asthma</th>\n      <th>Congestive  heart failure</th>\n      <th>Coronary heart disease</th>\n      <th>Stroke</th>\n      <th>Emphysema</th>\n      <th>Chronic bronchitis</th>\n      <th>Cancer</th>\n      <th>Time</th>\n      <th>ucod_leading</th>\n    </tr>\n  </thead>\n  <tbody>\n    <tr>\n      <th>0</th>\n      <td>5</td>\n      <td>0</td>\n      <td>0</td>\n      <td>1</td>\n      <td>49</td>\n      <td>3</td>\n      <td>3</td>\n      <td>0</td>\n      <td>1</td>\n      <td>1</td>\n      <td>...</td>\n      <td>2</td>\n      <td>2</td>\n      <td>2</td>\n      <td>2</td>\n      <td>2</td>\n      <td>2</td>\n      <td>2</td>\n      <td>2</td>\n      <td>244</td>\n      <td>0</td>\n    </tr>\n    <tr>\n      <th>1</th>\n      <td>7</td>\n      <td>2</td>\n      <td>0</td>\n      <td>2</td>\n      <td>59</td>\n      <td>4</td>\n      <td>3</td>\n      <td>0</td>\n      <td>1</td>\n      <td>1</td>\n      <td>...</td>\n      <td>2</td>\n      <td>2</td>\n      <td>2</td>\n      <td>2</td>\n      <td>2</td>\n      <td>2</td>\n      <td>2</td>\n      <td>2</td>\n      <td>237</td>\n      <td>0</td>\n    </tr>\n    <tr>\n      <th>2</th>\n      <td>12</td>\n      <td>3</td>\n      <td>0</td>\n      <td>1</td>\n      <td>37</td>\n      <td>3</td>\n      <td>4</td>\n      <td>0</td>\n      <td>2</td>\n      <td>2</td>\n      <td>...</td>\n      <td>2</td>\n      <td>2</td>\n      <td>2</td>\n      <td>2</td>\n      <td>2</td>\n      <td>2</td>\n      <td>1</td>\n      <td>2</td>\n      <td>236</td>\n      <td>0</td>\n    </tr>\n    <tr>\n      <th>3</th>\n      <td>13</td>\n      <td>1</td>\n      <td>1</td>\n      <td>1</td>\n      <td>70</td>\n      <td>1</td>\n      <td>3</td>\n      <td>0</td>\n      <td>1</td>\n      <td>1</td>\n      <td>...</td>\n      <td>1</td>\n      <td>2</td>\n      <td>2</td>\n      <td>2</td>\n      <td>2</td>\n      <td>2</td>\n      <td>2</td>\n      <td>2</td>\n      <td>16</td>\n      <td>1</td>\n    </tr>\n    <tr>\n      <th>4</th>\n      <td>25</td>\n      <td>4</td>\n      <td>1</td>\n      <td>2</td>\n      <td>42</td>\n      <td>3</td>\n      <td>4</td>\n      <td>0</td>\n      <td>1</td>\n      <td>1</td>\n      <td>...</td>\n      <td>2</td>\n      <td>1</td>\n      <td>2</td>\n      <td>2</td>\n      <td>2</td>\n      <td>2</td>\n      <td>2</td>\n      <td>2</td>\n      <td>142</td>\n      <td>10</td>\n    </tr>\n  </tbody>\n</table>\n<p>5 rows × 32 columns</p>\n</div>"
     },
     "execution_count": 10,
     "metadata": {},
     "output_type": "execute_result"
    }
   ],
   "source": [
    "bmi.head()"
   ],
   "metadata": {
    "collapsed": false,
    "ExecuteTime": {
     "end_time": "2023-11-14T15:07:58.519743Z",
     "start_time": "2023-11-14T15:07:58.515970Z"
    }
   },
   "id": "7f2ac7b89db9c33a"
  },
  {
   "cell_type": "code",
   "execution_count": 11,
   "outputs": [
    {
     "data": {
      "text/plain": "   SEQN  Caffeine  Mortstat  Gender  Age  Race    BMI  Income  Marrage  Smoke  \\\n0     5         0         0       1   49     3  29.10       0        1      1   \n1     7         2         0       2   59     4  29.39       0        1      1   \n2    12         3         0       1   37     3  30.62       0        2      2   \n3    57         2         0       1   39     3  29.74       0        1      2   \n4    93         1         0       2   63     5  22.85       0        1      2   \n\n   ...  Diabetes  Asthma  Congestive  heart failure  Coronary heart disease  \\\n0  ...         2       2                          2                       2   \n1  ...         2       2                          2                       2   \n2  ...         2       2                          2                       2   \n3  ...         2       2                          2                       2   \n4  ...         2       2                          2                       2   \n\n   Stroke  Emphysema  Chronic bronchitis  Cancer  Time  ucod_leading  \n0       2          2                   2       2   244             0  \n1       2          2                   2       2   237             0  \n2       2          2                   1       2   236             0  \n3       2          2                   2       2   242             0  \n4       2          2                   2       2   243             0  \n\n[5 rows x 32 columns]",
      "text/html": "<div>\n<style scoped>\n    .dataframe tbody tr th:only-of-type {\n        vertical-align: middle;\n    }\n\n    .dataframe tbody tr th {\n        vertical-align: top;\n    }\n\n    .dataframe thead th {\n        text-align: right;\n    }\n</style>\n<table border=\"1\" class=\"dataframe\">\n  <thead>\n    <tr style=\"text-align: right;\">\n      <th></th>\n      <th>SEQN</th>\n      <th>Caffeine</th>\n      <th>Mortstat</th>\n      <th>Gender</th>\n      <th>Age</th>\n      <th>Race</th>\n      <th>BMI</th>\n      <th>Income</th>\n      <th>Marrage</th>\n      <th>Smoke</th>\n      <th>...</th>\n      <th>Diabetes</th>\n      <th>Asthma</th>\n      <th>Congestive  heart failure</th>\n      <th>Coronary heart disease</th>\n      <th>Stroke</th>\n      <th>Emphysema</th>\n      <th>Chronic bronchitis</th>\n      <th>Cancer</th>\n      <th>Time</th>\n      <th>ucod_leading</th>\n    </tr>\n  </thead>\n  <tbody>\n    <tr>\n      <th>0</th>\n      <td>5</td>\n      <td>0</td>\n      <td>0</td>\n      <td>1</td>\n      <td>49</td>\n      <td>3</td>\n      <td>29.10</td>\n      <td>0</td>\n      <td>1</td>\n      <td>1</td>\n      <td>...</td>\n      <td>2</td>\n      <td>2</td>\n      <td>2</td>\n      <td>2</td>\n      <td>2</td>\n      <td>2</td>\n      <td>2</td>\n      <td>2</td>\n      <td>244</td>\n      <td>0</td>\n    </tr>\n    <tr>\n      <th>1</th>\n      <td>7</td>\n      <td>2</td>\n      <td>0</td>\n      <td>2</td>\n      <td>59</td>\n      <td>4</td>\n      <td>29.39</td>\n      <td>0</td>\n      <td>1</td>\n      <td>1</td>\n      <td>...</td>\n      <td>2</td>\n      <td>2</td>\n      <td>2</td>\n      <td>2</td>\n      <td>2</td>\n      <td>2</td>\n      <td>2</td>\n      <td>2</td>\n      <td>237</td>\n      <td>0</td>\n    </tr>\n    <tr>\n      <th>2</th>\n      <td>12</td>\n      <td>3</td>\n      <td>0</td>\n      <td>1</td>\n      <td>37</td>\n      <td>3</td>\n      <td>30.62</td>\n      <td>0</td>\n      <td>2</td>\n      <td>2</td>\n      <td>...</td>\n      <td>2</td>\n      <td>2</td>\n      <td>2</td>\n      <td>2</td>\n      <td>2</td>\n      <td>2</td>\n      <td>1</td>\n      <td>2</td>\n      <td>236</td>\n      <td>0</td>\n    </tr>\n    <tr>\n      <th>3</th>\n      <td>57</td>\n      <td>2</td>\n      <td>0</td>\n      <td>1</td>\n      <td>39</td>\n      <td>3</td>\n      <td>29.74</td>\n      <td>0</td>\n      <td>1</td>\n      <td>2</td>\n      <td>...</td>\n      <td>2</td>\n      <td>2</td>\n      <td>2</td>\n      <td>2</td>\n      <td>2</td>\n      <td>2</td>\n      <td>2</td>\n      <td>2</td>\n      <td>242</td>\n      <td>0</td>\n    </tr>\n    <tr>\n      <th>4</th>\n      <td>93</td>\n      <td>1</td>\n      <td>0</td>\n      <td>2</td>\n      <td>63</td>\n      <td>5</td>\n      <td>22.85</td>\n      <td>0</td>\n      <td>1</td>\n      <td>2</td>\n      <td>...</td>\n      <td>2</td>\n      <td>2</td>\n      <td>2</td>\n      <td>2</td>\n      <td>2</td>\n      <td>2</td>\n      <td>2</td>\n      <td>2</td>\n      <td>243</td>\n      <td>0</td>\n    </tr>\n  </tbody>\n</table>\n<p>5 rows × 32 columns</p>\n</div>"
     },
     "execution_count": 11,
     "metadata": {},
     "output_type": "execute_result"
    }
   ],
   "source": [
    "cvd.head()"
   ],
   "metadata": {
    "collapsed": false,
    "ExecuteTime": {
     "end_time": "2023-11-14T15:08:04.660706Z",
     "start_time": "2023-11-14T15:08:04.648487Z"
    }
   },
   "id": "3b9f0537146e62bb"
  },
  {
   "cell_type": "code",
   "execution_count": 12,
   "outputs": [
    {
     "data": {
      "text/plain": "   SEQN  Caffeine  Mortstat  Gender  Age  Race    BMI  Income  Marrage  Smoke  \\\n0     5         0         0       1   49     3  29.10       0        1      1   \n1     7         2         0       2   59     4  29.39       0        1      1   \n2    12         3         0       1   37     3  30.62       0        2      2   \n3    57         2         0       1   39     3  29.74       0        1      2   \n4    93         1         0       2   63     5  22.85       0        1      2   \n\n   ...  Diabetes  Asthma  Congestive  heart failure  Coronary heart disease  \\\n0  ...         2       2                          2                       2   \n1  ...         2       2                          2                       2   \n2  ...         2       2                          2                       2   \n3  ...         2       2                          2                       2   \n4  ...         2       2                          2                       2   \n\n   Stroke  Emphysema  Chronic bronchitis  Cancer  Time  ucod_leading  \n0       2          2                   2       2   244             0  \n1       2          2                   2       2   237             0  \n2       2          2                   1       2   236             0  \n3       2          2                   2       2   242             0  \n4       2          2                   2       2   243             0  \n\n[5 rows x 32 columns]",
      "text/html": "<div>\n<style scoped>\n    .dataframe tbody tr th:only-of-type {\n        vertical-align: middle;\n    }\n\n    .dataframe tbody tr th {\n        vertical-align: top;\n    }\n\n    .dataframe thead th {\n        text-align: right;\n    }\n</style>\n<table border=\"1\" class=\"dataframe\">\n  <thead>\n    <tr style=\"text-align: right;\">\n      <th></th>\n      <th>SEQN</th>\n      <th>Caffeine</th>\n      <th>Mortstat</th>\n      <th>Gender</th>\n      <th>Age</th>\n      <th>Race</th>\n      <th>BMI</th>\n      <th>Income</th>\n      <th>Marrage</th>\n      <th>Smoke</th>\n      <th>...</th>\n      <th>Diabetes</th>\n      <th>Asthma</th>\n      <th>Congestive  heart failure</th>\n      <th>Coronary heart disease</th>\n      <th>Stroke</th>\n      <th>Emphysema</th>\n      <th>Chronic bronchitis</th>\n      <th>Cancer</th>\n      <th>Time</th>\n      <th>ucod_leading</th>\n    </tr>\n  </thead>\n  <tbody>\n    <tr>\n      <th>0</th>\n      <td>5</td>\n      <td>0</td>\n      <td>0</td>\n      <td>1</td>\n      <td>49</td>\n      <td>3</td>\n      <td>29.10</td>\n      <td>0</td>\n      <td>1</td>\n      <td>1</td>\n      <td>...</td>\n      <td>2</td>\n      <td>2</td>\n      <td>2</td>\n      <td>2</td>\n      <td>2</td>\n      <td>2</td>\n      <td>2</td>\n      <td>2</td>\n      <td>244</td>\n      <td>0</td>\n    </tr>\n    <tr>\n      <th>1</th>\n      <td>7</td>\n      <td>2</td>\n      <td>0</td>\n      <td>2</td>\n      <td>59</td>\n      <td>4</td>\n      <td>29.39</td>\n      <td>0</td>\n      <td>1</td>\n      <td>1</td>\n      <td>...</td>\n      <td>2</td>\n      <td>2</td>\n      <td>2</td>\n      <td>2</td>\n      <td>2</td>\n      <td>2</td>\n      <td>2</td>\n      <td>2</td>\n      <td>237</td>\n      <td>0</td>\n    </tr>\n    <tr>\n      <th>2</th>\n      <td>12</td>\n      <td>3</td>\n      <td>0</td>\n      <td>1</td>\n      <td>37</td>\n      <td>3</td>\n      <td>30.62</td>\n      <td>0</td>\n      <td>2</td>\n      <td>2</td>\n      <td>...</td>\n      <td>2</td>\n      <td>2</td>\n      <td>2</td>\n      <td>2</td>\n      <td>2</td>\n      <td>2</td>\n      <td>1</td>\n      <td>2</td>\n      <td>236</td>\n      <td>0</td>\n    </tr>\n    <tr>\n      <th>3</th>\n      <td>57</td>\n      <td>2</td>\n      <td>0</td>\n      <td>1</td>\n      <td>39</td>\n      <td>3</td>\n      <td>29.74</td>\n      <td>0</td>\n      <td>1</td>\n      <td>2</td>\n      <td>...</td>\n      <td>2</td>\n      <td>2</td>\n      <td>2</td>\n      <td>2</td>\n      <td>2</td>\n      <td>2</td>\n      <td>2</td>\n      <td>2</td>\n      <td>242</td>\n      <td>0</td>\n    </tr>\n    <tr>\n      <th>4</th>\n      <td>93</td>\n      <td>1</td>\n      <td>0</td>\n      <td>2</td>\n      <td>63</td>\n      <td>5</td>\n      <td>22.85</td>\n      <td>0</td>\n      <td>1</td>\n      <td>2</td>\n      <td>...</td>\n      <td>2</td>\n      <td>2</td>\n      <td>2</td>\n      <td>2</td>\n      <td>2</td>\n      <td>2</td>\n      <td>2</td>\n      <td>2</td>\n      <td>243</td>\n      <td>0</td>\n    </tr>\n  </tbody>\n</table>\n<p>5 rows × 32 columns</p>\n</div>"
     },
     "execution_count": 12,
     "metadata": {},
     "output_type": "execute_result"
    }
   ],
   "source": [
    "kidney.head()"
   ],
   "metadata": {
    "collapsed": false,
    "ExecuteTime": {
     "end_time": "2023-11-14T15:08:07.208297Z",
     "start_time": "2023-11-14T15:08:07.193605Z"
    }
   },
   "id": "59b9e970b27a8151"
  },
  {
   "cell_type": "code",
   "execution_count": null,
   "outputs": [],
   "source": [],
   "metadata": {
    "collapsed": false
   },
   "id": "2001e3c3be1b24a3"
  }
 ],
 "metadata": {
  "kernelspec": {
   "display_name": "Python 3",
   "language": "python",
   "name": "python3"
  },
  "language_info": {
   "codemirror_mode": {
    "name": "ipython",
    "version": 2
   },
   "file_extension": ".py",
   "mimetype": "text/x-python",
   "name": "python",
   "nbconvert_exporter": "python",
   "pygments_lexer": "ipython2",
   "version": "2.7.6"
  }
 },
 "nbformat": 4,
 "nbformat_minor": 5
}
