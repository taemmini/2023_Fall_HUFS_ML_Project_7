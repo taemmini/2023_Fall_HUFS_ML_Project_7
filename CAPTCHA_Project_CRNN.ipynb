{
  "nbformat": 4,
  "nbformat_minor": 0,
  "metadata": {
    "colab": {
      "provenance": [],
      "gpuType": "T4",
      "authorship_tag": "ABX9TyPtVv1LESr7zJB2Ue2RX+Y6",
      "include_colab_link": true
    },
    "kernelspec": {
      "name": "python3",
      "display_name": "Python 3"
    },
    "language_info": {
      "name": "python"
    },
    "accelerator": "GPU"
  },
  "cells": [
    {
      "cell_type": "markdown",
      "metadata": {
        "id": "view-in-github",
        "colab_type": "text"
      },
      "source": [
        "<a href=\"https://colab.research.google.com/github/taemmini/2023_Fall_HUFS_ML_Project_7/blob/main/CAPTCHA_Project_CRNN.ipynb\" target=\"_parent\"><img src=\"https://colab.research.google.com/assets/colab-badge.svg\" alt=\"Open In Colab\"/></a>"
      ]
    },
    {
      "cell_type": "code",
      "execution_count": 1,
      "metadata": {
        "id": "nR_wHXafYlSW"
      },
      "outputs": [],
      "source": [
        "import os\n",
        "from glob import glob\n",
        "\n",
        "import numpy as np\n",
        "import matplotlib.pyplot as plt\n",
        "import tensorflow as tf #딥러닝에 많이 쓰이는 라이브러리\n",
        "from tensorflow import keras\n",
        "from keras import layers #신경망 구성에 관한 라이브러리"
      ]
    },
    {
      "cell_type": "code",
      "source": [
        "from sklearn.model_selection import train_test_split"
      ],
      "metadata": {
        "id": "TPIhMQCG8Tsk"
      },
      "execution_count": 2,
      "outputs": []
    },
    {
      "cell_type": "code",
      "source": [
        "import cv2 #openCV"
      ],
      "metadata": {
        "id": "y2z5_1lo9SJ0"
      },
      "execution_count": 3,
      "outputs": []
    },
    {
      "cell_type": "code",
      "source": [
        "images = glob(\"/content/captcha_images/*.png\")\n",
        "print(images[0].split(os.path.sep)[3].split(\".png\")[0])"
      ],
      "metadata": {
        "colab": {
          "base_uri": "https://localhost:8080/"
        },
        "id": "-e4cHSL5xhgo",
        "outputId": "83e88767-00c2-4c4b-f25c-66786b88f13e"
      },
      "execution_count": 35,
      "outputs": [
        {
          "output_type": "stream",
          "name": "stdout",
          "text": [
            "ZE25\n"
          ]
        }
      ]
    },
    {
      "cell_type": "code",
      "source": [
        "labels = [img.split(os.path.sep)[3].split(\".png\")[0] for img in images]\n",
        "print(len(labels))"
      ],
      "metadata": {
        "colab": {
          "base_uri": "https://localhost:8080/"
        },
        "id": "V3PKh-tL1InT",
        "outputId": "f8bfe661-2425-43f4-e231-ef2b9e2be1b9"
      },
      "execution_count": 36,
      "outputs": [
        {
          "output_type": "stream",
          "name": "stdout",
          "text": [
            "9955\n"
          ]
        }
      ]
    },
    {
      "cell_type": "code",
      "source": [
        "unique_char = set(''.join(labels))\n",
        "print(unique_char)\n",
        "print(len(unique_char))"
      ],
      "metadata": {
        "colab": {
          "base_uri": "https://localhost:8080/"
        },
        "id": "b6iRzXLJ2Wqu",
        "outputId": "188d8472-a89b-4e09-b507-7b4dd2eeb2e4"
      },
      "execution_count": 37,
      "outputs": [
        {
          "output_type": "stream",
          "name": "stdout",
          "text": [
            "{'E', 'K', 'F', '6', 'R', '2', '7', '8', 'S', 'W', 'G', 'H', 'B', 'P', 'L', 'N', 'A', 'J', '5', 'T', 'U', 'V', '3', 'M', 'D', 'C', 'Y', 'Z', 'X', 'Q', '9', '4'}\n",
            "32\n"
          ]
        }
      ]
    },
    {
      "cell_type": "code",
      "source": [
        "# label 인코딩\n",
        "\n",
        "# Keras에서 제공하는 문자열 -> 숫자 label 매칭을 사용해 label을 int로 바꿈\n",
        "char_to_num = layers.experimental.preprocessing.StringLookup(\n",
        "    vocabulary = list(unique_char), num_oov_indices = 0, mask_token = None\n",
        ")\n",
        "num_to_char = layers.experimental.preprocessing.StringLookup(\n",
        "    vocabulary = char_to_num.get_vocabulary(), num_oov_indices = 0, mask_token = None, invert = True\n",
        ")"
      ],
      "metadata": {
        "colab": {
          "base_uri": "https://localhost:8080/"
        },
        "id": "IO-lpdNV2-X4",
        "outputId": "93ea7bb0-8d88-4ccc-a65b-9665fe09e730"
      },
      "execution_count": 38,
      "outputs": [
        {
          "output_type": "stream",
          "name": "stderr",
          "text": [
            "/usr/local/lib/python3.10/dist-packages/numpy/core/numeric.py:2463: FutureWarning: elementwise comparison failed; returning scalar instead, but in the future will perform elementwise comparison\n",
            "  return bool(asarray(a1 == a2).all())\n"
          ]
        }
      ]
    },
    {
      "cell_type": "code",
      "source": [
        "# 인코딩 테스트\n",
        "print(labels[0], end=\" / \")\n",
        "example = char_to_num(tf.strings.unicode_split(labels[0], input_encoding = 'UTF-8'))\n",
        "print(example)"
      ],
      "metadata": {
        "colab": {
          "base_uri": "https://localhost:8080/"
        },
        "id": "tYEf08r94qCR",
        "outputId": "f5984365-ea7b-47f1-98cc-4c2d2696c51c"
      },
      "execution_count": 39,
      "outputs": [
        {
          "output_type": "stream",
          "name": "stdout",
          "text": [
            "ZE25 / tf.Tensor([27  0  5 18], shape=(4,), dtype=int64)\n"
          ]
        }
      ]
    },
    {
      "cell_type": "code",
      "source": [
        "# 한국어도 가능한가?\n",
        "test_set = set([\"가\",\"나\",\"다\",\"라\",\"마\",\"걁\",\"샯\"])\n",
        "char_to_num_test = layers.experimental.preprocessing.StringLookup(\n",
        "    vocabulary = list(test_set), num_oov_indices = 0, mask_token = None\n",
        ")\n",
        "num_to_char_test = layers.experimental.preprocessing.StringLookup(\n",
        "    vocabulary = char_to_num_test.get_vocabulary(), num_oov_indices = 0, mask_token = None, invert = True\n",
        ")\n",
        "test_hangul_label = '가라걁다샯'\n",
        "example_hangul = char_to_num_test(tf.strings.unicode_split(test_hangul_label, input_encoding = 'UTF-8'))\n",
        "print(example_hangul)"
      ],
      "metadata": {
        "colab": {
          "base_uri": "https://localhost:8080/"
        },
        "id": "sMLrtxMO5qlL",
        "outputId": "f2926c26-4e3f-4dd9-ffd9-50ede7a10b15"
      },
      "execution_count": 40,
      "outputs": [
        {
          "output_type": "stream",
          "name": "stdout",
          "text": [
            "tf.Tensor([2 1 6 3 4], shape=(5,), dtype=int64)\n"
          ]
        }
      ]
    },
    {
      "cell_type": "code",
      "source": [
        "# 디코딩 테스트 (tf -> numpy byte array -> decode)\n",
        "\n",
        "print(tf.strings.reduce_join(num_to_char(example)).numpy().decode('utf-8'))\n",
        "print(tf.strings.reduce_join(num_to_char_test(example_hangul)).numpy().decode('utf-8'))\n",
        "\n",
        "# 문제없이 작동함을 확인"
      ],
      "metadata": {
        "colab": {
          "base_uri": "https://localhost:8080/"
        },
        "id": "XCY6tPnE67ho",
        "outputId": "209302a0-9fb5-454b-f748-df8f3e18da9a"
      },
      "execution_count": 41,
      "outputs": [
        {
          "output_type": "stream",
          "name": "stdout",
          "text": [
            "ZE25\n",
            "가라걁다샯\n"
          ]
        }
      ]
    },
    {
      "cell_type": "code",
      "source": [
        "x_train, x_test, y_train, y_test = train_test_split(images, labels, test_size=0.1, random_state=777)\n",
        "print(len(x_train), len(x_test))\n",
        "print(len(y_train), len(y_test))"
      ],
      "metadata": {
        "colab": {
          "base_uri": "https://localhost:8080/"
        },
        "id": "NnqRxbE58PqB",
        "outputId": "896e5a92-025d-4ecf-f4ec-8abaea194d57"
      },
      "execution_count": 42,
      "outputs": [
        {
          "output_type": "stream",
          "name": "stdout",
          "text": [
            "8959 996\n",
            "8959 996\n"
          ]
        }
      ]
    },
    {
      "cell_type": "code",
      "source": [
        "# 제대로 매칭되어 있는지 확인\n",
        "sample = cv2.imread(x_train[0])\n",
        "print(y_train[0])\n",
        "plt.imshow(sample)"
      ],
      "metadata": {
        "colab": {
          "base_uri": "https://localhost:8080/",
          "height": 265
        },
        "id": "c4jn9mbI9C2q",
        "outputId": "0c3f29ee-59c8-490f-fe46-9e815b03c436"
      },
      "execution_count": 43,
      "outputs": [
        {
          "output_type": "stream",
          "name": "stdout",
          "text": [
            "E96X\n"
          ]
        },
        {
          "output_type": "execute_result",
          "data": {
            "text/plain": [
              "<matplotlib.image.AxesImage at 0x7afa201a63b0>"
            ]
          },
          "metadata": {},
          "execution_count": 43
        },
        {
          "output_type": "display_data",
          "data": {
            "text/plain": [
              "<Figure size 640x480 with 1 Axes>"
            ],
            "image/png": "[encoded data removed]"
          },
          "metadata": {}
        }
      ]
    },
    {
      "cell_type": "code",
      "source": [
        "img_width = 72\n",
        "img_height = 24\n",
        "\n",
        "def encode_image(path, label):\n",
        "  img = tf.io.read_file(path)\n",
        "  img = tf.io.decode_png(img, channels=1)\n",
        "  img = tf.image.convert_image_dtype(img, tf.float32)\n",
        "  img = tf.image.resize(img, [img_height, img_width])\n",
        "  img = tf.transpose(img, perm=[1,0,2])\n",
        "\n",
        "  label = char_to_num(tf.strings.unicode_split(label, input_encoding = 'UTF-8'))\n",
        "\n",
        "  return {'image':img, 'label':label}"
      ],
      "metadata": {
        "id": "XIkBHt74D3_o"
      },
      "execution_count": 44,
      "outputs": []
    },
    {
      "cell_type": "code",
      "source": [
        "preview = encode_image(images[0], labels[0])\n",
        "print(labels[0])\n",
        "print(preview['label'])\n",
        "plt.imshow(preview['image'])"
      ],
      "metadata": {
        "colab": {
          "base_uri": "https://localhost:8080/",
          "height": 489
        },
        "id": "Iz7BNKwlGZBT",
        "outputId": "e3e13d27-57ad-459e-e03d-523d2ded777d"
      },
      "execution_count": 45,
      "outputs": [
        {
          "output_type": "stream",
          "name": "stdout",
          "text": [
            "ZE25\n",
            "tf.Tensor([27  0  5 18], shape=(4,), dtype=int64)\n"
          ]
        },
        {
          "output_type": "execute_result",
          "data": {
            "text/plain": [
              "<matplotlib.image.AxesImage at 0x7afa201ba590>"
            ]
          },
          "metadata": {},
          "execution_count": 45
        },
        {
          "output_type": "display_data",
          "data": {
            "text/plain": [
              "<Figure size 640x480 with 1 Axes>"
            ],
            "image/png": "[encoded data removed]"
          },
          "metadata": {}
        }
      ]
    },
    {
      "cell_type": "code",
      "source": [
        "# 모델에 넣을 데이터셋 구성(배치 학습이 아니기 때문에 정해진 배치사이즈마다 일정한 양의 데이터 묶음을 넣어 학습 진행)\n",
        "\n",
        "batch_size = 32\n",
        "\n",
        "# tf가 제공하는 Dataset을 사용하는게 학습이 더 빨라서 일반적으로 사용하는 것 같습니다.\n",
        "train_dataset = tf.data.Dataset.from_tensor_slices((x_train, y_train))\n",
        "train_dataset = (\n",
        "    train_dataset.map(\n",
        "        encode_image, num_parallel_calls=tf.data.experimental.AUTOTUNE\n",
        "    )\n",
        "    .batch(batch_size)\n",
        "    .prefetch(buffer_size=tf.data.experimental.AUTOTUNE)\n",
        ")\n",
        "\n",
        "test_dataset = tf.data.Dataset.from_tensor_slices((x_test, y_test))\n",
        "test_dataset = (\n",
        "    test_dataset.map(\n",
        "        encode_image, num_parallel_calls=tf.data.experimental.AUTOTUNE\n",
        "    )\n",
        "    .batch(batch_size)\n",
        "    .prefetch(buffer_size=tf.data.experimental.AUTOTUNE)\n",
        ")\n",
        "\n",
        "print(train_dataset)\n",
        "print(test_dataset)"
      ],
      "metadata": {
        "colab": {
          "base_uri": "https://localhost:8080/"
        },
        "id": "NwhhHWSqHYYs",
        "outputId": "689633f4-24c2-4c21-f9bd-fba5509e146c"
      },
      "execution_count": 46,
      "outputs": [
        {
          "output_type": "stream",
          "name": "stdout",
          "text": [
            "<_PrefetchDataset element_spec={'image': TensorSpec(shape=(None, 72, 24, 1), dtype=tf.float32, name=None), 'label': TensorSpec(shape=(None, None), dtype=tf.int64, name=None)}>\n",
            "<_PrefetchDataset element_spec={'image': TensorSpec(shape=(None, 72, 24, 1), dtype=tf.float32, name=None), 'label': TensorSpec(shape=(None, None), dtype=tf.int64, name=None)}>\n"
          ]
        }
      ]
    },
    {
      "cell_type": "code",
      "source": [
        "# CTC손실함수 정의 : 정형화된 구현 방법이 존재하여 그대로 가져왔습니다.\n",
        "\n",
        "class CTCLayer(layers.Layer):\n",
        "    def __init__(self, name=None):\n",
        "        super().__init__(name=name)\n",
        "        self.loss_fn = keras.backend.ctc_batch_cost\n",
        "\n",
        "    def call(self, y_true, y_pred):\n",
        "        # Compute the training-time loss value and add it\n",
        "        # to the layer using `self.add_loss()`.\n",
        "        batch_len = tf.cast(tf.shape(y_true)[0], dtype='int64')\n",
        "        input_length = tf.cast(tf.shape(y_pred)[1], dtype='int64')\n",
        "        label_length = tf.cast(tf.shape(y_true)[1], dtype='int64')\n",
        "\n",
        "        input_length = input_length * tf.ones(shape=(batch_len, 1), dtype='int64')\n",
        "        label_length = label_length * tf.ones(shape=(batch_len, 1), dtype='int64')\n",
        "\n",
        "        loss = self.loss_fn(y_true, y_pred, input_length, label_length)\n",
        "        self.add_loss(loss)\n",
        "\n",
        "        # At test time, just return the computed predictions\n",
        "        return y_pred"
      ],
      "metadata": {
        "id": "I3VVIHP6Ipj9"
      },
      "execution_count": 47,
      "outputs": []
    },
    {
      "cell_type": "code",
      "source": [
        "def build_model():\n",
        "    input_img = layers.Input(\n",
        "        shape=(img_width, img_height, 1), name='image', dtype='float32'\n",
        "    )\n",
        "    labels = layers.Input(name='label', shape=(None,), dtype='float32')\n",
        "\n",
        "    # Convolution, Maxpooling을 각각 두번하여 차원을 축소함\n",
        "\n",
        "    x = layers.Conv2D(\n",
        "        32,\n",
        "        (3, 3),\n",
        "        activation='relu',\n",
        "        kernel_initializer='he_normal',\n",
        "        padding='same',\n",
        "        name='Conv1',\n",
        "    )(input_img)\n",
        "    x = layers.MaxPooling2D((2, 2), name='pool1')(x)\n",
        "\n",
        "    x = layers.Conv2D(\n",
        "        64,\n",
        "        (3, 3),\n",
        "        activation='relu',\n",
        "        kernel_initializer='he_normal',\n",
        "        padding='same',\n",
        "        name='Conv2',\n",
        "    )(x)\n",
        "    x = layers.MaxPooling2D((2, 2), name='pool2')(x)\n",
        "\n",
        "    new_shape = ((img_width // 4), (img_height // 4) * 64)\n",
        "    x = layers.Reshape(target_shape=new_shape, name='reshape')(x)\n",
        "    x = layers.Dense(64, activation='relu', name='dense1')(x)\n",
        "    x = layers.Dropout(0.2)(x)\n",
        "\n",
        "    # RNN을 두 차례 사용\n",
        "    x = layers.Bidirectional(layers.LSTM(128, return_sequences=True, dropout=0.25))(x)\n",
        "    x = layers.Bidirectional(layers.LSTM(64, return_sequences=True, dropout=0.25))(x)\n",
        "\n",
        "    # 출력층 구성\n",
        "    x = layers.Dense(\n",
        "        len(char_to_num.get_vocabulary()) + 1, activation='softmax', name='dense2'\n",
        "    )(x)\n",
        "\n",
        "    # CTC 손실함수 적용\n",
        "    output = CTCLayer(name='ctc_loss')(labels, x)\n",
        "\n",
        "    # 모델 구성\n",
        "    model = keras.models.Model(\n",
        "        inputs=[input_img, labels], outputs=output, name='ocr_model_v1'\n",
        "    )\n",
        "    # 케라스에서 제공하는 최적화\n",
        "    opt = keras.optimizers.Adam()\n",
        "\n",
        "    model.compile(optimizer=opt)\n",
        "    return model"
      ],
      "metadata": {
        "id": "Zo82TYBFJAI-"
      },
      "execution_count": 48,
      "outputs": []
    },
    {
      "cell_type": "code",
      "source": [
        "# 학습\n",
        "\n",
        "model = build_model()\n",
        "\n",
        "epochs = 100\n",
        "stopping_patience = 10 # 10번의 epoch동안 개선이 없을 시 종료\n",
        "#restore_best_weights : 조기종료 후 지금까지 최적값을 냈던 가중치를 다시 선택함\n",
        "early_stopping = keras.callbacks.EarlyStopping(\n",
        "    monitor='val_loss', patience=stopping_patience, restore_best_weights=True\n",
        ")\n",
        "\n",
        "history = model.fit(\n",
        "    train_dataset,\n",
        "    validation_data = test_dataset,\n",
        "    epochs = epochs,\n",
        "    callbacks=[early_stopping],\n",
        ")"
      ],
      "metadata": {
        "colab": {
          "base_uri": "https://localhost:8080/"
        },
        "id": "Dl0epy3WLKAH",
        "outputId": "fcba5020-53fc-4647-8a99-963f440f738a"
      },
      "execution_count": 49,
      "outputs": [
        {
          "output_type": "stream",
          "name": "stdout",
          "text": [
            "Epoch 1/100\n",
            "280/280 [==============================] - 22s 45ms/step - loss: 15.6520 - val_loss: 15.3166\n",
            "Epoch 2/100\n",
            "280/280 [==============================] - 10s 34ms/step - loss: 14.8478 - val_loss: 14.2291\n",
            "Epoch 3/100\n",
            "280/280 [==============================] - 12s 43ms/step - loss: 13.6264 - val_loss: 12.5401\n",
            "Epoch 4/100\n",
            "280/280 [==============================] - 11s 39ms/step - loss: 11.8068 - val_loss: 10.4593\n",
            "Epoch 5/100\n",
            "280/280 [==============================] - 11s 39ms/step - loss: 10.0909 - val_loss: 8.8923\n",
            "Epoch 6/100\n",
            "280/280 [==============================] - 11s 39ms/step - loss: 8.7374 - val_loss: 7.6323\n",
            "Epoch 7/100\n",
            "280/280 [==============================] - 11s 40ms/step - loss: 7.4669 - val_loss: 6.2278\n",
            "Epoch 8/100\n",
            "280/280 [==============================] - 11s 39ms/step - loss: 6.2339 - val_loss: 4.9429\n",
            "Epoch 9/100\n",
            "280/280 [==============================] - 10s 37ms/step - loss: 5.2355 - val_loss: 4.1256\n",
            "Epoch 10/100\n",
            "280/280 [==============================] - 14s 49ms/step - loss: 4.4278 - val_loss: 3.6179\n",
            "Epoch 11/100\n",
            "280/280 [==============================] - 18s 63ms/step - loss: 3.7784 - val_loss: 2.9201\n",
            "Epoch 12/100\n",
            "280/280 [==============================] - 17s 62ms/step - loss: 3.1828 - val_loss: 2.2420\n",
            "Epoch 13/100\n",
            "280/280 [==============================] - 11s 41ms/step - loss: 2.6623 - val_loss: 1.7978\n",
            "Epoch 14/100\n",
            "280/280 [==============================] - 11s 39ms/step - loss: 2.2591 - val_loss: 1.5153\n",
            "Epoch 15/100\n",
            "280/280 [==============================] - 11s 39ms/step - loss: 1.9149 - val_loss: 1.2703\n",
            "Epoch 16/100\n",
            "280/280 [==============================] - 9s 34ms/step - loss: 1.6282 - val_loss: 1.0280\n",
            "Epoch 17/100\n",
            "280/280 [==============================] - 12s 43ms/step - loss: 1.4104 - val_loss: 0.9696\n",
            "Epoch 18/100\n",
            "280/280 [==============================] - 12s 44ms/step - loss: 1.2847 - val_loss: 0.8161\n",
            "Epoch 19/100\n",
            "280/280 [==============================] - 11s 39ms/step - loss: 1.1121 - val_loss: 0.7027\n",
            "Epoch 20/100\n",
            "280/280 [==============================] - 12s 42ms/step - loss: 0.9972 - val_loss: 0.6243\n",
            "Epoch 21/100\n",
            "280/280 [==============================] - 12s 44ms/step - loss: 0.8895 - val_loss: 0.6063\n",
            "Epoch 22/100\n",
            "280/280 [==============================] - 11s 40ms/step - loss: 0.8071 - val_loss: 0.5351\n",
            "Epoch 23/100\n",
            "280/280 [==============================] - 10s 37ms/step - loss: 0.7530 - val_loss: 0.4976\n",
            "Epoch 24/100\n",
            "280/280 [==============================] - 13s 48ms/step - loss: 0.6754 - val_loss: 0.4227\n",
            "Epoch 25/100\n",
            "280/280 [==============================] - 11s 39ms/step - loss: 0.6008 - val_loss: 0.4001\n",
            "Epoch 26/100\n",
            "280/280 [==============================] - 11s 40ms/step - loss: 0.5849 - val_loss: 0.3919\n",
            "Epoch 27/100\n",
            "280/280 [==============================] - 13s 45ms/step - loss: 0.5299 - val_loss: 0.3237\n",
            "Epoch 28/100\n",
            "280/280 [==============================] - 10s 37ms/step - loss: 0.4933 - val_loss: 0.3308\n",
            "Epoch 29/100\n",
            "280/280 [==============================] - 11s 39ms/step - loss: 0.4858 - val_loss: 0.3056\n",
            "Epoch 30/100\n",
            "280/280 [==============================] - 11s 39ms/step - loss: 0.4297 - val_loss: 0.2634\n",
            "Epoch 31/100\n",
            "280/280 [==============================] - 10s 34ms/step - loss: 0.3765 - val_loss: 0.2294\n",
            "Epoch 32/100\n",
            "280/280 [==============================] - 12s 42ms/step - loss: 0.3570 - val_loss: 0.2263\n",
            "Epoch 33/100\n",
            "280/280 [==============================] - 12s 43ms/step - loss: 0.3645 - val_loss: 0.2455\n",
            "Epoch 34/100\n",
            "280/280 [==============================] - 10s 36ms/step - loss: 0.3266 - val_loss: 0.2430\n",
            "Epoch 35/100\n",
            "280/280 [==============================] - 11s 39ms/step - loss: 0.3244 - val_loss: 0.1832\n",
            "Epoch 36/100\n",
            "280/280 [==============================] - 12s 41ms/step - loss: 0.2873 - val_loss: 0.1847\n",
            "Epoch 37/100\n",
            "280/280 [==============================] - 11s 40ms/step - loss: 0.2674 - val_loss: 0.1909\n",
            "Epoch 38/100\n",
            "280/280 [==============================] - 10s 37ms/step - loss: 0.2464 - val_loss: 0.1751\n",
            "Epoch 39/100\n",
            "280/280 [==============================] - 12s 43ms/step - loss: 0.2458 - val_loss: 0.1690\n",
            "Epoch 40/100\n",
            "280/280 [==============================] - 12s 43ms/step - loss: 0.2468 - val_loss: 0.1528\n",
            "Epoch 41/100\n",
            "280/280 [==============================] - 10s 35ms/step - loss: 0.2048 - val_loss: 0.1953\n",
            "Epoch 42/100\n",
            "280/280 [==============================] - 11s 39ms/step - loss: 0.2128 - val_loss: 0.1474\n",
            "Epoch 43/100\n",
            "280/280 [==============================] - 11s 38ms/step - loss: 0.2277 - val_loss: 0.1552\n",
            "Epoch 44/100\n",
            "280/280 [==============================] - 10s 35ms/step - loss: 0.2072 - val_loss: 0.1264\n",
            "Epoch 45/100\n",
            "280/280 [==============================] - 11s 39ms/step - loss: 0.2151 - val_loss: 0.1103\n",
            "Epoch 46/100\n",
            "280/280 [==============================] - 11s 39ms/step - loss: 0.1851 - val_loss: 0.0777\n",
            "Epoch 47/100\n",
            "280/280 [==============================] - 11s 39ms/step - loss: 0.1646 - val_loss: 0.0884\n",
            "Epoch 48/100\n",
            "280/280 [==============================] - 11s 38ms/step - loss: 0.1451 - val_loss: 0.0684\n",
            "Epoch 49/100\n",
            "280/280 [==============================] - 10s 37ms/step - loss: 0.1432 - val_loss: 0.0637\n",
            "Epoch 50/100\n",
            "280/280 [==============================] - 11s 39ms/step - loss: 0.1287 - val_loss: 0.0924\n",
            "Epoch 51/100\n",
            "280/280 [==============================] - 9s 34ms/step - loss: 0.1421 - val_loss: 0.0547\n",
            "Epoch 52/100\n",
            "280/280 [==============================] - 11s 39ms/step - loss: 0.1108 - val_loss: 0.0614\n",
            "Epoch 53/100\n",
            "280/280 [==============================] - 11s 38ms/step - loss: 0.1285 - val_loss: 0.0584\n",
            "Epoch 54/100\n",
            "280/280 [==============================] - 9s 33ms/step - loss: 0.1456 - val_loss: 0.0660\n",
            "Epoch 55/100\n",
            "280/280 [==============================] - 11s 39ms/step - loss: 0.1138 - val_loss: 0.0480\n",
            "Epoch 56/100\n",
            "280/280 [==============================] - 11s 39ms/step - loss: 0.1077 - val_loss: 0.0569\n",
            "Epoch 57/100\n",
            "280/280 [==============================] - 11s 38ms/step - loss: 0.1035 - val_loss: 0.0686\n",
            "Epoch 58/100\n",
            "280/280 [==============================] - 11s 40ms/step - loss: 0.1010 - val_loss: 0.0663\n",
            "Epoch 59/100\n",
            "280/280 [==============================] - 14s 50ms/step - loss: 0.1106 - val_loss: 0.0612\n",
            "Epoch 60/100\n",
            "280/280 [==============================] - 12s 42ms/step - loss: 0.1051 - val_loss: 0.0553\n",
            "Epoch 61/100\n",
            "280/280 [==============================] - 13s 47ms/step - loss: 0.0884 - val_loss: 0.0628\n",
            "Epoch 62/100\n",
            "280/280 [==============================] - 11s 39ms/step - loss: 0.0871 - val_loss: 0.0503\n",
            "Epoch 63/100\n",
            "280/280 [==============================] - 11s 40ms/step - loss: 0.1024 - val_loss: 0.0705\n",
            "Epoch 64/100\n",
            "280/280 [==============================] - 11s 39ms/step - loss: 0.0983 - val_loss: 0.0551\n",
            "Epoch 65/100\n",
            "280/280 [==============================] - 10s 34ms/step - loss: 0.1169 - val_loss: 0.0472\n",
            "Epoch 66/100\n",
            "280/280 [==============================] - 11s 39ms/step - loss: 0.0823 - val_loss: 0.0511\n",
            "Epoch 67/100\n",
            "280/280 [==============================] - 12s 42ms/step - loss: 0.0942 - val_loss: 0.0446\n",
            "Epoch 68/100\n",
            "280/280 [==============================] - 12s 42ms/step - loss: 0.0907 - val_loss: 0.0437\n",
            "Epoch 69/100\n",
            "280/280 [==============================] - 11s 38ms/step - loss: 0.0865 - val_loss: 0.0445\n",
            "Epoch 70/100\n",
            "280/280 [==============================] - 11s 38ms/step - loss: 0.0678 - val_loss: 0.0511\n",
            "Epoch 71/100\n",
            "280/280 [==============================] - 11s 40ms/step - loss: 0.0573 - val_loss: 0.0621\n",
            "Epoch 72/100\n",
            "280/280 [==============================] - 11s 39ms/step - loss: 0.0699 - val_loss: 0.0867\n",
            "Epoch 73/100\n",
            "280/280 [==============================] - 10s 34ms/step - loss: 0.0847 - val_loss: 0.0591\n",
            "Epoch 74/100\n",
            "280/280 [==============================] - 10s 36ms/step - loss: 0.0751 - val_loss: 0.0468\n",
            "Epoch 75/100\n",
            "280/280 [==============================] - 12s 42ms/step - loss: 0.0479 - val_loss: 0.0555\n",
            "Epoch 76/100\n",
            "280/280 [==============================] - 12s 43ms/step - loss: 0.0775 - val_loss: 0.0421\n",
            "Epoch 77/100\n",
            "280/280 [==============================] - 10s 37ms/step - loss: 0.0563 - val_loss: 0.0520\n",
            "Epoch 78/100\n",
            "280/280 [==============================] - 11s 39ms/step - loss: 0.0825 - val_loss: 0.0539\n",
            "Epoch 79/100\n",
            "280/280 [==============================] - 13s 47ms/step - loss: 0.0688 - val_loss: 0.0582\n",
            "Epoch 80/100\n",
            "280/280 [==============================] - 11s 39ms/step - loss: 0.0505 - val_loss: 0.0580\n",
            "Epoch 81/100\n",
            "280/280 [==============================] - 11s 39ms/step - loss: 0.0429 - val_loss: 0.0521\n",
            "Epoch 82/100\n",
            "280/280 [==============================] - 11s 38ms/step - loss: 0.0701 - val_loss: 0.0547\n",
            "Epoch 83/100\n",
            "280/280 [==============================] - 11s 39ms/step - loss: 0.0968 - val_loss: 0.0935\n",
            "Epoch 84/100\n",
            "280/280 [==============================] - 11s 38ms/step - loss: 0.0646 - val_loss: 0.0551\n",
            "Epoch 85/100\n",
            "280/280 [==============================] - 11s 38ms/step - loss: 0.0645 - val_loss: 0.0634\n",
            "Epoch 86/100\n",
            "280/280 [==============================] - 12s 44ms/step - loss: 0.0551 - val_loss: 0.0580\n"
          ]
        }
      ]
    },
    {
      "cell_type": "code",
      "source": [
        "label_length = [len(label) for label in labels]\n",
        "max_length = max(label_length)"
      ],
      "metadata": {
        "id": "IS_7oQVPTPJB"
      },
      "execution_count": 50,
      "outputs": []
    },
    {
      "cell_type": "code",
      "source": [
        "# 입력층, 출력층을 설정하여 예측 모델을 구성\n",
        "prediction_model = keras.models.Model(\n",
        "  model.get_layer(name='image').input, model.get_layer(name='dense2').output\n",
        ")\n",
        "\n",
        "# 실제로 예측을 하기 위한 코드\n",
        "def decode_batch_predictions(pred):\n",
        "    input_len = np.ones(pred.shape[0]) * pred.shape[1]\n",
        "    results = keras.backend.ctc_decode(pred, input_length=input_len, greedy=True)[0][0][:, :max_length]\n",
        "    output_text = []\n",
        "    # encode된 글자를 복원하여 리스트에 저장\n",
        "    for res in results:\n",
        "        res = tf.strings.reduce_join(num_to_char(res)).numpy().decode('utf-8')\n",
        "        output_text.append(res)\n",
        "    return output_text\n",
        "\n",
        "# test_dataset에서, 1batch만큼을 꺼내서 예측을 시도\n",
        "for batch in test_dataset.take(1):\n",
        "    batch_images = batch['image']\n",
        "\n",
        "    preds = prediction_model.predict(batch_images)\n",
        "    pred_texts = decode_batch_predictions(preds)\n",
        "\n",
        "    _, axes = plt.subplots(3, 3, figsize=(9, 5))\n",
        "\n",
        "    for img, text, ax in zip(batch_images, pred_texts, axes.flatten()):\n",
        "        img = img.numpy().squeeze()\n",
        "        img = img.T # 이미지처리 과정에서 Transpose했던 것을 다시 복구함\n",
        "\n",
        "        ax.imshow(img, cmap='gray')\n",
        "        ax.set_title(text)\n",
        "        ax.set_axis_off()"
      ],
      "metadata": {
        "colab": {
          "base_uri": "https://localhost:8080/",
          "height": 418
        },
        "id": "wJR0h0Z5Stm8",
        "outputId": "45ab199d-b20f-4cb0-b85e-4d1e78f19a74"
      },
      "execution_count": 55,
      "outputs": [
        {
          "output_type": "stream",
          "name": "stdout",
          "text": [
            "1/1 [==============================] - 6s 6s/step\n"
          ]
        },
        {
          "output_type": "display_data",
          "data": {
            "text/plain": [
              "<Figure size 900x500 with 9 Axes>"
            ],
            "image/png": "[encoded data removed]"
          },
          "metadata": {}
        }
      ]
    },
    {
      "cell_type": "code",
      "source": [
        "!mkdir -p models"
      ],
      "metadata": {
        "id": "wTkqYhW8jjnC"
      },
      "execution_count": 53,
      "outputs": []
    },
    {
      "cell_type": "code",
      "source": [
        "model.save(\"/content/models\")"
      ],
      "metadata": {
        "id": "F1kdVy-0iv5d"
      },
      "execution_count": 54,
      "outputs": []
    }
  ]
}